{
 "cells": [
  {
   "cell_type": "markdown",
   "id": "69541880",
   "metadata": {},
   "source": [
    "# Introduction\n",
    "Hi! I am **Mark Wilson Mendoza**, and this project explores my **Spotify Streaming History** using **Python**.  \n",
    "My goal is to uncover insights about my personal listening habits and practice querying data using **SQL**.  \n",
    "The dataset comes from Spotify's Extended Streaming History, which you can request from their [Privacy Settings](https://www.spotify.com/us/account/privacy/).  \n",
    "To get your own data:\n",
    "1. Scroll to **Download your data** \n",
    "2. Tick the box for **Extended Streaming History**\n",
    "3. Submit your request and wait for the download link via email (mine arrived after ~3 days)"
   ]
  },
  {
   "cell_type": "markdown",
   "id": "14209873",
   "metadata": {},
   "source": [
    "The Spotify data includes both your audio and video streaming activity, along with a PDF file that describes the provided files.  \n",
    "In this project, the dataset covers streams from **December 13, 2021 to June 18, 2025**  \n",
    "**Here is an example of one song streaming data:**\n",
    "![](images/song_stream_data.png)  \n",
    "**The following table explains the technical data:**\n",
    "![](images/column_description_0.png)\n",
    "![](images/column_description_1.png)"
   ]
  },
  {
   "cell_type": "markdown",
   "id": "6b63c33a",
   "metadata": {},
   "source": [
    "Before the analysis, we need to install and import some essential libraries:\n",
    "- warnings (optional) - suppress runtime warnings\n",
    "- json - Load data from Spotify's JSON files\n",
    "- pandas - Data wrangling and manipulation\n",
    "- matplotlib - Static data visualization\n",
    "- plotly - Interactive plots\n",
    "- sqlalchemy and sqlite3 - Relational database and SQL integration"
   ]
  },
  {
   "cell_type": "code",
   "execution_count": 1,
   "id": "5403f627",
   "metadata": {},
   "outputs": [],
   "source": [
    "import warnings\n",
    "import json\n",
    "import pandas as pd\n",
    "import matplotlib.pyplot as plt\n",
    "import plotly.express as px\n",
    "from sqlalchemy import create_engine\n",
    "import sqlite3\n",
    "\n",
    "warnings.filterwarnings(\"ignore\")"
   ]
  },
  {
   "cell_type": "markdown",
   "id": "b621dd77",
   "metadata": {},
   "source": [
    "# Loading and Cleaning the Data\n",
    "Since Spotify splits the extended streaming history into multiple JSON files, the first step is to load and combine them into a single dataset.  \n",
    "We can then inspect the dataset and see the **column names**."
   ]
  },
  {
   "cell_type": "code",
   "execution_count": 2,
   "id": "976e9816",
   "metadata": {},
   "outputs": [
    {
     "name": "stdout",
     "output_type": "stream",
     "text": [
      "Index(['ts', 'platform', 'ms_played', 'conn_country', 'ip_addr',\n",
      "       'master_metadata_track_name', 'master_metadata_album_artist_name',\n",
      "       'master_metadata_album_album_name', 'spotify_track_uri', 'episode_name',\n",
      "       'episode_show_name', 'spotify_episode_uri', 'audiobook_title',\n",
      "       'audiobook_uri', 'audiobook_chapter_uri', 'audiobook_chapter_title',\n",
      "       'reason_start', 'reason_end', 'shuffle', 'skipped', 'offline',\n",
      "       'offline_timestamp', 'incognito_mode'],\n",
      "      dtype='object')\n"
     ]
    }
   ],
   "source": [
    "# Opens the JSON files and loads them into pandas DataFrames\n",
    "with open(\"data/Streaming_History_Audio_2021-2024_0.json\", encoding=\"utf-8\") as a:\n",
    "    a_data = json.load(a)\n",
    "\n",
    "with open(\"data/Streaming_History_Audio_2024-2025_1.json\", encoding=\"utf-8\") as b:\n",
    "    b_data = json.load(b)\n",
    "\n",
    "with open(\"data/Streaming_History_Audio_2025_2.json\", encoding=\"utf-8\") as c:\n",
    "    c_data = json.load(c)\n",
    "    \n",
    "a_data = pd.json_normalize(a_data)\n",
    "b_data = pd.json_normalize(b_data) # Normalize the JSON data into a flat table\n",
    "c_data = pd.json_normalize(c_data)\n",
    "\n",
    "df = pd.concat([a_data, b_data, c_data], ignore_index=True) # Combines the DataFrames into one\n",
    "print(df.columns)"
   ]
  },
  {
   "cell_type": "markdown",
   "id": "848d5499",
   "metadata": {},
   "source": [
    "The timestamps in the dataset are in UTC, so we need to convert them to **Philippine Time (UTC+8)** for a better time analysis.  \n",
    "We also only focus on the most relevant columns:  \n",
    "- time\n",
    "- platform\n",
    "- duration played\n",
    "- song title\n",
    "- artist name\n",
    "- album name\n",
    "- skipped status"
   ]
  },
  {
   "cell_type": "code",
   "execution_count": 3,
   "id": "65f75fc4",
   "metadata": {},
   "outputs": [
    {
     "data": {
      "text/html": [
       "<div>\n",
       "<style scoped>\n",
       "    .dataframe tbody tr th:only-of-type {\n",
       "        vertical-align: middle;\n",
       "    }\n",
       "\n",
       "    .dataframe tbody tr th {\n",
       "        vertical-align: top;\n",
       "    }\n",
       "\n",
       "    .dataframe thead th {\n",
       "        text-align: right;\n",
       "    }\n",
       "</style>\n",
       "<table border=\"1\" class=\"dataframe\">\n",
       "  <thead>\n",
       "    <tr style=\"text-align: right;\">\n",
       "      <th></th>\n",
       "      <th>index</th>\n",
       "      <th>time</th>\n",
       "      <th>platform</th>\n",
       "      <th>ms_played</th>\n",
       "      <th>song</th>\n",
       "      <th>artist</th>\n",
       "      <th>album</th>\n",
       "      <th>skipped</th>\n",
       "    </tr>\n",
       "  </thead>\n",
       "  <tbody>\n",
       "    <tr>\n",
       "      <th>0</th>\n",
       "      <td>0</td>\n",
       "      <td>2021-12-13 22:29:52+08:00</td>\n",
       "      <td>Windows 10 (10.0.19043; x64)</td>\n",
       "      <td>198053</td>\n",
       "      <td>The Feels</td>\n",
       "      <td>TWICE</td>\n",
       "      <td>Formula of Love: O+T=&lt;3</td>\n",
       "      <td>False</td>\n",
       "    </tr>\n",
       "    <tr>\n",
       "      <th>1</th>\n",
       "      <td>1</td>\n",
       "      <td>2021-12-13 22:33:07+08:00</td>\n",
       "      <td>Windows 10 (10.0.19043; x64)</td>\n",
       "      <td>194600</td>\n",
       "      <td>SCIENTIST</td>\n",
       "      <td>TWICE</td>\n",
       "      <td>Formula of Love: O+T=&lt;3</td>\n",
       "      <td>False</td>\n",
       "    </tr>\n",
       "    <tr>\n",
       "      <th>2</th>\n",
       "      <td>2</td>\n",
       "      <td>2021-12-13 22:36:39+08:00</td>\n",
       "      <td>Windows 10 (10.0.19043; x64)</td>\n",
       "      <td>210573</td>\n",
       "      <td>Alcohol-Free</td>\n",
       "      <td>TWICE</td>\n",
       "      <td>Taste of Love</td>\n",
       "      <td>False</td>\n",
       "    </tr>\n",
       "    <tr>\n",
       "      <th>3</th>\n",
       "      <td>3</td>\n",
       "      <td>2021-12-13 22:40:04+08:00</td>\n",
       "      <td>Windows 10 (10.0.19043; x64)</td>\n",
       "      <td>205493</td>\n",
       "      <td>I CAN'T STOP ME</td>\n",
       "      <td>TWICE</td>\n",
       "      <td>Eyes Wide Open</td>\n",
       "      <td>False</td>\n",
       "    </tr>\n",
       "    <tr>\n",
       "      <th>4</th>\n",
       "      <td>4</td>\n",
       "      <td>2021-12-13 22:44:04+08:00</td>\n",
       "      <td>Windows 10 (10.0.19043; x64)</td>\n",
       "      <td>208240</td>\n",
       "      <td>What is Love</td>\n",
       "      <td>TWICE</td>\n",
       "      <td>Summer Nights</td>\n",
       "      <td>False</td>\n",
       "    </tr>\n",
       "    <tr>\n",
       "      <th>5</th>\n",
       "      <td>5</td>\n",
       "      <td>2021-12-13 22:47:38+08:00</td>\n",
       "      <td>Windows 10 (10.0.19043; x64)</td>\n",
       "      <td>213880</td>\n",
       "      <td>FANCY</td>\n",
       "      <td>TWICE</td>\n",
       "      <td>FANCY YOU</td>\n",
       "      <td>False</td>\n",
       "    </tr>\n",
       "    <tr>\n",
       "      <th>6</th>\n",
       "      <td>6</td>\n",
       "      <td>2021-12-13 22:51:06+08:00</td>\n",
       "      <td>Windows 10 (10.0.19043; x64)</td>\n",
       "      <td>206866</td>\n",
       "      <td>Feel Special</td>\n",
       "      <td>TWICE</td>\n",
       "      <td>Feel Special</td>\n",
       "      <td>False</td>\n",
       "    </tr>\n",
       "    <tr>\n",
       "      <th>7</th>\n",
       "      <td>7</td>\n",
       "      <td>2021-12-13 22:54:30+08:00</td>\n",
       "      <td>Windows 10 (10.0.19043; x64)</td>\n",
       "      <td>204167</td>\n",
       "      <td>CRY FOR ME</td>\n",
       "      <td>TWICE</td>\n",
       "      <td>CRY FOR ME</td>\n",
       "      <td>False</td>\n",
       "    </tr>\n",
       "    <tr>\n",
       "      <th>8</th>\n",
       "      <td>8</td>\n",
       "      <td>2021-12-13 22:57:57+08:00</td>\n",
       "      <td>Windows 10 (10.0.19043; x64)</td>\n",
       "      <td>176160</td>\n",
       "      <td>ICON</td>\n",
       "      <td>TWICE</td>\n",
       "      <td>Formula of Love: O+T=&lt;3</td>\n",
       "      <td>False</td>\n",
       "    </tr>\n",
       "    <tr>\n",
       "      <th>9</th>\n",
       "      <td>9</td>\n",
       "      <td>2021-12-13 23:04:25+08:00</td>\n",
       "      <td>Windows 10 (10.0.19043; x64)</td>\n",
       "      <td>219386</td>\n",
       "      <td>MOONLIGHT</td>\n",
       "      <td>TWICE</td>\n",
       "      <td>Formula of Love: O+T=&lt;3</td>\n",
       "      <td>False</td>\n",
       "    </tr>\n",
       "  </tbody>\n",
       "</table>\n",
       "</div>"
      ],
      "text/plain": [
       "   index                      time                      platform  ms_played  \\\n",
       "0      0 2021-12-13 22:29:52+08:00  Windows 10 (10.0.19043; x64)     198053   \n",
       "1      1 2021-12-13 22:33:07+08:00  Windows 10 (10.0.19043; x64)     194600   \n",
       "2      2 2021-12-13 22:36:39+08:00  Windows 10 (10.0.19043; x64)     210573   \n",
       "3      3 2021-12-13 22:40:04+08:00  Windows 10 (10.0.19043; x64)     205493   \n",
       "4      4 2021-12-13 22:44:04+08:00  Windows 10 (10.0.19043; x64)     208240   \n",
       "5      5 2021-12-13 22:47:38+08:00  Windows 10 (10.0.19043; x64)     213880   \n",
       "6      6 2021-12-13 22:51:06+08:00  Windows 10 (10.0.19043; x64)     206866   \n",
       "7      7 2021-12-13 22:54:30+08:00  Windows 10 (10.0.19043; x64)     204167   \n",
       "8      8 2021-12-13 22:57:57+08:00  Windows 10 (10.0.19043; x64)     176160   \n",
       "9      9 2021-12-13 23:04:25+08:00  Windows 10 (10.0.19043; x64)     219386   \n",
       "\n",
       "              song artist                    album  skipped  \n",
       "0        The Feels  TWICE  Formula of Love: O+T=<3    False  \n",
       "1        SCIENTIST  TWICE  Formula of Love: O+T=<3    False  \n",
       "2     Alcohol-Free  TWICE            Taste of Love    False  \n",
       "3  I CAN'T STOP ME  TWICE           Eyes Wide Open    False  \n",
       "4     What is Love  TWICE            Summer Nights    False  \n",
       "5            FANCY  TWICE                FANCY YOU    False  \n",
       "6     Feel Special  TWICE             Feel Special    False  \n",
       "7       CRY FOR ME  TWICE               CRY FOR ME    False  \n",
       "8             ICON  TWICE  Formula of Love: O+T=<3    False  \n",
       "9        MOONLIGHT  TWICE  Formula of Love: O+T=<3    False  "
      ]
     },
     "execution_count": 3,
     "metadata": {},
     "output_type": "execute_result"
    }
   ],
   "source": [
    "df[\"ts\"] = pd.to_datetime(df[\"ts\"], format=\"ISO8601\", utc=True) # Converts the 'ts' column to datetime format\n",
    "df[\"ts\"] = df[\"ts\"].dt.tz_convert(\"Asia/Manila\") # Converts the timezone to Asia/Manila\n",
    "\n",
    "cleaned_df = df[[\"ts\", \"platform\", \"ms_played\", \"master_metadata_track_name\", \"master_metadata_album_artist_name\", \"master_metadata_album_album_name\", \"skipped\"]]\n",
    "cleaned_df.columns = [\"time\", \"platform\", \"ms_played\", \"song\", \"artist\", \"album\", \"skipped\"]\n",
    "\n",
    "cleaned_df = cleaned_df.dropna().reset_index() # Drops rows with any NaN values\n",
    "cleaned_df.head(10)"
   ]
  },
  {
   "cell_type": "markdown",
   "id": "f6641f61",
   "metadata": {},
   "source": [
    "# Top 10 Artists\n",
    "Let's see which **artists** I listened to the most"
   ]
  },
  {
   "cell_type": "code",
   "execution_count": 4,
   "id": "4357afe5",
   "metadata": {},
   "outputs": [
    {
     "name": "stdout",
     "output_type": "stream",
     "text": [
      "Top 10 Artists:\n",
      "           artist  count\n",
      "0     Cup of Joe   1675\n",
      "1          TWICE   1585\n",
      "2   Zack Tabudlo    907\n",
      "3        Ben&Ben    904\n",
      "4    The Ridleys    768\n",
      "5            WWE    674\n",
      "6           mrld    643\n",
      "7           BUZZ    594\n",
      "8  Martti Franca    586\n",
      "9           BINI    574\n"
     ]
    }
   ],
   "source": [
    "top_artists = cleaned_df[\"artist\"].value_counts().head(10) # Gets the top 10 artists\n",
    "top_artists = top_artists.reset_index() # Resets the index for better readability\n",
    "print(\"Top 10 Artists:\\n\", top_artists)"
   ]
  },
  {
   "cell_type": "markdown",
   "id": "a44c61fe",
   "metadata": {},
   "source": [
    "**Cup of Joe** takes the top spot, followed by **TWICE**, both surpassed 1500 streams."
   ]
  },
  {
   "cell_type": "markdown",
   "id": "b49309e5",
   "metadata": {},
   "source": [
    "Below is a clear visualization of my **Top 10 most streamed artists**:"
   ]
  },
  {
   "cell_type": "code",
   "execution_count": 5,
   "id": "3525a7ea",
   "metadata": {},
   "outputs": [
    {
     "data": {
      "image/png": "[encoded data removed]",
      "text/plain": [
       "<Figure size 640x480 with 1 Axes>"
      ]
     },
     "metadata": {},
     "output_type": "display_data"
    },
    {
     "data": {
      "application/vnd.plotly.v1+json": {
       "config": {
        "plotlyServerURL": "https://plot.ly"
       },
       "data": [
        {
         "hovertemplate": "Artist=%{x}<br>Number of Streams=%{y}<extra></extra>",
         "legendgroup": "",
         "marker": {
          "color": "#636efa",
          "pattern": {
           "shape": ""
          }
         },
         "name": "",
         "orientation": "h",
         "showlegend": false,
         "textposition": "auto",
         "type": "bar",
         "x": {
          "bdata": "PgJKAlICgwKiAgADiAOLAzEGiwY=",
          "dtype": "i2"
         },
         "xaxis": "x",
         "y": [
          "BINI",
          "Martti Franca",
          "BUZZ",
          "mrld",
          "WWE",
          "The Ridleys",
          "Ben&Ben",
          "Zack Tabudlo",
          "TWICE",
          "Cup of Joe"
         ],
         "yaxis": "y"
        }
       ],
       "layout": {
        "barmode": "relative",
        "legend": {
         "tracegroupgap": 0
        },
        "template": {
         "data": {
          "bar": [
           {
            "error_x": {
             "color": "#2a3f5f"
            },
            "error_y": {
             "color": "#2a3f5f"
            },
            "marker": {
             "line": {
              "color": "#E5ECF6",
              "width": 0.5
             },
             "pattern": {
              "fillmode": "overlay",
              "size": 10,
              "solidity": 0.2
             }
            },
            "type": "bar"
           }
          ],
          "barpolar": [
           {
            "marker": {
             "line": {
              "color": "#E5ECF6",
              "width": 0.5
             },
             "pattern": {
              "fillmode": "overlay",
              "size": 10,
              "solidity": 0.2
             }
            },
            "type": "barpolar"
           }
          ],
          "carpet": [
           {
            "aaxis": {
             "endlinecolor": "#2a3f5f",
             "gridcolor": "white",
             "linecolor": "white",
             "minorgridcolor": "white",
             "startlinecolor": "#2a3f5f"
            },
            "baxis": {
             "endlinecolor": "#2a3f5f",
             "gridcolor": "white",
             "linecolor": "white",
             "minorgridcolor": "white",
             "startlinecolor": "#2a3f5f"
            },
            "type": "carpet"
           }
          ],
          "choropleth": [
           {
            "colorbar": {
             "outlinewidth": 0,
             "ticks": ""
            },
            "type": "choropleth"
           }
          ],
          "contour": [
           {
            "colorbar": {
             "outlinewidth": 0,
             "ticks": ""
            },
            "colorscale": [
             [
              0,
              "#0d0887"
             ],
             [
              0.1111111111111111,
              "#46039f"
             ],
             [
              0.2222222222222222,
              "#7201a8"
             ],
             [
              0.3333333333333333,
              "#9c179e"
             ],
             [
              0.4444444444444444,
              "#bd3786"
             ],
             [
              0.5555555555555556,
              "#d8576b"
             ],
             [
              0.6666666666666666,
              "#ed7953"
             ],
             [
              0.7777777777777778,
              "#fb9f3a"
             ],
             [
              0.8888888888888888,
              "#fdca26"
             ],
             [
              1,
              "#f0f921"
             ]
            ],
            "type": "contour"
           }
          ],
          "contourcarpet": [
           {
            "colorbar": {
             "outlinewidth": 0,
             "ticks": ""
            },
            "type": "contourcarpet"
           }
          ],
          "heatmap": [
           {
            "colorbar": {
             "outlinewidth": 0,
             "ticks": ""
            },
            "colorscale": [
             [
              0,
              "#0d0887"
             ],
             [
              0.1111111111111111,
              "#46039f"
             ],
             [
              0.2222222222222222,
              "#7201a8"
             ],
             [
              0.3333333333333333,
              "#9c179e"
             ],
             [
              0.4444444444444444,
              "#bd3786"
             ],
             [
              0.5555555555555556,
              "#d8576b"
             ],
             [
              0.6666666666666666,
              "#ed7953"
             ],
             [
              0.7777777777777778,
              "#fb9f3a"
             ],
             [
              0.8888888888888888,
              "#fdca26"
             ],
             [
              1,
              "#f0f921"
             ]
            ],
            "type": "heatmap"
           }
          ],
          "histogram": [
           {
            "marker": {
             "pattern": {
              "fillmode": "overlay",
              "size": 10,
              "solidity": 0.2
             }
            },
            "type": "histogram"
           }
          ],
          "histogram2d": [
           {
            "colorbar": {
             "outlinewidth": 0,
             "ticks": ""
            },
            "colorscale": [
             [
              0,
              "#0d0887"
             ],
             [
              0.1111111111111111,
              "#46039f"
             ],
             [
              0.2222222222222222,
              "#7201a8"
             ],
             [
              0.3333333333333333,
              "#9c179e"
             ],
             [
              0.4444444444444444,
              "#bd3786"
             ],
             [
              0.5555555555555556,
              "#d8576b"
             ],
             [
              0.6666666666666666,
              "#ed7953"
             ],
             [
              0.7777777777777778,
              "#fb9f3a"
             ],
             [
              0.8888888888888888,
              "#fdca26"
             ],
             [
              1,
              "#f0f921"
             ]
            ],
            "type": "histogram2d"
           }
          ],
          "histogram2dcontour": [
           {
            "colorbar": {
             "outlinewidth": 0,
             "ticks": ""
            },
            "colorscale": [
             [
              0,
              "#0d0887"
             ],
             [
              0.1111111111111111,
              "#46039f"
             ],
             [
              0.2222222222222222,
              "#7201a8"
             ],
             [
              0.3333333333333333,
              "#9c179e"
             ],
             [
              0.4444444444444444,
              "#bd3786"
             ],
             [
              0.5555555555555556,
              "#d8576b"
             ],
             [
              0.6666666666666666,
              "#ed7953"
             ],
             [
              0.7777777777777778,
              "#fb9f3a"
             ],
             [
              0.8888888888888888,
              "#fdca26"
             ],
             [
              1,
              "#f0f921"
             ]
            ],
            "type": "histogram2dcontour"
           }
          ],
          "mesh3d": [
           {
            "colorbar": {
             "outlinewidth": 0,
             "ticks": ""
            },
            "type": "mesh3d"
           }
          ],
          "parcoords": [
           {
            "line": {
             "colorbar": {
              "outlinewidth": 0,
              "ticks": ""
             }
            },
            "type": "parcoords"
           }
          ],
          "pie": [
           {
            "automargin": true,
            "type": "pie"
           }
          ],
          "scatter": [
           {
            "fillpattern": {
             "fillmode": "overlay",
             "size": 10,
             "solidity": 0.2
            },
            "type": "scatter"
           }
          ],
          "scatter3d": [
           {
            "line": {
             "colorbar": {
              "outlinewidth": 0,
              "ticks": ""
             }
            },
            "marker": {
             "colorbar": {
              "outlinewidth": 0,
              "ticks": ""
             }
            },
            "type": "scatter3d"
           }
          ],
          "scattercarpet": [
           {
            "marker": {
             "colorbar": {
              "outlinewidth": 0,
              "ticks": ""
             }
            },
            "type": "scattercarpet"
           }
          ],
          "scattergeo": [
           {
            "marker": {
             "colorbar": {
              "outlinewidth": 0,
              "ticks": ""
             }
            },
            "type": "scattergeo"
           }
          ],
          "scattergl": [
           {
            "marker": {
             "colorbar": {
              "outlinewidth": 0,
              "ticks": ""
             }
            },
            "type": "scattergl"
           }
          ],
          "scattermap": [
           {
            "marker": {
             "colorbar": {
              "outlinewidth": 0,
              "ticks": ""
             }
            },
            "type": "scattermap"
           }
          ],
          "scattermapbox": [
           {
            "marker": {
             "colorbar": {
              "outlinewidth": 0,
              "ticks": ""
             }
            },
            "type": "scattermapbox"
           }
          ],
          "scatterpolar": [
           {
            "marker": {
             "colorbar": {
              "outlinewidth": 0,
              "ticks": ""
             }
            },
            "type": "scatterpolar"
           }
          ],
          "scatterpolargl": [
           {
            "marker": {
             "colorbar": {
              "outlinewidth": 0,
              "ticks": ""
             }
            },
            "type": "scatterpolargl"
           }
          ],
          "scatterternary": [
           {
            "marker": {
             "colorbar": {
              "outlinewidth": 0,
              "ticks": ""
             }
            },
            "type": "scatterternary"
           }
          ],
          "surface": [
           {
            "colorbar": {
             "outlinewidth": 0,
             "ticks": ""
            },
            "colorscale": [
             [
              0,
              "#0d0887"
             ],
             [
              0.1111111111111111,
              "#46039f"
             ],
             [
              0.2222222222222222,
              "#7201a8"
             ],
             [
              0.3333333333333333,
              "#9c179e"
             ],
             [
              0.4444444444444444,
              "#bd3786"
             ],
             [
              0.5555555555555556,
              "#d8576b"
             ],
             [
              0.6666666666666666,
              "#ed7953"
             ],
             [
              0.7777777777777778,
              "#fb9f3a"
             ],
             [
              0.8888888888888888,
              "#fdca26"
             ],
             [
              1,
              "#f0f921"
             ]
            ],
            "type": "surface"
           }
          ],
          "table": [
           {
            "cells": {
             "fill": {
              "color": "#EBF0F8"
             },
             "line": {
              "color": "white"
             }
            },
            "header": {
             "fill": {
              "color": "#C8D4E3"
             },
             "line": {
              "color": "white"
             }
            },
            "type": "table"
           }
          ]
         },
         "layout": {
          "annotationdefaults": {
           "arrowcolor": "#2a3f5f",
           "arrowhead": 0,
           "arrowwidth": 1
          },
          "autotypenumbers": "strict",
          "coloraxis": {
           "colorbar": {
            "outlinewidth": 0,
            "ticks": ""
           }
          },
          "colorscale": {
           "diverging": [
            [
             0,
             "#8e0152"
            ],
            [
             0.1,
             "#c51b7d"
            ],
            [
             0.2,
             "#de77ae"
            ],
            [
             0.3,
             "#f1b6da"
            ],
            [
             0.4,
             "#fde0ef"
            ],
            [
             0.5,
             "#f7f7f7"
            ],
            [
             0.6,
             "#e6f5d0"
            ],
            [
             0.7,
             "#b8e186"
            ],
            [
             0.8,
             "#7fbc41"
            ],
            [
             0.9,
             "#4d9221"
            ],
            [
             1,
             "#276419"
            ]
           ],
           "sequential": [
            [
             0,
             "#0d0887"
            ],
            [
             0.1111111111111111,
             "#46039f"
            ],
            [
             0.2222222222222222,
             "#7201a8"
            ],
            [
             0.3333333333333333,
             "#9c179e"
            ],
            [
             0.4444444444444444,
             "#bd3786"
            ],
            [
             0.5555555555555556,
             "#d8576b"
            ],
            [
             0.6666666666666666,
             "#ed7953"
            ],
            [
             0.7777777777777778,
             "#fb9f3a"
            ],
            [
             0.8888888888888888,
             "#fdca26"
            ],
            [
             1,
             "#f0f921"
            ]
           ],
           "sequentialminus": [
            [
             0,
             "#0d0887"
            ],
            [
             0.1111111111111111,
             "#46039f"
            ],
            [
             0.2222222222222222,
             "#7201a8"
            ],
            [
             0.3333333333333333,
             "#9c179e"
            ],
            [
             0.4444444444444444,
             "#bd3786"
            ],
            [
             0.5555555555555556,
             "#d8576b"
            ],
            [
             0.6666666666666666,
             "#ed7953"
            ],
            [
             0.7777777777777778,
             "#fb9f3a"
            ],
            [
             0.8888888888888888,
             "#fdca26"
            ],
            [
             1,
             "#f0f921"
            ]
           ]
          },
          "colorway": [
           "#636efa",
           "#EF553B",
           "#00cc96",
           "#ab63fa",
           "#FFA15A",
           "#19d3f3",
           "#FF6692",
           "#B6E880",
           "#FF97FF",
           "#FECB52"
          ],
          "font": {
           "color": "#2a3f5f"
          },
          "geo": {
           "bgcolor": "white",
           "lakecolor": "white",
           "landcolor": "#E5ECF6",
           "showlakes": true,
           "showland": true,
           "subunitcolor": "white"
          },
          "hoverlabel": {
           "align": "left"
          },
          "hovermode": "closest",
          "mapbox": {
           "style": "light"
          },
          "paper_bgcolor": "white",
          "plot_bgcolor": "#E5ECF6",
          "polar": {
           "angularaxis": {
            "gridcolor": "white",
            "linecolor": "white",
            "ticks": ""
           },
           "bgcolor": "#E5ECF6",
           "radialaxis": {
            "gridcolor": "white",
            "linecolor": "white",
            "ticks": ""
           }
          },
          "scene": {
           "xaxis": {
            "backgroundcolor": "#E5ECF6",
            "gridcolor": "white",
            "gridwidth": 2,
            "linecolor": "white",
            "showbackground": true,
            "ticks": "",
            "zerolinecolor": "white"
           },
           "yaxis": {
            "backgroundcolor": "#E5ECF6",
            "gridcolor": "white",
            "gridwidth": 2,
            "linecolor": "white",
            "showbackground": true,
            "ticks": "",
            "zerolinecolor": "white"
           },
           "zaxis": {
            "backgroundcolor": "#E5ECF6",
            "gridcolor": "white",
            "gridwidth": 2,
            "linecolor": "white",
            "showbackground": true,
            "ticks": "",
            "zerolinecolor": "white"
           }
          },
          "shapedefaults": {
           "line": {
            "color": "#2a3f5f"
           }
          },
          "ternary": {
           "aaxis": {
            "gridcolor": "white",
            "linecolor": "white",
            "ticks": ""
           },
           "baxis": {
            "gridcolor": "white",
            "linecolor": "white",
            "ticks": ""
           },
           "bgcolor": "#E5ECF6",
           "caxis": {
            "gridcolor": "white",
            "linecolor": "white",
            "ticks": ""
           }
          },
          "title": {
           "x": 0.05
          },
          "xaxis": {
           "automargin": true,
           "gridcolor": "white",
           "linecolor": "white",
           "ticks": "",
           "title": {
            "standoff": 15
           },
           "zerolinecolor": "white",
           "zerolinewidth": 2
          },
          "yaxis": {
           "automargin": true,
           "gridcolor": "white",
           "linecolor": "white",
           "ticks": "",
           "title": {
            "standoff": 15
           },
           "zerolinecolor": "white",
           "zerolinewidth": 2
          }
         }
        },
        "title": {
         "text": "My Top 10 Artists"
        },
        "xaxis": {
         "anchor": "y",
         "domain": [
          0,
          1
         ],
         "title": {
          "text": "Artist"
         }
        },
        "yaxis": {
         "anchor": "x",
         "domain": [
          0,
          1
         ],
         "title": {
          "text": "Number of Streams"
         }
        }
       }
      }
     },
     "metadata": {},
     "output_type": "display_data"
    }
   ],
   "source": [
    "# Plots the top 10 artists using Matplotlib\n",
    "top_artists.sort_values(by=\"count\", ascending=True).plot(kind=\"barh\", x=\"artist\", y=\"count\")\n",
    "plt.title(\"My Top 10 Artists\")\n",
    "plt.xlabel(\"Number of Streams\")\n",
    "plt.ylabel(\"Artist\")\n",
    "plt.show()\n",
    "\n",
    "# Or using Plotly for an interactive bar chart\n",
    "fig = px.bar(\n",
    "    top_artists,\n",
    "    x=top_artists[\"count\"].sort_values(ascending=True),\n",
    "    y=top_artists[\"artist\"].sort_index(ascending=False),\n",
    "    title=\"My Top 10 Artists\",\n",
    "    labels={\"x\" : \"Artist\", \"y\" : \"Number of Streams\"},\n",
    "    orientation=\"h\"\n",
    ")\n",
    "\n",
    "fig.show()"
   ]
  },
  {
   "cell_type": "markdown",
   "id": "43c52dca",
   "metadata": {},
   "source": [
    "This bar graph highlights the gap between the top two artists and the rest. It shows that **Cup of Joe** and **TWICE** dominated my listeing habits."
   ]
  },
  {
   "cell_type": "markdown",
   "id": "1d99f39c",
   "metadata": {},
   "source": [
    "Now let's explore my **listening habits over time** for my two most streamed artists: Cup of Joe and TWICE."
   ]
  },
  {
   "cell_type": "code",
   "execution_count": 6,
   "id": "e54d485e",
   "metadata": {},
   "outputs": [
    {
     "data": {
      "image/png": "[encoded data removed]",
      "text/plain": [
       "<Figure size 640x480 with 1 Axes>"
      ]
     },
     "metadata": {},
     "output_type": "display_data"
    }
   ],
   "source": [
    "CoJ_streams = cleaned_df[cleaned_df[\"artist\"] == \"Cup of Joe\"]\n",
    "CoJ_streams[\"date\"] = CoJ_streams[\"time\"].dt.to_period(\"M\").astype(str)\n",
    "CoJ_counts = CoJ_streams[\"date\"].value_counts().sort_index()\n",
    "\n",
    "TW_streams = cleaned_df[cleaned_df[\"artist\"] == \"TWICE\"]\n",
    "TW_streams[\"date\"] = TW_streams[\"time\"].dt.to_period(\"M\").astype(str)\n",
    "TW_counts = TW_streams[\"date\"].value_counts().sort_index()\n",
    "\n",
    "all_dates = sorted(set(CoJ_counts.index).union(set(TW_counts.index)))\n",
    "\n",
    "CoJ_aligned_dates = CoJ_counts.reindex(all_dates, fill_value=0).reset_index()\n",
    "TW_aligned_dates = TW_counts.reindex(all_dates, fill_value=0).reset_index()\n",
    "\n",
    "plt.plot(CoJ_aligned_dates[\"date\"][:-1], CoJ_aligned_dates[\"count\"][:-1], label=\"Cup of Joe\")\n",
    "plt.plot(TW_aligned_dates[\"date\"][:-1], TW_aligned_dates[\"count\"][:-1], label=\"TWICE\")\n",
    "plt.title(\"Listening Habits Over Time (Cup of Joe vs TWICE)\")\n",
    "plt.xlabel(\"Date\")\n",
    "plt.ylabel(\"Number of Streams\")\n",
    "plt.xticks(rotation=90)\n",
    "plt.legend()\n",
    "plt.show()"
   ]
  },
  {
   "cell_type": "markdown",
   "id": "c3dfd7fc",
   "metadata": {},
   "source": [
    "The line graph above compares their monthly stream counts, which highlights which artist I've listened to the most at different points in time."
   ]
  },
  {
   "cell_type": "markdown",
   "id": "041555cb",
   "metadata": {},
   "source": [
    "# Top 10 Albums\n",
    "Now, let's explore which **albums** I've listened to the most."
   ]
  },
  {
   "cell_type": "code",
   "execution_count": 7,
   "id": "9a60081f",
   "metadata": {},
   "outputs": [
    {
     "name": "stdout",
     "output_type": "stream",
     "text": [
      "Top 10 Albums:\n",
      "            artist                              album  count\n",
      "0            Hale                               Hale    349\n",
      "1     The Ridleys  Reflections on Moonlight & Poetry    301\n",
      "2    Zack Tabudlo                 3rd Time’s A Charm    287\n",
      "3      Cup of Joe                        Estranghero    272\n",
      "4      Cup of Joe                       Patutunguhan    260\n",
      "5    Zack Tabudlo                            Episode    260\n",
      "6           TWICE                        BETWEEN 1&2    208\n",
      "7      Bruno Mars               Doo-Wops & Hooligans    207\n",
      "8  Unique Salonga                            Grandma    200\n",
      "9    IV Of Spades                      CLAPCLAPCLAP!    198\n"
     ]
    }
   ],
   "source": [
    "top_albums = cleaned_df[\"album\"].value_counts()\n",
    "top_albums = top_albums.reset_index()\n",
    "\n",
    "# Get the artist for each album in top_albums\n",
    "album_to_artist = cleaned_df.drop_duplicates(subset=[\"album\"])[[\"artist\", \"album\"]].set_index(\"album\")[\"artist\"]\n",
    "top_albums[\"artist\"] = top_albums[\"album\"].map(album_to_artist)\n",
    "top_albums = top_albums[[\"artist\", \"album\", \"count\"]]\n",
    "print(\"Top 10 Albums:\\n\", top_albums.head(10))"
   ]
  },
  {
   "cell_type": "markdown",
   "id": "003548e1",
   "metadata": {},
   "source": [
    "Overall, **Hale (album)** by **Hale (artist)** is my most streamed album.  \n",
    "Interestingly, both **Zack Tabudlo** and **Cup of Joe** appear twice in the top 10, this shows my music taste and go-to albums."
   ]
  },
  {
   "cell_type": "markdown",
   "id": "fae1177d",
   "metadata": {},
   "source": [
    "# Top 10 Songs\n",
    "These are the songs I've listed to the most."
   ]
  },
  {
   "cell_type": "code",
   "execution_count": 8,
   "id": "0c6f3fb4",
   "metadata": {},
   "outputs": [
    {
     "name": "stdout",
     "output_type": "stream",
     "text": [
      "Top 10 Songs:\n",
      "            artist                      song  count\n",
      "0      Cup of Joe               Estranghero    272\n",
      "1      Cup of Joe                Misteryoso    197\n",
      "2      Cup of Joe                    Tingin    196\n",
      "3  Up Dharma Down                   Tadhana    191\n",
      "4      Cup of Joe                 Sinderela    176\n",
      "5      Lola Amour                    Fallen    168\n",
      "6            Maki                     Dilaw    167\n",
      "7      Cup of Joe               Wag Na Lang    167\n",
      "8            mrld               Ikaw Pa Rin    165\n",
      "9   Martti Franca  Things She'll Never Know    163\n"
     ]
    }
   ],
   "source": [
    "top_songs = cleaned_df[\"song\"].value_counts()\n",
    "top_songs = top_songs.reset_index()\n",
    "\n",
    "song_to_artist = cleaned_df.drop_duplicates(subset=[\"song\"])[[\"artist\", \"song\"]].set_index(\"song\")[\"artist\"]\n",
    "top_songs[\"artist\"] = top_songs[\"song\"].map(song_to_artist)\n",
    "top_songs = top_songs[[\"artist\", \"song\", \"count\"]]\n",
    "print(\"Top 10 Songs:\\n\", top_songs.head(10))"
   ]
  },
  {
   "cell_type": "markdown",
   "id": "091c2ed7",
   "metadata": {},
   "source": [
    "**Cup of Joe** once again takes the top spot.  \n",
    "They also appear **five times** in the Top 10.  \n",
    "This proves why they're my most streamed artist."
   ]
  },
  {
   "cell_type": "markdown",
   "id": "24e57e62",
   "metadata": {},
   "source": [
    "# Top 10 Skipped Songs\n",
    "Let's now look at my Top 10 skipped songs"
   ]
  },
  {
   "cell_type": "code",
   "execution_count": 9,
   "id": "59ade29c",
   "metadata": {},
   "outputs": [
    {
     "name": "stdout",
     "output_type": "stream",
     "text": [
      "Top 10 Skipped Songs:\n",
      "              artist         song  count\n",
      "0              Maki        Dilaw     77\n",
      "1        Cup of Joe  Estranghero     70\n",
      "2        Cup of Joe   Misteryoso     62\n",
      "3        Cup of Joe       Tingin     62\n",
      "4        Lola Amour       Fallen     51\n",
      "5        Cup of Joe  Wag Na Lang     51\n",
      "6  Healy After Dark         Isip     47\n",
      "7    Up Dharma Down      Tadhana     46\n",
      "8            NOBITA    Ikaw Lang     44\n",
      "9              MKTO      Classic     43\n"
     ]
    }
   ],
   "source": [
    "skipped_songs = cleaned_df[cleaned_df[\"skipped\"] == True]\n",
    "skipped_song_counts = skipped_songs[\"song\"].value_counts().head(10) # Gets the top 10 skipped songs\n",
    "skipped_song_counts = skipped_song_counts.reset_index()\n",
    "\n",
    "song_to_artist = skipped_songs.drop_duplicates(subset=[\"song\"])[[\"artist\", \"song\"]].set_index(\"song\")[\"artist\"]\n",
    "skipped_song_counts[\"artist\"] = skipped_song_counts[\"song\"].map(song_to_artist)\n",
    "skipped_song_counts = skipped_song_counts[[\"artist\", \"song\", \"count\"]]\n",
    "\n",
    "print(\"Top 10 Skipped Songs:\\n\", skipped_song_counts.head(10))"
   ]
  },
  {
   "cell_type": "markdown",
   "id": "be5227de",
   "metadata": {},
   "source": [
    "The song **Dilaw** by **Maki** is at the top of my most skipped songs. \n",
    "But what's intersting about this is that some songs here also appear in my Top 10 most streamed songs.  \n",
    "This might suggest that even though I stream these songs a lot, I also tend to skip them occasionally, maybe due to being overplayed."
   ]
  },
  {
   "cell_type": "markdown",
   "id": "40977da2",
   "metadata": {},
   "source": [
    "# Database Integration\n",
    "To prepare the dataset for SQL queries, we need to separate the data into:\n",
    "- **Artists**\n",
    "- **Albums**\n",
    "- **Songs**  \n",
    "\n",
    "The next few steps extract the unique values for each of the ones above.  \n",
    "This step is needed in designing a relational database schema later on."
   ]
  },
  {
   "cell_type": "code",
   "execution_count": 10,
   "id": "21248184",
   "metadata": {},
   "outputs": [],
   "source": [
    "cleaned_df_copy = cleaned_df.copy() # Creates a copy of the cleaned DataFrame for further analysis"
   ]
  },
  {
   "cell_type": "code",
   "execution_count": 11,
   "id": "eaedb045",
   "metadata": {},
   "outputs": [
    {
     "data": {
      "text/html": [
       "<div>\n",
       "<style scoped>\n",
       "    .dataframe tbody tr th:only-of-type {\n",
       "        vertical-align: middle;\n",
       "    }\n",
       "\n",
       "    .dataframe tbody tr th {\n",
       "        vertical-align: top;\n",
       "    }\n",
       "\n",
       "    .dataframe thead th {\n",
       "        text-align: right;\n",
       "    }\n",
       "</style>\n",
       "<table border=\"1\" class=\"dataframe\">\n",
       "  <thead>\n",
       "    <tr style=\"text-align: right;\">\n",
       "      <th></th>\n",
       "      <th>stream_id</th>\n",
       "      <th>time</th>\n",
       "      <th>platform</th>\n",
       "      <th>ms_played</th>\n",
       "      <th>song</th>\n",
       "      <th>artist</th>\n",
       "      <th>album</th>\n",
       "      <th>skipped</th>\n",
       "    </tr>\n",
       "  </thead>\n",
       "  <tbody>\n",
       "    <tr>\n",
       "      <th>0</th>\n",
       "      <td>1</td>\n",
       "      <td>2021-12-13 22:29:52+08:00</td>\n",
       "      <td>Windows 10 (10.0.19043; x64)</td>\n",
       "      <td>198053</td>\n",
       "      <td>The Feels</td>\n",
       "      <td>TWICE</td>\n",
       "      <td>Formula of Love: O+T=&lt;3</td>\n",
       "      <td>False</td>\n",
       "    </tr>\n",
       "    <tr>\n",
       "      <th>1</th>\n",
       "      <td>2</td>\n",
       "      <td>2021-12-13 22:33:07+08:00</td>\n",
       "      <td>Windows 10 (10.0.19043; x64)</td>\n",
       "      <td>194600</td>\n",
       "      <td>SCIENTIST</td>\n",
       "      <td>TWICE</td>\n",
       "      <td>Formula of Love: O+T=&lt;3</td>\n",
       "      <td>False</td>\n",
       "    </tr>\n",
       "    <tr>\n",
       "      <th>2</th>\n",
       "      <td>3</td>\n",
       "      <td>2021-12-13 22:36:39+08:00</td>\n",
       "      <td>Windows 10 (10.0.19043; x64)</td>\n",
       "      <td>210573</td>\n",
       "      <td>Alcohol-Free</td>\n",
       "      <td>TWICE</td>\n",
       "      <td>Taste of Love</td>\n",
       "      <td>False</td>\n",
       "    </tr>\n",
       "    <tr>\n",
       "      <th>3</th>\n",
       "      <td>4</td>\n",
       "      <td>2021-12-13 22:40:04+08:00</td>\n",
       "      <td>Windows 10 (10.0.19043; x64)</td>\n",
       "      <td>205493</td>\n",
       "      <td>I CAN'T STOP ME</td>\n",
       "      <td>TWICE</td>\n",
       "      <td>Eyes Wide Open</td>\n",
       "      <td>False</td>\n",
       "    </tr>\n",
       "    <tr>\n",
       "      <th>4</th>\n",
       "      <td>5</td>\n",
       "      <td>2021-12-13 22:44:04+08:00</td>\n",
       "      <td>Windows 10 (10.0.19043; x64)</td>\n",
       "      <td>208240</td>\n",
       "      <td>What is Love</td>\n",
       "      <td>TWICE</td>\n",
       "      <td>Summer Nights</td>\n",
       "      <td>False</td>\n",
       "    </tr>\n",
       "    <tr>\n",
       "      <th>5</th>\n",
       "      <td>6</td>\n",
       "      <td>2021-12-13 22:47:38+08:00</td>\n",
       "      <td>Windows 10 (10.0.19043; x64)</td>\n",
       "      <td>213880</td>\n",
       "      <td>FANCY</td>\n",
       "      <td>TWICE</td>\n",
       "      <td>FANCY YOU</td>\n",
       "      <td>False</td>\n",
       "    </tr>\n",
       "    <tr>\n",
       "      <th>6</th>\n",
       "      <td>7</td>\n",
       "      <td>2021-12-13 22:51:06+08:00</td>\n",
       "      <td>Windows 10 (10.0.19043; x64)</td>\n",
       "      <td>206866</td>\n",
       "      <td>Feel Special</td>\n",
       "      <td>TWICE</td>\n",
       "      <td>Feel Special</td>\n",
       "      <td>False</td>\n",
       "    </tr>\n",
       "    <tr>\n",
       "      <th>7</th>\n",
       "      <td>8</td>\n",
       "      <td>2021-12-13 22:54:30+08:00</td>\n",
       "      <td>Windows 10 (10.0.19043; x64)</td>\n",
       "      <td>204167</td>\n",
       "      <td>CRY FOR ME</td>\n",
       "      <td>TWICE</td>\n",
       "      <td>CRY FOR ME</td>\n",
       "      <td>False</td>\n",
       "    </tr>\n",
       "    <tr>\n",
       "      <th>8</th>\n",
       "      <td>9</td>\n",
       "      <td>2021-12-13 22:57:57+08:00</td>\n",
       "      <td>Windows 10 (10.0.19043; x64)</td>\n",
       "      <td>176160</td>\n",
       "      <td>ICON</td>\n",
       "      <td>TWICE</td>\n",
       "      <td>Formula of Love: O+T=&lt;3</td>\n",
       "      <td>False</td>\n",
       "    </tr>\n",
       "    <tr>\n",
       "      <th>9</th>\n",
       "      <td>10</td>\n",
       "      <td>2021-12-13 23:04:25+08:00</td>\n",
       "      <td>Windows 10 (10.0.19043; x64)</td>\n",
       "      <td>219386</td>\n",
       "      <td>MOONLIGHT</td>\n",
       "      <td>TWICE</td>\n",
       "      <td>Formula of Love: O+T=&lt;3</td>\n",
       "      <td>False</td>\n",
       "    </tr>\n",
       "  </tbody>\n",
       "</table>\n",
       "</div>"
      ],
      "text/plain": [
       "   stream_id                      time                      platform  \\\n",
       "0          1 2021-12-13 22:29:52+08:00  Windows 10 (10.0.19043; x64)   \n",
       "1          2 2021-12-13 22:33:07+08:00  Windows 10 (10.0.19043; x64)   \n",
       "2          3 2021-12-13 22:36:39+08:00  Windows 10 (10.0.19043; x64)   \n",
       "3          4 2021-12-13 22:40:04+08:00  Windows 10 (10.0.19043; x64)   \n",
       "4          5 2021-12-13 22:44:04+08:00  Windows 10 (10.0.19043; x64)   \n",
       "5          6 2021-12-13 22:47:38+08:00  Windows 10 (10.0.19043; x64)   \n",
       "6          7 2021-12-13 22:51:06+08:00  Windows 10 (10.0.19043; x64)   \n",
       "7          8 2021-12-13 22:54:30+08:00  Windows 10 (10.0.19043; x64)   \n",
       "8          9 2021-12-13 22:57:57+08:00  Windows 10 (10.0.19043; x64)   \n",
       "9         10 2021-12-13 23:04:25+08:00  Windows 10 (10.0.19043; x64)   \n",
       "\n",
       "   ms_played             song artist                    album  skipped  \n",
       "0     198053        The Feels  TWICE  Formula of Love: O+T=<3    False  \n",
       "1     194600        SCIENTIST  TWICE  Formula of Love: O+T=<3    False  \n",
       "2     210573     Alcohol-Free  TWICE            Taste of Love    False  \n",
       "3     205493  I CAN'T STOP ME  TWICE           Eyes Wide Open    False  \n",
       "4     208240     What is Love  TWICE            Summer Nights    False  \n",
       "5     213880            FANCY  TWICE                FANCY YOU    False  \n",
       "6     206866     Feel Special  TWICE             Feel Special    False  \n",
       "7     204167       CRY FOR ME  TWICE               CRY FOR ME    False  \n",
       "8     176160             ICON  TWICE  Formula of Love: O+T=<3    False  \n",
       "9     219386        MOONLIGHT  TWICE  Formula of Love: O+T=<3    False  "
      ]
     },
     "execution_count": 11,
     "metadata": {},
     "output_type": "execute_result"
    }
   ],
   "source": [
    "stream_history = cleaned_df.copy()\n",
    "stream_history = stream_history.rename(columns={\"index\" : \"stream_id\"})\n",
    "stream_history[\"stream_id\"] = stream_history.index + 1\n",
    "stream_history.head(10)"
   ]
  },
  {
   "cell_type": "code",
   "execution_count": 12,
   "id": "c1c075b1",
   "metadata": {},
   "outputs": [
    {
     "data": {
      "text/html": [
       "<div>\n",
       "<style scoped>\n",
       "    .dataframe tbody tr th:only-of-type {\n",
       "        vertical-align: middle;\n",
       "    }\n",
       "\n",
       "    .dataframe tbody tr th {\n",
       "        vertical-align: top;\n",
       "    }\n",
       "\n",
       "    .dataframe thead th {\n",
       "        text-align: right;\n",
       "    }\n",
       "</style>\n",
       "<table border=\"1\" class=\"dataframe\">\n",
       "  <thead>\n",
       "    <tr style=\"text-align: right;\">\n",
       "      <th></th>\n",
       "      <th>artist_id</th>\n",
       "      <th>artist</th>\n",
       "    </tr>\n",
       "  </thead>\n",
       "  <tbody>\n",
       "    <tr>\n",
       "      <th>0</th>\n",
       "      <td>1</td>\n",
       "      <td>TWICE</td>\n",
       "    </tr>\n",
       "    <tr>\n",
       "      <th>1</th>\n",
       "      <td>2</td>\n",
       "      <td>NiziU</td>\n",
       "    </tr>\n",
       "    <tr>\n",
       "      <th>2</th>\n",
       "      <td>3</td>\n",
       "      <td>J.Y. Park</td>\n",
       "    </tr>\n",
       "    <tr>\n",
       "      <th>3</th>\n",
       "      <td>4</td>\n",
       "      <td>(G)I-DLE</td>\n",
       "    </tr>\n",
       "    <tr>\n",
       "      <th>4</th>\n",
       "      <td>5</td>\n",
       "      <td>Stray Kids</td>\n",
       "    </tr>\n",
       "    <tr>\n",
       "      <th>5</th>\n",
       "      <td>6</td>\n",
       "      <td>GOT7</td>\n",
       "    </tr>\n",
       "    <tr>\n",
       "      <th>6</th>\n",
       "      <td>7</td>\n",
       "      <td>STAYC</td>\n",
       "    </tr>\n",
       "    <tr>\n",
       "      <th>7</th>\n",
       "      <td>8</td>\n",
       "      <td>K/DA</td>\n",
       "    </tr>\n",
       "    <tr>\n",
       "      <th>8</th>\n",
       "      <td>9</td>\n",
       "      <td>Seungmin</td>\n",
       "    </tr>\n",
       "    <tr>\n",
       "      <th>9</th>\n",
       "      <td>10</td>\n",
       "      <td>ITZY</td>\n",
       "    </tr>\n",
       "  </tbody>\n",
       "</table>\n",
       "</div>"
      ],
      "text/plain": [
       "   artist_id      artist\n",
       "0          1       TWICE\n",
       "1          2       NiziU\n",
       "2          3   J.Y. Park\n",
       "3          4    (G)I-DLE\n",
       "4          5  Stray Kids\n",
       "5          6        GOT7\n",
       "6          7       STAYC\n",
       "7          8        K/DA\n",
       "8          9    Seungmin\n",
       "9         10        ITZY"
      ]
     },
     "execution_count": 12,
     "metadata": {},
     "output_type": "execute_result"
    }
   ],
   "source": [
    "# Creates a DataFrame with unique artists and assigns a unique ID to each artist\n",
    "streamed_artists = pd.DataFrame(cleaned_df_copy[\"artist\"].unique(), columns=[\"artist\"]) # Creates a DataFrame with unique artists\n",
    "streamed_artists[\"artist_id\"] = streamed_artists.index + 1 # Assigns a unique ID to each artist\n",
    "streamed_artists = streamed_artists.iloc[:, [1, 0]] # Reorders the columns to have artist_id first\n",
    "streamed_artists.head(10)"
   ]
  },
  {
   "cell_type": "code",
   "execution_count": 13,
   "id": "94d57ce2",
   "metadata": {},
   "outputs": [
    {
     "data": {
      "text/html": [
       "<div>\n",
       "<style scoped>\n",
       "    .dataframe tbody tr th:only-of-type {\n",
       "        vertical-align: middle;\n",
       "    }\n",
       "\n",
       "    .dataframe tbody tr th {\n",
       "        vertical-align: top;\n",
       "    }\n",
       "\n",
       "    .dataframe thead th {\n",
       "        text-align: right;\n",
       "    }\n",
       "</style>\n",
       "<table border=\"1\" class=\"dataframe\">\n",
       "  <thead>\n",
       "    <tr style=\"text-align: right;\">\n",
       "      <th></th>\n",
       "      <th>song_id</th>\n",
       "      <th>song</th>\n",
       "    </tr>\n",
       "  </thead>\n",
       "  <tbody>\n",
       "    <tr>\n",
       "      <th>0</th>\n",
       "      <td>1</td>\n",
       "      <td>The Feels</td>\n",
       "    </tr>\n",
       "    <tr>\n",
       "      <th>1</th>\n",
       "      <td>2</td>\n",
       "      <td>SCIENTIST</td>\n",
       "    </tr>\n",
       "    <tr>\n",
       "      <th>2</th>\n",
       "      <td>3</td>\n",
       "      <td>Alcohol-Free</td>\n",
       "    </tr>\n",
       "    <tr>\n",
       "      <th>3</th>\n",
       "      <td>4</td>\n",
       "      <td>I CAN'T STOP ME</td>\n",
       "    </tr>\n",
       "    <tr>\n",
       "      <th>4</th>\n",
       "      <td>5</td>\n",
       "      <td>What is Love</td>\n",
       "    </tr>\n",
       "    <tr>\n",
       "      <th>5</th>\n",
       "      <td>6</td>\n",
       "      <td>FANCY</td>\n",
       "    </tr>\n",
       "    <tr>\n",
       "      <th>6</th>\n",
       "      <td>7</td>\n",
       "      <td>Feel Special</td>\n",
       "    </tr>\n",
       "    <tr>\n",
       "      <th>7</th>\n",
       "      <td>8</td>\n",
       "      <td>CRY FOR ME</td>\n",
       "    </tr>\n",
       "    <tr>\n",
       "      <th>8</th>\n",
       "      <td>9</td>\n",
       "      <td>ICON</td>\n",
       "    </tr>\n",
       "    <tr>\n",
       "      <th>9</th>\n",
       "      <td>10</td>\n",
       "      <td>MOONLIGHT</td>\n",
       "    </tr>\n",
       "  </tbody>\n",
       "</table>\n",
       "</div>"
      ],
      "text/plain": [
       "   song_id             song\n",
       "0        1        The Feels\n",
       "1        2        SCIENTIST\n",
       "2        3     Alcohol-Free\n",
       "3        4  I CAN'T STOP ME\n",
       "4        5     What is Love\n",
       "5        6            FANCY\n",
       "6        7     Feel Special\n",
       "7        8       CRY FOR ME\n",
       "8        9             ICON\n",
       "9       10        MOONLIGHT"
      ]
     },
     "execution_count": 13,
     "metadata": {},
     "output_type": "execute_result"
    }
   ],
   "source": [
    "# Creates a DataFrame with unique songs and assigns a unique ID to each song\n",
    "streamed_music = pd.DataFrame(cleaned_df_copy[\"song\"].unique(), columns=[\"song\"]) # Creates a DataFrame with unique songs\n",
    "streamed_music[\"song_id\"] = streamed_music.index + 1 # Assigns a unique\n",
    "streamed_music = streamed_music.iloc[:, [1, 0]] # Reorders the columns to have song_id first\n",
    "streamed_music.head(10)"
   ]
  },
  {
   "cell_type": "code",
   "execution_count": 14,
   "id": "5051b2fa",
   "metadata": {},
   "outputs": [
    {
     "data": {
      "text/html": [
       "<div>\n",
       "<style scoped>\n",
       "    .dataframe tbody tr th:only-of-type {\n",
       "        vertical-align: middle;\n",
       "    }\n",
       "\n",
       "    .dataframe tbody tr th {\n",
       "        vertical-align: top;\n",
       "    }\n",
       "\n",
       "    .dataframe thead th {\n",
       "        text-align: right;\n",
       "    }\n",
       "</style>\n",
       "<table border=\"1\" class=\"dataframe\">\n",
       "  <thead>\n",
       "    <tr style=\"text-align: right;\">\n",
       "      <th></th>\n",
       "      <th>album_id</th>\n",
       "      <th>album</th>\n",
       "    </tr>\n",
       "  </thead>\n",
       "  <tbody>\n",
       "    <tr>\n",
       "      <th>0</th>\n",
       "      <td>1</td>\n",
       "      <td>Formula of Love: O+T=&lt;3</td>\n",
       "    </tr>\n",
       "    <tr>\n",
       "      <th>1</th>\n",
       "      <td>2</td>\n",
       "      <td>Taste of Love</td>\n",
       "    </tr>\n",
       "    <tr>\n",
       "      <th>2</th>\n",
       "      <td>3</td>\n",
       "      <td>Eyes Wide Open</td>\n",
       "    </tr>\n",
       "    <tr>\n",
       "      <th>3</th>\n",
       "      <td>4</td>\n",
       "      <td>Summer Nights</td>\n",
       "    </tr>\n",
       "    <tr>\n",
       "      <th>4</th>\n",
       "      <td>5</td>\n",
       "      <td>FANCY YOU</td>\n",
       "    </tr>\n",
       "    <tr>\n",
       "      <th>5</th>\n",
       "      <td>6</td>\n",
       "      <td>Feel Special</td>\n",
       "    </tr>\n",
       "    <tr>\n",
       "      <th>6</th>\n",
       "      <td>7</td>\n",
       "      <td>CRY FOR ME</td>\n",
       "    </tr>\n",
       "    <tr>\n",
       "      <th>7</th>\n",
       "      <td>8</td>\n",
       "      <td>Doughnut</td>\n",
       "    </tr>\n",
       "    <tr>\n",
       "      <th>8</th>\n",
       "      <td>9</td>\n",
       "      <td>Perfect World</td>\n",
       "    </tr>\n",
       "    <tr>\n",
       "      <th>9</th>\n",
       "      <td>10</td>\n",
       "      <td>Kura Kura</td>\n",
       "    </tr>\n",
       "  </tbody>\n",
       "</table>\n",
       "</div>"
      ],
      "text/plain": [
       "   album_id                    album\n",
       "0         1  Formula of Love: O+T=<3\n",
       "1         2            Taste of Love\n",
       "2         3           Eyes Wide Open\n",
       "3         4            Summer Nights\n",
       "4         5                FANCY YOU\n",
       "5         6             Feel Special\n",
       "6         7               CRY FOR ME\n",
       "7         8                 Doughnut\n",
       "8         9            Perfect World\n",
       "9        10                Kura Kura"
      ]
     },
     "execution_count": 14,
     "metadata": {},
     "output_type": "execute_result"
    }
   ],
   "source": [
    "# Creates a DataFrame with unique albums and assigns a unique ID to each album\n",
    "streamed_albums = pd.DataFrame(cleaned_df_copy[\"album\"].unique(), columns=[\"album\"]) # Creates a DataFrame with unique albums\n",
    "streamed_albums[\"album_id\"] = streamed_albums.index + 1 # Assigns a unique ID to each album\n",
    "streamed_albums = streamed_albums.iloc[:, [1, 0]] # Reorders the columns to have album_id first\n",
    "streamed_albums.head(10)"
   ]
  },
  {
   "cell_type": "markdown",
   "id": "02f63ff0",
   "metadata": {},
   "source": [
    "# Monthly Streaming Activity\n",
    "Let's look at the change of my **overall listening activity** by month."
   ]
  },
  {
   "cell_type": "code",
   "execution_count": 15,
   "id": "72d41f7d",
   "metadata": {},
   "outputs": [
    {
     "data": {
      "text/html": [
       "<div>\n",
       "<style scoped>\n",
       "    .dataframe tbody tr th:only-of-type {\n",
       "        vertical-align: middle;\n",
       "    }\n",
       "\n",
       "    .dataframe tbody tr th {\n",
       "        vertical-align: top;\n",
       "    }\n",
       "\n",
       "    .dataframe thead th {\n",
       "        text-align: right;\n",
       "    }\n",
       "</style>\n",
       "<table border=\"1\" class=\"dataframe\">\n",
       "  <thead>\n",
       "    <tr style=\"text-align: right;\">\n",
       "      <th></th>\n",
       "      <th>month</th>\n",
       "      <th>count</th>\n",
       "    </tr>\n",
       "  </thead>\n",
       "  <tbody>\n",
       "    <tr>\n",
       "      <th>0</th>\n",
       "      <td>1</td>\n",
       "      <td>2223</td>\n",
       "    </tr>\n",
       "    <tr>\n",
       "      <th>1</th>\n",
       "      <td>2</td>\n",
       "      <td>3549</td>\n",
       "    </tr>\n",
       "    <tr>\n",
       "      <th>2</th>\n",
       "      <td>3</td>\n",
       "      <td>3955</td>\n",
       "    </tr>\n",
       "    <tr>\n",
       "      <th>3</th>\n",
       "      <td>4</td>\n",
       "      <td>3540</td>\n",
       "    </tr>\n",
       "    <tr>\n",
       "      <th>4</th>\n",
       "      <td>5</td>\n",
       "      <td>3840</td>\n",
       "    </tr>\n",
       "  </tbody>\n",
       "</table>\n",
       "</div>"
      ],
      "text/plain": [
       "   month  count\n",
       "0      1   2223\n",
       "1      2   3549\n",
       "2      3   3955\n",
       "3      4   3540\n",
       "4      5   3840"
      ]
     },
     "execution_count": 15,
     "metadata": {},
     "output_type": "execute_result"
    }
   ],
   "source": [
    "# Returns the number of streams per month\n",
    "cleaned_df_copy[\"month\"] = cleaned_df_copy[\"time\"].dt.month\n",
    "monthly_counts = cleaned_df_copy[\"month\"].value_counts().sort_index() # Counts the number of streams per month\n",
    "monthly_df = monthly_counts.reset_index()\n",
    "monthly_df.head()"
   ]
  },
  {
   "cell_type": "code",
   "execution_count": 16,
   "id": "fdeed117",
   "metadata": {},
   "outputs": [
    {
     "data": {
      "image/png": "[encoded data removed]",
      "text/plain": [
       "<Figure size 640x480 with 1 Axes>"
      ]
     },
     "metadata": {},
     "output_type": "display_data"
    },
    {
     "data": {
      "application/vnd.plotly.v1+json": {
       "config": {
        "plotlyServerURL": "https://plot.ly"
       },
       "data": [
        {
         "hovertemplate": "Month=%{x}<br>Number of Streams=%{y}<extra></extra>",
         "legendgroup": "",
         "marker": {
          "color": "#636efa",
          "pattern": {
           "shape": ""
          }
         },
         "name": "",
         "orientation": "v",
         "showlegend": false,
         "textposition": "auto",
         "type": "bar",
         "x": {
          "bdata": "AQAAAAIAAAADAAAABAAAAAUAAAAGAAAABwAAAAgAAAAJAAAACgAAAAsAAAAMAAAA",
          "dtype": "i4"
         },
         "xaxis": "x",
         "y": {
          "bdata": "rwjdDXMP1A0AD9AIPw0SCVgIZgbyCGMI",
          "dtype": "i2"
         },
         "yaxis": "y"
        }
       ],
       "layout": {
        "barmode": "relative",
        "legend": {
         "tracegroupgap": 0
        },
        "template": {
         "data": {
          "bar": [
           {
            "error_x": {
             "color": "#2a3f5f"
            },
            "error_y": {
             "color": "#2a3f5f"
            },
            "marker": {
             "line": {
              "color": "#E5ECF6",
              "width": 0.5
             },
             "pattern": {
              "fillmode": "overlay",
              "size": 10,
              "solidity": 0.2
             }
            },
            "type": "bar"
           }
          ],
          "barpolar": [
           {
            "marker": {
             "line": {
              "color": "#E5ECF6",
              "width": 0.5
             },
             "pattern": {
              "fillmode": "overlay",
              "size": 10,
              "solidity": 0.2
             }
            },
            "type": "barpolar"
           }
          ],
          "carpet": [
           {
            "aaxis": {
             "endlinecolor": "#2a3f5f",
             "gridcolor": "white",
             "linecolor": "white",
             "minorgridcolor": "white",
             "startlinecolor": "#2a3f5f"
            },
            "baxis": {
             "endlinecolor": "#2a3f5f",
             "gridcolor": "white",
             "linecolor": "white",
             "minorgridcolor": "white",
             "startlinecolor": "#2a3f5f"
            },
            "type": "carpet"
           }
          ],
          "choropleth": [
           {
            "colorbar": {
             "outlinewidth": 0,
             "ticks": ""
            },
            "type": "choropleth"
           }
          ],
          "contour": [
           {
            "colorbar": {
             "outlinewidth": 0,
             "ticks": ""
            },
            "colorscale": [
             [
              0,
              "#0d0887"
             ],
             [
              0.1111111111111111,
              "#46039f"
             ],
             [
              0.2222222222222222,
              "#7201a8"
             ],
             [
              0.3333333333333333,
              "#9c179e"
             ],
             [
              0.4444444444444444,
              "#bd3786"
             ],
             [
              0.5555555555555556,
              "#d8576b"
             ],
             [
              0.6666666666666666,
              "#ed7953"
             ],
             [
              0.7777777777777778,
              "#fb9f3a"
             ],
             [
              0.8888888888888888,
              "#fdca26"
             ],
             [
              1,
              "#f0f921"
             ]
            ],
            "type": "contour"
           }
          ],
          "contourcarpet": [
           {
            "colorbar": {
             "outlinewidth": 0,
             "ticks": ""
            },
            "type": "contourcarpet"
           }
          ],
          "heatmap": [
           {
            "colorbar": {
             "outlinewidth": 0,
             "ticks": ""
            },
            "colorscale": [
             [
              0,
              "#0d0887"
             ],
             [
              0.1111111111111111,
              "#46039f"
             ],
             [
              0.2222222222222222,
              "#7201a8"
             ],
             [
              0.3333333333333333,
              "#9c179e"
             ],
             [
              0.4444444444444444,
              "#bd3786"
             ],
             [
              0.5555555555555556,
              "#d8576b"
             ],
             [
              0.6666666666666666,
              "#ed7953"
             ],
             [
              0.7777777777777778,
              "#fb9f3a"
             ],
             [
              0.8888888888888888,
              "#fdca26"
             ],
             [
              1,
              "#f0f921"
             ]
            ],
            "type": "heatmap"
           }
          ],
          "histogram": [
           {
            "marker": {
             "pattern": {
              "fillmode": "overlay",
              "size": 10,
              "solidity": 0.2
             }
            },
            "type": "histogram"
           }
          ],
          "histogram2d": [
           {
            "colorbar": {
             "outlinewidth": 0,
             "ticks": ""
            },
            "colorscale": [
             [
              0,
              "#0d0887"
             ],
             [
              0.1111111111111111,
              "#46039f"
             ],
             [
              0.2222222222222222,
              "#7201a8"
             ],
             [
              0.3333333333333333,
              "#9c179e"
             ],
             [
              0.4444444444444444,
              "#bd3786"
             ],
             [
              0.5555555555555556,
              "#d8576b"
             ],
             [
              0.6666666666666666,
              "#ed7953"
             ],
             [
              0.7777777777777778,
              "#fb9f3a"
             ],
             [
              0.8888888888888888,
              "#fdca26"
             ],
             [
              1,
              "#f0f921"
             ]
            ],
            "type": "histogram2d"
           }
          ],
          "histogram2dcontour": [
           {
            "colorbar": {
             "outlinewidth": 0,
             "ticks": ""
            },
            "colorscale": [
             [
              0,
              "#0d0887"
             ],
             [
              0.1111111111111111,
              "#46039f"
             ],
             [
              0.2222222222222222,
              "#7201a8"
             ],
             [
              0.3333333333333333,
              "#9c179e"
             ],
             [
              0.4444444444444444,
              "#bd3786"
             ],
             [
              0.5555555555555556,
              "#d8576b"
             ],
             [
              0.6666666666666666,
              "#ed7953"
             ],
             [
              0.7777777777777778,
              "#fb9f3a"
             ],
             [
              0.8888888888888888,
              "#fdca26"
             ],
             [
              1,
              "#f0f921"
             ]
            ],
            "type": "histogram2dcontour"
           }
          ],
          "mesh3d": [
           {
            "colorbar": {
             "outlinewidth": 0,
             "ticks": ""
            },
            "type": "mesh3d"
           }
          ],
          "parcoords": [
           {
            "line": {
             "colorbar": {
              "outlinewidth": 0,
              "ticks": ""
             }
            },
            "type": "parcoords"
           }
          ],
          "pie": [
           {
            "automargin": true,
            "type": "pie"
           }
          ],
          "scatter": [
           {
            "fillpattern": {
             "fillmode": "overlay",
             "size": 10,
             "solidity": 0.2
            },
            "type": "scatter"
           }
          ],
          "scatter3d": [
           {
            "line": {
             "colorbar": {
              "outlinewidth": 0,
              "ticks": ""
             }
            },
            "marker": {
             "colorbar": {
              "outlinewidth": 0,
              "ticks": ""
             }
            },
            "type": "scatter3d"
           }
          ],
          "scattercarpet": [
           {
            "marker": {
             "colorbar": {
              "outlinewidth": 0,
              "ticks": ""
             }
            },
            "type": "scattercarpet"
           }
          ],
          "scattergeo": [
           {
            "marker": {
             "colorbar": {
              "outlinewidth": 0,
              "ticks": ""
             }
            },
            "type": "scattergeo"
           }
          ],
          "scattergl": [
           {
            "marker": {
             "colorbar": {
              "outlinewidth": 0,
              "ticks": ""
             }
            },
            "type": "scattergl"
           }
          ],
          "scattermap": [
           {
            "marker": {
             "colorbar": {
              "outlinewidth": 0,
              "ticks": ""
             }
            },
            "type": "scattermap"
           }
          ],
          "scattermapbox": [
           {
            "marker": {
             "colorbar": {
              "outlinewidth": 0,
              "ticks": ""
             }
            },
            "type": "scattermapbox"
           }
          ],
          "scatterpolar": [
           {
            "marker": {
             "colorbar": {
              "outlinewidth": 0,
              "ticks": ""
             }
            },
            "type": "scatterpolar"
           }
          ],
          "scatterpolargl": [
           {
            "marker": {
             "colorbar": {
              "outlinewidth": 0,
              "ticks": ""
             }
            },
            "type": "scatterpolargl"
           }
          ],
          "scatterternary": [
           {
            "marker": {
             "colorbar": {
              "outlinewidth": 0,
              "ticks": ""
             }
            },
            "type": "scatterternary"
           }
          ],
          "surface": [
           {
            "colorbar": {
             "outlinewidth": 0,
             "ticks": ""
            },
            "colorscale": [
             [
              0,
              "#0d0887"
             ],
             [
              0.1111111111111111,
              "#46039f"
             ],
             [
              0.2222222222222222,
              "#7201a8"
             ],
             [
              0.3333333333333333,
              "#9c179e"
             ],
             [
              0.4444444444444444,
              "#bd3786"
             ],
             [
              0.5555555555555556,
              "#d8576b"
             ],
             [
              0.6666666666666666,
              "#ed7953"
             ],
             [
              0.7777777777777778,
              "#fb9f3a"
             ],
             [
              0.8888888888888888,
              "#fdca26"
             ],
             [
              1,
              "#f0f921"
             ]
            ],
            "type": "surface"
           }
          ],
          "table": [
           {
            "cells": {
             "fill": {
              "color": "#EBF0F8"
             },
             "line": {
              "color": "white"
             }
            },
            "header": {
             "fill": {
              "color": "#C8D4E3"
             },
             "line": {
              "color": "white"
             }
            },
            "type": "table"
           }
          ]
         },
         "layout": {
          "annotationdefaults": {
           "arrowcolor": "#2a3f5f",
           "arrowhead": 0,
           "arrowwidth": 1
          },
          "autotypenumbers": "strict",
          "coloraxis": {
           "colorbar": {
            "outlinewidth": 0,
            "ticks": ""
           }
          },
          "colorscale": {
           "diverging": [
            [
             0,
             "#8e0152"
            ],
            [
             0.1,
             "#c51b7d"
            ],
            [
             0.2,
             "#de77ae"
            ],
            [
             0.3,
             "#f1b6da"
            ],
            [
             0.4,
             "#fde0ef"
            ],
            [
             0.5,
             "#f7f7f7"
            ],
            [
             0.6,
             "#e6f5d0"
            ],
            [
             0.7,
             "#b8e186"
            ],
            [
             0.8,
             "#7fbc41"
            ],
            [
             0.9,
             "#4d9221"
            ],
            [
             1,
             "#276419"
            ]
           ],
           "sequential": [
            [
             0,
             "#0d0887"
            ],
            [
             0.1111111111111111,
             "#46039f"
            ],
            [
             0.2222222222222222,
             "#7201a8"
            ],
            [
             0.3333333333333333,
             "#9c179e"
            ],
            [
             0.4444444444444444,
             "#bd3786"
            ],
            [
             0.5555555555555556,
             "#d8576b"
            ],
            [
             0.6666666666666666,
             "#ed7953"
            ],
            [
             0.7777777777777778,
             "#fb9f3a"
            ],
            [
             0.8888888888888888,
             "#fdca26"
            ],
            [
             1,
             "#f0f921"
            ]
           ],
           "sequentialminus": [
            [
             0,
             "#0d0887"
            ],
            [
             0.1111111111111111,
             "#46039f"
            ],
            [
             0.2222222222222222,
             "#7201a8"
            ],
            [
             0.3333333333333333,
             "#9c179e"
            ],
            [
             0.4444444444444444,
             "#bd3786"
            ],
            [
             0.5555555555555556,
             "#d8576b"
            ],
            [
             0.6666666666666666,
             "#ed7953"
            ],
            [
             0.7777777777777778,
             "#fb9f3a"
            ],
            [
             0.8888888888888888,
             "#fdca26"
            ],
            [
             1,
             "#f0f921"
            ]
           ]
          },
          "colorway": [
           "#636efa",
           "#EF553B",
           "#00cc96",
           "#ab63fa",
           "#FFA15A",
           "#19d3f3",
           "#FF6692",
           "#B6E880",
           "#FF97FF",
           "#FECB52"
          ],
          "font": {
           "color": "#2a3f5f"
          },
          "geo": {
           "bgcolor": "white",
           "lakecolor": "white",
           "landcolor": "#E5ECF6",
           "showlakes": true,
           "showland": true,
           "subunitcolor": "white"
          },
          "hoverlabel": {
           "align": "left"
          },
          "hovermode": "closest",
          "mapbox": {
           "style": "light"
          },
          "paper_bgcolor": "white",
          "plot_bgcolor": "#E5ECF6",
          "polar": {
           "angularaxis": {
            "gridcolor": "white",
            "linecolor": "white",
            "ticks": ""
           },
           "bgcolor": "#E5ECF6",
           "radialaxis": {
            "gridcolor": "white",
            "linecolor": "white",
            "ticks": ""
           }
          },
          "scene": {
           "xaxis": {
            "backgroundcolor": "#E5ECF6",
            "gridcolor": "white",
            "gridwidth": 2,
            "linecolor": "white",
            "showbackground": true,
            "ticks": "",
            "zerolinecolor": "white"
           },
           "yaxis": {
            "backgroundcolor": "#E5ECF6",
            "gridcolor": "white",
            "gridwidth": 2,
            "linecolor": "white",
            "showbackground": true,
            "ticks": "",
            "zerolinecolor": "white"
           },
           "zaxis": {
            "backgroundcolor": "#E5ECF6",
            "gridcolor": "white",
            "gridwidth": 2,
            "linecolor": "white",
            "showbackground": true,
            "ticks": "",
            "zerolinecolor": "white"
           }
          },
          "shapedefaults": {
           "line": {
            "color": "#2a3f5f"
           }
          },
          "ternary": {
           "aaxis": {
            "gridcolor": "white",
            "linecolor": "white",
            "ticks": ""
           },
           "baxis": {
            "gridcolor": "white",
            "linecolor": "white",
            "ticks": ""
           },
           "bgcolor": "#E5ECF6",
           "caxis": {
            "gridcolor": "white",
            "linecolor": "white",
            "ticks": ""
           }
          },
          "title": {
           "x": 0.05
          },
          "xaxis": {
           "automargin": true,
           "gridcolor": "white",
           "linecolor": "white",
           "ticks": "",
           "title": {
            "standoff": 15
           },
           "zerolinecolor": "white",
           "zerolinewidth": 2
          },
          "yaxis": {
           "automargin": true,
           "gridcolor": "white",
           "linecolor": "white",
           "ticks": "",
           "title": {
            "standoff": 15
           },
           "zerolinecolor": "white",
           "zerolinewidth": 2
          }
         }
        },
        "title": {
         "text": "Watch Activity by Month"
        },
        "xaxis": {
         "anchor": "y",
         "domain": [
          0,
          1
         ],
         "title": {
          "text": "Month"
         }
        },
        "yaxis": {
         "anchor": "x",
         "domain": [
          0,
          1
         ],
         "title": {
          "text": "Number of Streams"
         }
        }
       }
      }
     },
     "metadata": {},
     "output_type": "display_data"
    }
   ],
   "source": [
    "# Use Matplotlib to plot the all-time streams by month\n",
    "monthly_df.plot(kind=\"bar\", x=\"month\", y=\"count\")\n",
    "plt.title(\"Watch Activity by Month\")\n",
    "plt.xlabel(\"Month\")\n",
    "plt.ylabel(\"Number of Streams\")\n",
    "plt.show()\n",
    "\n",
    "# Or using Plotly for an interactive bar chart\n",
    "fig = px.bar(\n",
    "    monthly_df,\n",
    "    x=\"month\",\n",
    "    y=\"count\",\n",
    "    title=\"Watch Activity by Month\",\n",
    "    labels={\"month\": \"Month\", \"count\": \"Number of Streams\"}\n",
    ")\n",
    "\n",
    "fig.show()"
   ]
  },
  {
   "cell_type": "markdown",
   "id": "99ad921a",
   "metadata": {},
   "source": [
    "The chart shows that **March** has the highest stream counts across the dataset.  \n",
    "But is that a consistent pattern across years? Or maybe there is a single March that I streamed the most?"
   ]
  },
  {
   "cell_type": "markdown",
   "id": "4250e713",
   "metadata": {},
   "source": [
    "# Stream Over Time (Monthly)\n",
    "Let's zoom in further and explore my **streams over time**."
   ]
  },
  {
   "cell_type": "code",
   "execution_count": 17,
   "id": "8ebcf6c9",
   "metadata": {},
   "outputs": [
    {
     "data": {
      "text/html": [
       "<div>\n",
       "<style scoped>\n",
       "    .dataframe tbody tr th:only-of-type {\n",
       "        vertical-align: middle;\n",
       "    }\n",
       "\n",
       "    .dataframe tbody tr th {\n",
       "        vertical-align: top;\n",
       "    }\n",
       "\n",
       "    .dataframe thead th {\n",
       "        text-align: right;\n",
       "    }\n",
       "</style>\n",
       "<table border=\"1\" class=\"dataframe\">\n",
       "  <thead>\n",
       "    <tr style=\"text-align: right;\">\n",
       "      <th></th>\n",
       "      <th>month_year</th>\n",
       "      <th>count</th>\n",
       "    </tr>\n",
       "  </thead>\n",
       "  <tbody>\n",
       "    <tr>\n",
       "      <th>0</th>\n",
       "      <td>2021-12</td>\n",
       "      <td>164</td>\n",
       "    </tr>\n",
       "    <tr>\n",
       "      <th>1</th>\n",
       "      <td>2022-01</td>\n",
       "      <td>284</td>\n",
       "    </tr>\n",
       "    <tr>\n",
       "      <th>2</th>\n",
       "      <td>2022-02</td>\n",
       "      <td>341</td>\n",
       "    </tr>\n",
       "    <tr>\n",
       "      <th>3</th>\n",
       "      <td>2022-03</td>\n",
       "      <td>99</td>\n",
       "    </tr>\n",
       "    <tr>\n",
       "      <th>4</th>\n",
       "      <td>2022-04</td>\n",
       "      <td>167</td>\n",
       "    </tr>\n",
       "    <tr>\n",
       "      <th>5</th>\n",
       "      <td>2022-05</td>\n",
       "      <td>519</td>\n",
       "    </tr>\n",
       "    <tr>\n",
       "      <th>6</th>\n",
       "      <td>2022-06</td>\n",
       "      <td>403</td>\n",
       "    </tr>\n",
       "    <tr>\n",
       "      <th>7</th>\n",
       "      <td>2022-07</td>\n",
       "      <td>274</td>\n",
       "    </tr>\n",
       "    <tr>\n",
       "      <th>8</th>\n",
       "      <td>2022-08</td>\n",
       "      <td>516</td>\n",
       "    </tr>\n",
       "    <tr>\n",
       "      <th>9</th>\n",
       "      <td>2022-09</td>\n",
       "      <td>584</td>\n",
       "    </tr>\n",
       "  </tbody>\n",
       "</table>\n",
       "</div>"
      ],
      "text/plain": [
       "  month_year  count\n",
       "0    2021-12    164\n",
       "1    2022-01    284\n",
       "2    2022-02    341\n",
       "3    2022-03     99\n",
       "4    2022-04    167\n",
       "5    2022-05    519\n",
       "6    2022-06    403\n",
       "7    2022-07    274\n",
       "8    2022-08    516\n",
       "9    2022-09    584"
      ]
     },
     "execution_count": 17,
     "metadata": {},
     "output_type": "execute_result"
    }
   ],
   "source": [
    "# Returns the number of streams per month and year\n",
    "cleaned_df_copy[\"month_year\"] = cleaned_df_copy[\"time\"].dt.to_period(\"M\").astype(str) # Creates a new column for month and year\n",
    "month_year_counts = cleaned_df_copy[\"month_year\"].value_counts().sort_index() # Counts the number of streams per month and year\n",
    "month_year_df = month_year_counts.reset_index()\n",
    "month_year_df.head(10)"
   ]
  },
  {
   "cell_type": "code",
   "execution_count": 18,
   "id": "92a4b5b6",
   "metadata": {},
   "outputs": [
    {
     "data": {
      "image/png": "[encoded data removed]",
      "text/plain": [
       "<Figure size 640x480 with 1 Axes>"
      ]
     },
     "metadata": {},
     "output_type": "display_data"
    },
    {
     "data": {
      "application/vnd.plotly.v1+json": {
       "config": {
        "plotlyServerURL": "https://plot.ly"
       },
       "data": [
        {
         "hovertemplate": "Date=%{x}<br>Number of Streams=%{y}<extra></extra>",
         "legendgroup": "",
         "line": {
          "color": "#636efa",
          "dash": "solid"
         },
         "marker": {
          "symbol": "circle"
         },
         "mode": "lines+markers",
         "name": "",
         "orientation": "v",
         "showlegend": false,
         "type": "scatter",
         "x": [
          "2021-12",
          "2022-01",
          "2022-02",
          "2022-03",
          "2022-04",
          "2022-05",
          "2022-06",
          "2022-07",
          "2022-08",
          "2022-09",
          "2022-10",
          "2022-11",
          "2022-12",
          "2023-01",
          "2023-02",
          "2023-03",
          "2023-04",
          "2023-05",
          "2023-06",
          "2023-07",
          "2023-08",
          "2023-09",
          "2023-10",
          "2023-11",
          "2023-12",
          "2024-01",
          "2024-02",
          "2024-03",
          "2024-04",
          "2024-05",
          "2024-06",
          "2024-07",
          "2024-08",
          "2024-09",
          "2024-10",
          "2024-11",
          "2024-12",
          "2025-01",
          "2025-02",
          "2025-03",
          "2025-04",
          "2025-05"
         ],
         "xaxis": "x",
         "y": {
          "bdata": "pAAcAVUBYwCnAAcCkwESAQQCSAISABkAcwA0AfYCzQQCBGkCUAJlAw0B8wFgAn4ChQFCAUYCywKHA7QFTAPICAEGHQT0A1sGxwUdBUwHeAekBdwE",
          "dtype": "i2"
         },
         "yaxis": "y"
        }
       ],
       "layout": {
        "legend": {
         "tracegroupgap": 0
        },
        "template": {
         "data": {
          "bar": [
           {
            "error_x": {
             "color": "#2a3f5f"
            },
            "error_y": {
             "color": "#2a3f5f"
            },
            "marker": {
             "line": {
              "color": "#E5ECF6",
              "width": 0.5
             },
             "pattern": {
              "fillmode": "overlay",
              "size": 10,
              "solidity": 0.2
             }
            },
            "type": "bar"
           }
          ],
          "barpolar": [
           {
            "marker": {
             "line": {
              "color": "#E5ECF6",
              "width": 0.5
             },
             "pattern": {
              "fillmode": "overlay",
              "size": 10,
              "solidity": 0.2
             }
            },
            "type": "barpolar"
           }
          ],
          "carpet": [
           {
            "aaxis": {
             "endlinecolor": "#2a3f5f",
             "gridcolor": "white",
             "linecolor": "white",
             "minorgridcolor": "white",
             "startlinecolor": "#2a3f5f"
            },
            "baxis": {
             "endlinecolor": "#2a3f5f",
             "gridcolor": "white",
             "linecolor": "white",
             "minorgridcolor": "white",
             "startlinecolor": "#2a3f5f"
            },
            "type": "carpet"
           }
          ],
          "choropleth": [
           {
            "colorbar": {
             "outlinewidth": 0,
             "ticks": ""
            },
            "type": "choropleth"
           }
          ],
          "contour": [
           {
            "colorbar": {
             "outlinewidth": 0,
             "ticks": ""
            },
            "colorscale": [
             [
              0,
              "#0d0887"
             ],
             [
              0.1111111111111111,
              "#46039f"
             ],
             [
              0.2222222222222222,
              "#7201a8"
             ],
             [
              0.3333333333333333,
              "#9c179e"
             ],
             [
              0.4444444444444444,
              "#bd3786"
             ],
             [
              0.5555555555555556,
              "#d8576b"
             ],
             [
              0.6666666666666666,
              "#ed7953"
             ],
             [
              0.7777777777777778,
              "#fb9f3a"
             ],
             [
              0.8888888888888888,
              "#fdca26"
             ],
             [
              1,
              "#f0f921"
             ]
            ],
            "type": "contour"
           }
          ],
          "contourcarpet": [
           {
            "colorbar": {
             "outlinewidth": 0,
             "ticks": ""
            },
            "type": "contourcarpet"
           }
          ],
          "heatmap": [
           {
            "colorbar": {
             "outlinewidth": 0,
             "ticks": ""
            },
            "colorscale": [
             [
              0,
              "#0d0887"
             ],
             [
              0.1111111111111111,
              "#46039f"
             ],
             [
              0.2222222222222222,
              "#7201a8"
             ],
             [
              0.3333333333333333,
              "#9c179e"
             ],
             [
              0.4444444444444444,
              "#bd3786"
             ],
             [
              0.5555555555555556,
              "#d8576b"
             ],
             [
              0.6666666666666666,
              "#ed7953"
             ],
             [
              0.7777777777777778,
              "#fb9f3a"
             ],
             [
              0.8888888888888888,
              "#fdca26"
             ],
             [
              1,
              "#f0f921"
             ]
            ],
            "type": "heatmap"
           }
          ],
          "histogram": [
           {
            "marker": {
             "pattern": {
              "fillmode": "overlay",
              "size": 10,
              "solidity": 0.2
             }
            },
            "type": "histogram"
           }
          ],
          "histogram2d": [
           {
            "colorbar": {
             "outlinewidth": 0,
             "ticks": ""
            },
            "colorscale": [
             [
              0,
              "#0d0887"
             ],
             [
              0.1111111111111111,
              "#46039f"
             ],
             [
              0.2222222222222222,
              "#7201a8"
             ],
             [
              0.3333333333333333,
              "#9c179e"
             ],
             [
              0.4444444444444444,
              "#bd3786"
             ],
             [
              0.5555555555555556,
              "#d8576b"
             ],
             [
              0.6666666666666666,
              "#ed7953"
             ],
             [
              0.7777777777777778,
              "#fb9f3a"
             ],
             [
              0.8888888888888888,
              "#fdca26"
             ],
             [
              1,
              "#f0f921"
             ]
            ],
            "type": "histogram2d"
           }
          ],
          "histogram2dcontour": [
           {
            "colorbar": {
             "outlinewidth": 0,
             "ticks": ""
            },
            "colorscale": [
             [
              0,
              "#0d0887"
             ],
             [
              0.1111111111111111,
              "#46039f"
             ],
             [
              0.2222222222222222,
              "#7201a8"
             ],
             [
              0.3333333333333333,
              "#9c179e"
             ],
             [
              0.4444444444444444,
              "#bd3786"
             ],
             [
              0.5555555555555556,
              "#d8576b"
             ],
             [
              0.6666666666666666,
              "#ed7953"
             ],
             [
              0.7777777777777778,
              "#fb9f3a"
             ],
             [
              0.8888888888888888,
              "#fdca26"
             ],
             [
              1,
              "#f0f921"
             ]
            ],
            "type": "histogram2dcontour"
           }
          ],
          "mesh3d": [
           {
            "colorbar": {
             "outlinewidth": 0,
             "ticks": ""
            },
            "type": "mesh3d"
           }
          ],
          "parcoords": [
           {
            "line": {
             "colorbar": {
              "outlinewidth": 0,
              "ticks": ""
             }
            },
            "type": "parcoords"
           }
          ],
          "pie": [
           {
            "automargin": true,
            "type": "pie"
           }
          ],
          "scatter": [
           {
            "fillpattern": {
             "fillmode": "overlay",
             "size": 10,
             "solidity": 0.2
            },
            "type": "scatter"
           }
          ],
          "scatter3d": [
           {
            "line": {
             "colorbar": {
              "outlinewidth": 0,
              "ticks": ""
             }
            },
            "marker": {
             "colorbar": {
              "outlinewidth": 0,
              "ticks": ""
             }
            },
            "type": "scatter3d"
           }
          ],
          "scattercarpet": [
           {
            "marker": {
             "colorbar": {
              "outlinewidth": 0,
              "ticks": ""
             }
            },
            "type": "scattercarpet"
           }
          ],
          "scattergeo": [
           {
            "marker": {
             "colorbar": {
              "outlinewidth": 0,
              "ticks": ""
             }
            },
            "type": "scattergeo"
           }
          ],
          "scattergl": [
           {
            "marker": {
             "colorbar": {
              "outlinewidth": 0,
              "ticks": ""
             }
            },
            "type": "scattergl"
           }
          ],
          "scattermap": [
           {
            "marker": {
             "colorbar": {
              "outlinewidth": 0,
              "ticks": ""
             }
            },
            "type": "scattermap"
           }
          ],
          "scattermapbox": [
           {
            "marker": {
             "colorbar": {
              "outlinewidth": 0,
              "ticks": ""
             }
            },
            "type": "scattermapbox"
           }
          ],
          "scatterpolar": [
           {
            "marker": {
             "colorbar": {
              "outlinewidth": 0,
              "ticks": ""
             }
            },
            "type": "scatterpolar"
           }
          ],
          "scatterpolargl": [
           {
            "marker": {
             "colorbar": {
              "outlinewidth": 0,
              "ticks": ""
             }
            },
            "type": "scatterpolargl"
           }
          ],
          "scatterternary": [
           {
            "marker": {
             "colorbar": {
              "outlinewidth": 0,
              "ticks": ""
             }
            },
            "type": "scatterternary"
           }
          ],
          "surface": [
           {
            "colorbar": {
             "outlinewidth": 0,
             "ticks": ""
            },
            "colorscale": [
             [
              0,
              "#0d0887"
             ],
             [
              0.1111111111111111,
              "#46039f"
             ],
             [
              0.2222222222222222,
              "#7201a8"
             ],
             [
              0.3333333333333333,
              "#9c179e"
             ],
             [
              0.4444444444444444,
              "#bd3786"
             ],
             [
              0.5555555555555556,
              "#d8576b"
             ],
             [
              0.6666666666666666,
              "#ed7953"
             ],
             [
              0.7777777777777778,
              "#fb9f3a"
             ],
             [
              0.8888888888888888,
              "#fdca26"
             ],
             [
              1,
              "#f0f921"
             ]
            ],
            "type": "surface"
           }
          ],
          "table": [
           {
            "cells": {
             "fill": {
              "color": "#EBF0F8"
             },
             "line": {
              "color": "white"
             }
            },
            "header": {
             "fill": {
              "color": "#C8D4E3"
             },
             "line": {
              "color": "white"
             }
            },
            "type": "table"
           }
          ]
         },
         "layout": {
          "annotationdefaults": {
           "arrowcolor": "#2a3f5f",
           "arrowhead": 0,
           "arrowwidth": 1
          },
          "autotypenumbers": "strict",
          "coloraxis": {
           "colorbar": {
            "outlinewidth": 0,
            "ticks": ""
           }
          },
          "colorscale": {
           "diverging": [
            [
             0,
             "#8e0152"
            ],
            [
             0.1,
             "#c51b7d"
            ],
            [
             0.2,
             "#de77ae"
            ],
            [
             0.3,
             "#f1b6da"
            ],
            [
             0.4,
             "#fde0ef"
            ],
            [
             0.5,
             "#f7f7f7"
            ],
            [
             0.6,
             "#e6f5d0"
            ],
            [
             0.7,
             "#b8e186"
            ],
            [
             0.8,
             "#7fbc41"
            ],
            [
             0.9,
             "#4d9221"
            ],
            [
             1,
             "#276419"
            ]
           ],
           "sequential": [
            [
             0,
             "#0d0887"
            ],
            [
             0.1111111111111111,
             "#46039f"
            ],
            [
             0.2222222222222222,
             "#7201a8"
            ],
            [
             0.3333333333333333,
             "#9c179e"
            ],
            [
             0.4444444444444444,
             "#bd3786"
            ],
            [
             0.5555555555555556,
             "#d8576b"
            ],
            [
             0.6666666666666666,
             "#ed7953"
            ],
            [
             0.7777777777777778,
             "#fb9f3a"
            ],
            [
             0.8888888888888888,
             "#fdca26"
            ],
            [
             1,
             "#f0f921"
            ]
           ],
           "sequentialminus": [
            [
             0,
             "#0d0887"
            ],
            [
             0.1111111111111111,
             "#46039f"
            ],
            [
             0.2222222222222222,
             "#7201a8"
            ],
            [
             0.3333333333333333,
             "#9c179e"
            ],
            [
             0.4444444444444444,
             "#bd3786"
            ],
            [
             0.5555555555555556,
             "#d8576b"
            ],
            [
             0.6666666666666666,
             "#ed7953"
            ],
            [
             0.7777777777777778,
             "#fb9f3a"
            ],
            [
             0.8888888888888888,
             "#fdca26"
            ],
            [
             1,
             "#f0f921"
            ]
           ]
          },
          "colorway": [
           "#636efa",
           "#EF553B",
           "#00cc96",
           "#ab63fa",
           "#FFA15A",
           "#19d3f3",
           "#FF6692",
           "#B6E880",
           "#FF97FF",
           "#FECB52"
          ],
          "font": {
           "color": "#2a3f5f"
          },
          "geo": {
           "bgcolor": "white",
           "lakecolor": "white",
           "landcolor": "#E5ECF6",
           "showlakes": true,
           "showland": true,
           "subunitcolor": "white"
          },
          "hoverlabel": {
           "align": "left"
          },
          "hovermode": "closest",
          "mapbox": {
           "style": "light"
          },
          "paper_bgcolor": "white",
          "plot_bgcolor": "#E5ECF6",
          "polar": {
           "angularaxis": {
            "gridcolor": "white",
            "linecolor": "white",
            "ticks": ""
           },
           "bgcolor": "#E5ECF6",
           "radialaxis": {
            "gridcolor": "white",
            "linecolor": "white",
            "ticks": ""
           }
          },
          "scene": {
           "xaxis": {
            "backgroundcolor": "#E5ECF6",
            "gridcolor": "white",
            "gridwidth": 2,
            "linecolor": "white",
            "showbackground": true,
            "ticks": "",
            "zerolinecolor": "white"
           },
           "yaxis": {
            "backgroundcolor": "#E5ECF6",
            "gridcolor": "white",
            "gridwidth": 2,
            "linecolor": "white",
            "showbackground": true,
            "ticks": "",
            "zerolinecolor": "white"
           },
           "zaxis": {
            "backgroundcolor": "#E5ECF6",
            "gridcolor": "white",
            "gridwidth": 2,
            "linecolor": "white",
            "showbackground": true,
            "ticks": "",
            "zerolinecolor": "white"
           }
          },
          "shapedefaults": {
           "line": {
            "color": "#2a3f5f"
           }
          },
          "ternary": {
           "aaxis": {
            "gridcolor": "white",
            "linecolor": "white",
            "ticks": ""
           },
           "baxis": {
            "gridcolor": "white",
            "linecolor": "white",
            "ticks": ""
           },
           "bgcolor": "#E5ECF6",
           "caxis": {
            "gridcolor": "white",
            "linecolor": "white",
            "ticks": ""
           }
          },
          "title": {
           "x": 0.05
          },
          "xaxis": {
           "automargin": true,
           "gridcolor": "white",
           "linecolor": "white",
           "ticks": "",
           "title": {
            "standoff": 15
           },
           "zerolinecolor": "white",
           "zerolinewidth": 2
          },
          "yaxis": {
           "automargin": true,
           "gridcolor": "white",
           "linecolor": "white",
           "ticks": "",
           "title": {
            "standoff": 15
           },
           "zerolinecolor": "white",
           "zerolinewidth": 2
          }
         }
        },
        "title": {
         "text": "Stream History Over Time (Monthly)"
        },
        "xaxis": {
         "anchor": "y",
         "domain": [
          0,
          1
         ],
         "title": {
          "text": "Date"
         }
        },
        "yaxis": {
         "anchor": "x",
         "domain": [
          0,
          1
         ],
         "title": {
          "text": "Number of Streams"
         }
        }
       }
      }
     },
     "metadata": {},
     "output_type": "display_data"
    }
   ],
   "source": [
    "# Use Matplotlib to plot the all-time streams by month and year\n",
    "month_year_df.plot(kind=\"line\", x=\"month_year\", y=\"count\")\n",
    "plt.title(\"Stream History Over Time (Monthly)\")\n",
    "plt.xlabel(\"Date\")\n",
    "plt.ylabel(\"Number of Streams\")\n",
    "plt.show()\n",
    "\n",
    "# Or using Plotly for an interactive bar chart\n",
    "fig = px.line(\n",
    "    month_year_df[:-1],\n",
    "    x=\"month_year\",\n",
    "    y=\"count\",\n",
    "    title=\"Stream History Over Time (Monthly)\",\n",
    "    labels={\"month_year\" : \"Date\", \"count\" : \"Number of Streams\"},\n",
    "    markers=True\n",
    ")\n",
    "\n",
    "fig.show()"
   ]
  },
  {
   "cell_type": "markdown",
   "id": "c8f54758",
   "metadata": {},
   "source": [
    "Surprisingly, even though March has the highest overall streams, the **single most active** month was in **July 2024**.  \n",
    "This deeper breakdown conveys more insight into specific period of streaming."
   ]
  },
  {
   "cell_type": "markdown",
   "id": "26bd3b96",
   "metadata": {},
   "source": [
    "# Hourly Streaming Activity\n",
    "Now that we've seen how much I listen to music, let's explore when I'm most active."
   ]
  },
  {
   "cell_type": "code",
   "execution_count": 19,
   "id": "26cdeabf",
   "metadata": {},
   "outputs": [
    {
     "data": {
      "text/html": [
       "<div>\n",
       "<style scoped>\n",
       "    .dataframe tbody tr th:only-of-type {\n",
       "        vertical-align: middle;\n",
       "    }\n",
       "\n",
       "    .dataframe tbody tr th {\n",
       "        vertical-align: top;\n",
       "    }\n",
       "\n",
       "    .dataframe thead th {\n",
       "        text-align: right;\n",
       "    }\n",
       "</style>\n",
       "<table border=\"1\" class=\"dataframe\">\n",
       "  <thead>\n",
       "    <tr style=\"text-align: right;\">\n",
       "      <th></th>\n",
       "      <th>hour</th>\n",
       "      <th>count</th>\n",
       "    </tr>\n",
       "  </thead>\n",
       "  <tbody>\n",
       "    <tr>\n",
       "      <th>0</th>\n",
       "      <td>0</td>\n",
       "      <td>162</td>\n",
       "    </tr>\n",
       "    <tr>\n",
       "      <th>1</th>\n",
       "      <td>1</td>\n",
       "      <td>38</td>\n",
       "    </tr>\n",
       "    <tr>\n",
       "      <th>2</th>\n",
       "      <td>2</td>\n",
       "      <td>9</td>\n",
       "    </tr>\n",
       "    <tr>\n",
       "      <th>3</th>\n",
       "      <td>3</td>\n",
       "      <td>5</td>\n",
       "    </tr>\n",
       "    <tr>\n",
       "      <th>4</th>\n",
       "      <td>4</td>\n",
       "      <td>15</td>\n",
       "    </tr>\n",
       "  </tbody>\n",
       "</table>\n",
       "</div>"
      ],
      "text/plain": [
       "   hour  count\n",
       "0     0    162\n",
       "1     1     38\n",
       "2     2      9\n",
       "3     3      5\n",
       "4     4     15"
      ]
     },
     "execution_count": 19,
     "metadata": {},
     "output_type": "execute_result"
    }
   ],
   "source": [
    "# Returns the number of streams per hour\n",
    "cleaned_df_copy[\"hour\"] = cleaned_df_copy[\"time\"].dt.hour\n",
    "hourly_counts = cleaned_df_copy[\"hour\"].value_counts().sort_index() # Counts the number of streams per hour\n",
    "hourly_df = hourly_counts.reset_index()\n",
    "hourly_df.head()"
   ]
  },
  {
   "cell_type": "code",
   "execution_count": 20,
   "id": "7d64433c",
   "metadata": {},
   "outputs": [
    {
     "data": {
      "image/png": "[encoded data removed]",
      "text/plain": [
       "<Figure size 640x480 with 1 Axes>"
      ]
     },
     "metadata": {},
     "output_type": "display_data"
    },
    {
     "data": {
      "application/vnd.plotly.v1+json": {
       "config": {
        "plotlyServerURL": "https://plot.ly"
       },
       "data": [
        {
         "hovertemplate": "Hour of Day=%{x}<br>Number of Streams=%{y}<extra></extra>",
         "legendgroup": "",
         "marker": {
          "color": "#636efa",
          "pattern": {
           "shape": ""
          }
         },
         "name": "",
         "orientation": "v",
         "showlegend": false,
         "textposition": "auto",
         "type": "bar",
         "x": {
          "bdata": "AAAAAAEAAAACAAAAAwAAAAQAAAAFAAAABgAAAAcAAAAIAAAACQAAAAoAAAALAAAADAAAAA0AAAAOAAAADwAAABAAAAARAAAAEgAAABMAAAAUAAAAFQAAABYAAAAXAAAA",
          "dtype": "i4"
         },
         "xaxis": "x",
         "y": {
          "bdata": "ogAmAAkABQAPAPsAxQavB2MFlwcACIEJLgi1CVgJCArzCVMJ4gWuBjEFhQPwAnkC",
          "dtype": "i2"
         },
         "yaxis": "y"
        }
       ],
       "layout": {
        "barmode": "relative",
        "legend": {
         "tracegroupgap": 0
        },
        "template": {
         "data": {
          "bar": [
           {
            "error_x": {
             "color": "#2a3f5f"
            },
            "error_y": {
             "color": "#2a3f5f"
            },
            "marker": {
             "line": {
              "color": "#E5ECF6",
              "width": 0.5
             },
             "pattern": {
              "fillmode": "overlay",
              "size": 10,
              "solidity": 0.2
             }
            },
            "type": "bar"
           }
          ],
          "barpolar": [
           {
            "marker": {
             "line": {
              "color": "#E5ECF6",
              "width": 0.5
             },
             "pattern": {
              "fillmode": "overlay",
              "size": 10,
              "solidity": 0.2
             }
            },
            "type": "barpolar"
           }
          ],
          "carpet": [
           {
            "aaxis": {
             "endlinecolor": "#2a3f5f",
             "gridcolor": "white",
             "linecolor": "white",
             "minorgridcolor": "white",
             "startlinecolor": "#2a3f5f"
            },
            "baxis": {
             "endlinecolor": "#2a3f5f",
             "gridcolor": "white",
             "linecolor": "white",
             "minorgridcolor": "white",
             "startlinecolor": "#2a3f5f"
            },
            "type": "carpet"
           }
          ],
          "choropleth": [
           {
            "colorbar": {
             "outlinewidth": 0,
             "ticks": ""
            },
            "type": "choropleth"
           }
          ],
          "contour": [
           {
            "colorbar": {
             "outlinewidth": 0,
             "ticks": ""
            },
            "colorscale": [
             [
              0,
              "#0d0887"
             ],
             [
              0.1111111111111111,
              "#46039f"
             ],
             [
              0.2222222222222222,
              "#7201a8"
             ],
             [
              0.3333333333333333,
              "#9c179e"
             ],
             [
              0.4444444444444444,
              "#bd3786"
             ],
             [
              0.5555555555555556,
              "#d8576b"
             ],
             [
              0.6666666666666666,
              "#ed7953"
             ],
             [
              0.7777777777777778,
              "#fb9f3a"
             ],
             [
              0.8888888888888888,
              "#fdca26"
             ],
             [
              1,
              "#f0f921"
             ]
            ],
            "type": "contour"
           }
          ],
          "contourcarpet": [
           {
            "colorbar": {
             "outlinewidth": 0,
             "ticks": ""
            },
            "type": "contourcarpet"
           }
          ],
          "heatmap": [
           {
            "colorbar": {
             "outlinewidth": 0,
             "ticks": ""
            },
            "colorscale": [
             [
              0,
              "#0d0887"
             ],
             [
              0.1111111111111111,
              "#46039f"
             ],
             [
              0.2222222222222222,
              "#7201a8"
             ],
             [
              0.3333333333333333,
              "#9c179e"
             ],
             [
              0.4444444444444444,
              "#bd3786"
             ],
             [
              0.5555555555555556,
              "#d8576b"
             ],
             [
              0.6666666666666666,
              "#ed7953"
             ],
             [
              0.7777777777777778,
              "#fb9f3a"
             ],
             [
              0.8888888888888888,
              "#fdca26"
             ],
             [
              1,
              "#f0f921"
             ]
            ],
            "type": "heatmap"
           }
          ],
          "histogram": [
           {
            "marker": {
             "pattern": {
              "fillmode": "overlay",
              "size": 10,
              "solidity": 0.2
             }
            },
            "type": "histogram"
           }
          ],
          "histogram2d": [
           {
            "colorbar": {
             "outlinewidth": 0,
             "ticks": ""
            },
            "colorscale": [
             [
              0,
              "#0d0887"
             ],
             [
              0.1111111111111111,
              "#46039f"
             ],
             [
              0.2222222222222222,
              "#7201a8"
             ],
             [
              0.3333333333333333,
              "#9c179e"
             ],
             [
              0.4444444444444444,
              "#bd3786"
             ],
             [
              0.5555555555555556,
              "#d8576b"
             ],
             [
              0.6666666666666666,
              "#ed7953"
             ],
             [
              0.7777777777777778,
              "#fb9f3a"
             ],
             [
              0.8888888888888888,
              "#fdca26"
             ],
             [
              1,
              "#f0f921"
             ]
            ],
            "type": "histogram2d"
           }
          ],
          "histogram2dcontour": [
           {
            "colorbar": {
             "outlinewidth": 0,
             "ticks": ""
            },
            "colorscale": [
             [
              0,
              "#0d0887"
             ],
             [
              0.1111111111111111,
              "#46039f"
             ],
             [
              0.2222222222222222,
              "#7201a8"
             ],
             [
              0.3333333333333333,
              "#9c179e"
             ],
             [
              0.4444444444444444,
              "#bd3786"
             ],
             [
              0.5555555555555556,
              "#d8576b"
             ],
             [
              0.6666666666666666,
              "#ed7953"
             ],
             [
              0.7777777777777778,
              "#fb9f3a"
             ],
             [
              0.8888888888888888,
              "#fdca26"
             ],
             [
              1,
              "#f0f921"
             ]
            ],
            "type": "histogram2dcontour"
           }
          ],
          "mesh3d": [
           {
            "colorbar": {
             "outlinewidth": 0,
             "ticks": ""
            },
            "type": "mesh3d"
           }
          ],
          "parcoords": [
           {
            "line": {
             "colorbar": {
              "outlinewidth": 0,
              "ticks": ""
             }
            },
            "type": "parcoords"
           }
          ],
          "pie": [
           {
            "automargin": true,
            "type": "pie"
           }
          ],
          "scatter": [
           {
            "fillpattern": {
             "fillmode": "overlay",
             "size": 10,
             "solidity": 0.2
            },
            "type": "scatter"
           }
          ],
          "scatter3d": [
           {
            "line": {
             "colorbar": {
              "outlinewidth": 0,
              "ticks": ""
             }
            },
            "marker": {
             "colorbar": {
              "outlinewidth": 0,
              "ticks": ""
             }
            },
            "type": "scatter3d"
           }
          ],
          "scattercarpet": [
           {
            "marker": {
             "colorbar": {
              "outlinewidth": 0,
              "ticks": ""
             }
            },
            "type": "scattercarpet"
           }
          ],
          "scattergeo": [
           {
            "marker": {
             "colorbar": {
              "outlinewidth": 0,
              "ticks": ""
             }
            },
            "type": "scattergeo"
           }
          ],
          "scattergl": [
           {
            "marker": {
             "colorbar": {
              "outlinewidth": 0,
              "ticks": ""
             }
            },
            "type": "scattergl"
           }
          ],
          "scattermap": [
           {
            "marker": {
             "colorbar": {
              "outlinewidth": 0,
              "ticks": ""
             }
            },
            "type": "scattermap"
           }
          ],
          "scattermapbox": [
           {
            "marker": {
             "colorbar": {
              "outlinewidth": 0,
              "ticks": ""
             }
            },
            "type": "scattermapbox"
           }
          ],
          "scatterpolar": [
           {
            "marker": {
             "colorbar": {
              "outlinewidth": 0,
              "ticks": ""
             }
            },
            "type": "scatterpolar"
           }
          ],
          "scatterpolargl": [
           {
            "marker": {
             "colorbar": {
              "outlinewidth": 0,
              "ticks": ""
             }
            },
            "type": "scatterpolargl"
           }
          ],
          "scatterternary": [
           {
            "marker": {
             "colorbar": {
              "outlinewidth": 0,
              "ticks": ""
             }
            },
            "type": "scatterternary"
           }
          ],
          "surface": [
           {
            "colorbar": {
             "outlinewidth": 0,
             "ticks": ""
            },
            "colorscale": [
             [
              0,
              "#0d0887"
             ],
             [
              0.1111111111111111,
              "#46039f"
             ],
             [
              0.2222222222222222,
              "#7201a8"
             ],
             [
              0.3333333333333333,
              "#9c179e"
             ],
             [
              0.4444444444444444,
              "#bd3786"
             ],
             [
              0.5555555555555556,
              "#d8576b"
             ],
             [
              0.6666666666666666,
              "#ed7953"
             ],
             [
              0.7777777777777778,
              "#fb9f3a"
             ],
             [
              0.8888888888888888,
              "#fdca26"
             ],
             [
              1,
              "#f0f921"
             ]
            ],
            "type": "surface"
           }
          ],
          "table": [
           {
            "cells": {
             "fill": {
              "color": "#EBF0F8"
             },
             "line": {
              "color": "white"
             }
            },
            "header": {
             "fill": {
              "color": "#C8D4E3"
             },
             "line": {
              "color": "white"
             }
            },
            "type": "table"
           }
          ]
         },
         "layout": {
          "annotationdefaults": {
           "arrowcolor": "#2a3f5f",
           "arrowhead": 0,
           "arrowwidth": 1
          },
          "autotypenumbers": "strict",
          "coloraxis": {
           "colorbar": {
            "outlinewidth": 0,
            "ticks": ""
           }
          },
          "colorscale": {
           "diverging": [
            [
             0,
             "#8e0152"
            ],
            [
             0.1,
             "#c51b7d"
            ],
            [
             0.2,
             "#de77ae"
            ],
            [
             0.3,
             "#f1b6da"
            ],
            [
             0.4,
             "#fde0ef"
            ],
            [
             0.5,
             "#f7f7f7"
            ],
            [
             0.6,
             "#e6f5d0"
            ],
            [
             0.7,
             "#b8e186"
            ],
            [
             0.8,
             "#7fbc41"
            ],
            [
             0.9,
             "#4d9221"
            ],
            [
             1,
             "#276419"
            ]
           ],
           "sequential": [
            [
             0,
             "#0d0887"
            ],
            [
             0.1111111111111111,
             "#46039f"
            ],
            [
             0.2222222222222222,
             "#7201a8"
            ],
            [
             0.3333333333333333,
             "#9c179e"
            ],
            [
             0.4444444444444444,
             "#bd3786"
            ],
            [
             0.5555555555555556,
             "#d8576b"
            ],
            [
             0.6666666666666666,
             "#ed7953"
            ],
            [
             0.7777777777777778,
             "#fb9f3a"
            ],
            [
             0.8888888888888888,
             "#fdca26"
            ],
            [
             1,
             "#f0f921"
            ]
           ],
           "sequentialminus": [
            [
             0,
             "#0d0887"
            ],
            [
             0.1111111111111111,
             "#46039f"
            ],
            [
             0.2222222222222222,
             "#7201a8"
            ],
            [
             0.3333333333333333,
             "#9c179e"
            ],
            [
             0.4444444444444444,
             "#bd3786"
            ],
            [
             0.5555555555555556,
             "#d8576b"
            ],
            [
             0.6666666666666666,
             "#ed7953"
            ],
            [
             0.7777777777777778,
             "#fb9f3a"
            ],
            [
             0.8888888888888888,
             "#fdca26"
            ],
            [
             1,
             "#f0f921"
            ]
           ]
          },
          "colorway": [
           "#636efa",
           "#EF553B",
           "#00cc96",
           "#ab63fa",
           "#FFA15A",
           "#19d3f3",
           "#FF6692",
           "#B6E880",
           "#FF97FF",
           "#FECB52"
          ],
          "font": {
           "color": "#2a3f5f"
          },
          "geo": {
           "bgcolor": "white",
           "lakecolor": "white",
           "landcolor": "#E5ECF6",
           "showlakes": true,
           "showland": true,
           "subunitcolor": "white"
          },
          "hoverlabel": {
           "align": "left"
          },
          "hovermode": "closest",
          "mapbox": {
           "style": "light"
          },
          "paper_bgcolor": "white",
          "plot_bgcolor": "#E5ECF6",
          "polar": {
           "angularaxis": {
            "gridcolor": "white",
            "linecolor": "white",
            "ticks": ""
           },
           "bgcolor": "#E5ECF6",
           "radialaxis": {
            "gridcolor": "white",
            "linecolor": "white",
            "ticks": ""
           }
          },
          "scene": {
           "xaxis": {
            "backgroundcolor": "#E5ECF6",
            "gridcolor": "white",
            "gridwidth": 2,
            "linecolor": "white",
            "showbackground": true,
            "ticks": "",
            "zerolinecolor": "white"
           },
           "yaxis": {
            "backgroundcolor": "#E5ECF6",
            "gridcolor": "white",
            "gridwidth": 2,
            "linecolor": "white",
            "showbackground": true,
            "ticks": "",
            "zerolinecolor": "white"
           },
           "zaxis": {
            "backgroundcolor": "#E5ECF6",
            "gridcolor": "white",
            "gridwidth": 2,
            "linecolor": "white",
            "showbackground": true,
            "ticks": "",
            "zerolinecolor": "white"
           }
          },
          "shapedefaults": {
           "line": {
            "color": "#2a3f5f"
           }
          },
          "ternary": {
           "aaxis": {
            "gridcolor": "white",
            "linecolor": "white",
            "ticks": ""
           },
           "baxis": {
            "gridcolor": "white",
            "linecolor": "white",
            "ticks": ""
           },
           "bgcolor": "#E5ECF6",
           "caxis": {
            "gridcolor": "white",
            "linecolor": "white",
            "ticks": ""
           }
          },
          "title": {
           "x": 0.05
          },
          "xaxis": {
           "automargin": true,
           "gridcolor": "white",
           "linecolor": "white",
           "ticks": "",
           "title": {
            "standoff": 15
           },
           "zerolinecolor": "white",
           "zerolinewidth": 2
          },
          "yaxis": {
           "automargin": true,
           "gridcolor": "white",
           "linecolor": "white",
           "ticks": "",
           "title": {
            "standoff": 15
           },
           "zerolinecolor": "white",
           "zerolinewidth": 2
          }
         }
        },
        "title": {
         "text": "Watch Activity by Hour"
        },
        "xaxis": {
         "anchor": "y",
         "domain": [
          0,
          1
         ],
         "title": {
          "text": "Hour of Day"
         }
        },
        "yaxis": {
         "anchor": "x",
         "domain": [
          0,
          1
         ],
         "title": {
          "text": "Number of Streams"
         }
        }
       }
      }
     },
     "metadata": {},
     "output_type": "display_data"
    }
   ],
   "source": [
    "# Use Matplotlib to plot the all-time streams by hour\n",
    "hourly_df.plot(kind=\"bar\", x=\"hour\", y=\"count\")\n",
    "plt.title(\"Watch Activity by Hour\")\n",
    "plt.xlabel(\"Hour of the Day\")\n",
    "plt.ylabel(\"Number of Streams\")\n",
    "plt.show()\n",
    "\n",
    "# Or using Plotly for an interactive bar chart\n",
    "fig = px.bar(\n",
    "    hourly_df,\n",
    "    x=\"hour\",\n",
    "    y=\"count\",\n",
    "    title=\"Watch Activity by Hour\",\n",
    "    labels={\"hour\" : \"Hour of Day\", \"count\" : \"Number of Streams\"}\n",
    ")\n",
    "fig.show()"
   ]
  },
  {
   "cell_type": "markdown",
   "id": "9b1ce302",
   "metadata": {},
   "source": [
    "The graph above shows that my **peak listening hours** are between **11AM and 5PM**, probably during work or study hours."
   ]
  },
  {
   "cell_type": "markdown",
   "id": "5ba28f9a",
   "metadata": {},
   "source": [
    "# Saving to a Database\n",
    "Next, we store our structured data into an **SQLite database**.\n",
    "The following tables were created for future SQL analysis:\n",
    "- `streaming_history` - Main streaming data\n",
    "- `streamed_artists` - Unique list of artists\n",
    "- `streamed_music` - Unique list of tracks\n",
    "- `streamed_albums` - Unique list of albums"
   ]
  },
  {
   "cell_type": "code",
   "execution_count": 21,
   "id": "6b5c1f75",
   "metadata": {},
   "outputs": [
    {
     "data": {
      "text/plain": [
       "2583"
      ]
     },
     "execution_count": 21,
     "metadata": {},
     "output_type": "execute_result"
    }
   ],
   "source": [
    "# Creates a SQLite database and saves the cleaned DataFrame and the streamed artists, music, and albums to it\n",
    "engine = create_engine(\"sqlite:///exported/streaming_history.db\") # Creates a SQLite database\n",
    "stream_history.to_sql(\"streaming_history\", con=engine, if_exists=\"replace\", index=False) # Saves the cleaned DataFrame to the database\n",
    "streamed_artists.to_sql(\"streamed_artists\", con=engine, if_exists=\"replace\", index=False) # Saves the streamed artists to the database\n",
    "streamed_music.to_sql(\"streamed_music\", con=engine, if_exists=\"replace\", index=False) # Saves the streamed music to the database\n",
    "streamed_albums.to_sql(\"streamed_albums\", con=engine, if_exists=\"replace\", index=False) # Saves the streamed albums to the database"
   ]
  },
  {
   "cell_type": "markdown",
   "id": "1dd6fb08",
   "metadata": {},
   "source": [
    "# SQL Queries\n",
    "Since **Cup of Joe** was one of my most streamed artists, here is a sample query to fetch all streams from therm."
   ]
  },
  {
   "cell_type": "code",
   "execution_count": 22,
   "id": "dc680eea",
   "metadata": {},
   "outputs": [
    {
     "name": "stdout",
     "output_type": "stream",
     "text": [
      "   stream_id                        time platform  ms_played  \\\n",
      "0       4382  2023-02-26 09:07:32.000000  windows     186584   \n",
      "1       4384  2023-02-26 09:10:42.000000  windows     186471   \n",
      "2       4385  2023-02-26 09:15:28.000000  windows     252459   \n",
      "3       4386  2023-02-26 09:15:29.000000  windows        541   \n",
      "4       4387  2023-02-26 09:18:36.000000  windows     186564   \n",
      "5       4388  2023-02-26 09:20:20.000000  windows     103764   \n",
      "6       4389  2023-02-26 09:28:16.000000  windows     475156   \n",
      "7       4390  2023-02-26 09:32:38.000000  windows     261957   \n",
      "8       4391  2023-02-26 09:35:32.000000  windows     149619   \n",
      "9       4516  2023-02-28 06:04:01.000000  android     183524   \n",
      "\n",
      "                          song      artist                        album  \\\n",
      "0                  Estranghero  Cup of Joe                  Estranghero   \n",
      "1                  Estranghero  Cup of Joe                  Estranghero   \n",
      "2  Ikaw Pa Rin Ang Pipiliin Ko  Cup of Joe  Ikaw Pa Rin Ang Pipiliin Ko   \n",
      "3                  Estranghero  Cup of Joe                  Estranghero   \n",
      "4                  Estranghero  Cup of Joe                  Estranghero   \n",
      "5  Ikaw Pa Rin Ang Pipiliin Ko  Cup of Joe  Ikaw Pa Rin Ang Pipiliin Ko   \n",
      "6                  Estranghero  Cup of Joe                  Estranghero   \n",
      "7  Ikaw Pa Rin Ang Pipiliin Ko  Cup of Joe  Ikaw Pa Rin Ang Pipiliin Ko   \n",
      "8                    Sinderela  Cup of Joe                    Sinderela   \n",
      "9                  Estranghero  Cup of Joe                  Estranghero   \n",
      "\n",
      "   skipped  \n",
      "0        0  \n",
      "1        0  \n",
      "2        1  \n",
      "3        1  \n",
      "4        0  \n",
      "5        1  \n",
      "6        0  \n",
      "7        0  \n",
      "8        1  \n",
      "9        1  \n"
     ]
    }
   ],
   "source": [
    "# Sample query to fetch data from the SQLite database\n",
    "conn = sqlite3.connect(\"exported/streaming_history.db\") # Connects to the SQLite database\n",
    "query = \"\"\"\n",
    "        SELECT * \n",
    "        FROM streaming_history\n",
    "        WHERE artist = \"Cup of Joe\"\n",
    "        LIMIT 10;\n",
    "        \"\"\"\n",
    "df = pd.read_sql_query(query, conn)\n",
    "print(df)\n",
    "\n",
    "conn.close() # Closes the database connection"
   ]
  },
  {
   "cell_type": "markdown",
   "id": "6c830522",
   "metadata": {},
   "source": [
    "This query returns the **first 10** times I streamed a song by Cup of Joe, along with other details."
   ]
  },
  {
   "cell_type": "markdown",
   "id": "55faa632",
   "metadata": {},
   "source": [
    "Here are more sample queries:\n",
    "1. Get the first 10 rows of the `streaming_history` table.\n",
    "2. Show all songs with a play duration longer than 180 seconds.\n",
    "3. Find all streams where the song was not skipped.\n",
    "4. Get the total number of rows in the `streaming_history`\n",
    "5. Find all streams from Cup of Joe.\n",
    "6. Find all albums you've streamed by TWICE.\n",
    "7. List all streams that happened in 2023.\n",
    "8. Show all songs streamed from mobile platform only.\n",
    "9. Count how many songs were streamed in total.\n",
    "10. Find the number of songs streamed per year.\n",
    "11. Count how many songs you streamed per artist.\n",
    "12. Which artist has the most streams?\n",
    "13. Which album was skipped the most?\n",
    "14. For each stream, show the artist name and album name.\n",
    "15. Show the total number of streams per album, along with artist names.\n",
    "16. Get the top 5 most streamed songs, with their artist names.\n",
    "17. Show all songs streamed more than 10 times.\n",
    "18. Number of songs streamed per weekday.\n",
    "19. Peak hour of streaming activity.\n",
    "20. Most active streaming day of all time."
   ]
  },
  {
   "cell_type": "code",
   "execution_count": 23,
   "id": "c6dca28f",
   "metadata": {},
   "outputs": [],
   "source": [
    "def stream_query(query : str) -> pd.DataFrame:\n",
    "    \"\"\"\n",
    "    Executes an SQL query and returns the results as a DataFrame.\n",
    "    \n",
    "    Parameters:\n",
    "    query (str): The SQL query to execute.\n",
    "    \n",
    "    Returns:\n",
    "    pd.DataFrame: The results of the query as a DataFrame.\n",
    "    \"\"\"\n",
    "    conn = sqlite3.connect(\"exported/streaming_history.db\") # Connects to the SQLite database\n",
    "    df = pd.read_sql_query(query, conn) # Executes the query and returns the results as a DataFrame\n",
    "    conn.close() # Closes the database connection\n",
    "    return df"
   ]
  },
  {
   "cell_type": "code",
   "execution_count": 24,
   "id": "069138ee",
   "metadata": {},
   "outputs": [
    {
     "data": {
      "text/html": [
       "<div>\n",
       "<style scoped>\n",
       "    .dataframe tbody tr th:only-of-type {\n",
       "        vertical-align: middle;\n",
       "    }\n",
       "\n",
       "    .dataframe tbody tr th {\n",
       "        vertical-align: top;\n",
       "    }\n",
       "\n",
       "    .dataframe thead th {\n",
       "        text-align: right;\n",
       "    }\n",
       "</style>\n",
       "<table border=\"1\" class=\"dataframe\">\n",
       "  <thead>\n",
       "    <tr style=\"text-align: right;\">\n",
       "      <th></th>\n",
       "      <th>stream_id</th>\n",
       "      <th>time</th>\n",
       "      <th>platform</th>\n",
       "      <th>ms_played</th>\n",
       "      <th>song</th>\n",
       "      <th>artist</th>\n",
       "      <th>album</th>\n",
       "      <th>skipped</th>\n",
       "    </tr>\n",
       "  </thead>\n",
       "  <tbody>\n",
       "    <tr>\n",
       "      <th>0</th>\n",
       "      <td>1</td>\n",
       "      <td>2021-12-13 22:29:52.000000</td>\n",
       "      <td>Windows 10 (10.0.19043; x64)</td>\n",
       "      <td>198053</td>\n",
       "      <td>The Feels</td>\n",
       "      <td>TWICE</td>\n",
       "      <td>Formula of Love: O+T=&lt;3</td>\n",
       "      <td>0</td>\n",
       "    </tr>\n",
       "    <tr>\n",
       "      <th>1</th>\n",
       "      <td>2</td>\n",
       "      <td>2021-12-13 22:33:07.000000</td>\n",
       "      <td>Windows 10 (10.0.19043; x64)</td>\n",
       "      <td>194600</td>\n",
       "      <td>SCIENTIST</td>\n",
       "      <td>TWICE</td>\n",
       "      <td>Formula of Love: O+T=&lt;3</td>\n",
       "      <td>0</td>\n",
       "    </tr>\n",
       "    <tr>\n",
       "      <th>2</th>\n",
       "      <td>3</td>\n",
       "      <td>2021-12-13 22:36:39.000000</td>\n",
       "      <td>Windows 10 (10.0.19043; x64)</td>\n",
       "      <td>210573</td>\n",
       "      <td>Alcohol-Free</td>\n",
       "      <td>TWICE</td>\n",
       "      <td>Taste of Love</td>\n",
       "      <td>0</td>\n",
       "    </tr>\n",
       "    <tr>\n",
       "      <th>3</th>\n",
       "      <td>4</td>\n",
       "      <td>2021-12-13 22:40:04.000000</td>\n",
       "      <td>Windows 10 (10.0.19043; x64)</td>\n",
       "      <td>205493</td>\n",
       "      <td>I CAN'T STOP ME</td>\n",
       "      <td>TWICE</td>\n",
       "      <td>Eyes Wide Open</td>\n",
       "      <td>0</td>\n",
       "    </tr>\n",
       "    <tr>\n",
       "      <th>4</th>\n",
       "      <td>5</td>\n",
       "      <td>2021-12-13 22:44:04.000000</td>\n",
       "      <td>Windows 10 (10.0.19043; x64)</td>\n",
       "      <td>208240</td>\n",
       "      <td>What is Love</td>\n",
       "      <td>TWICE</td>\n",
       "      <td>Summer Nights</td>\n",
       "      <td>0</td>\n",
       "    </tr>\n",
       "    <tr>\n",
       "      <th>5</th>\n",
       "      <td>6</td>\n",
       "      <td>2021-12-13 22:47:38.000000</td>\n",
       "      <td>Windows 10 (10.0.19043; x64)</td>\n",
       "      <td>213880</td>\n",
       "      <td>FANCY</td>\n",
       "      <td>TWICE</td>\n",
       "      <td>FANCY YOU</td>\n",
       "      <td>0</td>\n",
       "    </tr>\n",
       "    <tr>\n",
       "      <th>6</th>\n",
       "      <td>7</td>\n",
       "      <td>2021-12-13 22:51:06.000000</td>\n",
       "      <td>Windows 10 (10.0.19043; x64)</td>\n",
       "      <td>206866</td>\n",
       "      <td>Feel Special</td>\n",
       "      <td>TWICE</td>\n",
       "      <td>Feel Special</td>\n",
       "      <td>0</td>\n",
       "    </tr>\n",
       "    <tr>\n",
       "      <th>7</th>\n",
       "      <td>8</td>\n",
       "      <td>2021-12-13 22:54:30.000000</td>\n",
       "      <td>Windows 10 (10.0.19043; x64)</td>\n",
       "      <td>204167</td>\n",
       "      <td>CRY FOR ME</td>\n",
       "      <td>TWICE</td>\n",
       "      <td>CRY FOR ME</td>\n",
       "      <td>0</td>\n",
       "    </tr>\n",
       "    <tr>\n",
       "      <th>8</th>\n",
       "      <td>9</td>\n",
       "      <td>2021-12-13 22:57:57.000000</td>\n",
       "      <td>Windows 10 (10.0.19043; x64)</td>\n",
       "      <td>176160</td>\n",
       "      <td>ICON</td>\n",
       "      <td>TWICE</td>\n",
       "      <td>Formula of Love: O+T=&lt;3</td>\n",
       "      <td>0</td>\n",
       "    </tr>\n",
       "    <tr>\n",
       "      <th>9</th>\n",
       "      <td>10</td>\n",
       "      <td>2021-12-13 23:04:25.000000</td>\n",
       "      <td>Windows 10 (10.0.19043; x64)</td>\n",
       "      <td>219386</td>\n",
       "      <td>MOONLIGHT</td>\n",
       "      <td>TWICE</td>\n",
       "      <td>Formula of Love: O+T=&lt;3</td>\n",
       "      <td>0</td>\n",
       "    </tr>\n",
       "  </tbody>\n",
       "</table>\n",
       "</div>"
      ],
      "text/plain": [
       "   stream_id                        time                      platform  \\\n",
       "0          1  2021-12-13 22:29:52.000000  Windows 10 (10.0.19043; x64)   \n",
       "1          2  2021-12-13 22:33:07.000000  Windows 10 (10.0.19043; x64)   \n",
       "2          3  2021-12-13 22:36:39.000000  Windows 10 (10.0.19043; x64)   \n",
       "3          4  2021-12-13 22:40:04.000000  Windows 10 (10.0.19043; x64)   \n",
       "4          5  2021-12-13 22:44:04.000000  Windows 10 (10.0.19043; x64)   \n",
       "5          6  2021-12-13 22:47:38.000000  Windows 10 (10.0.19043; x64)   \n",
       "6          7  2021-12-13 22:51:06.000000  Windows 10 (10.0.19043; x64)   \n",
       "7          8  2021-12-13 22:54:30.000000  Windows 10 (10.0.19043; x64)   \n",
       "8          9  2021-12-13 22:57:57.000000  Windows 10 (10.0.19043; x64)   \n",
       "9         10  2021-12-13 23:04:25.000000  Windows 10 (10.0.19043; x64)   \n",
       "\n",
       "   ms_played             song artist                    album  skipped  \n",
       "0     198053        The Feels  TWICE  Formula of Love: O+T=<3        0  \n",
       "1     194600        SCIENTIST  TWICE  Formula of Love: O+T=<3        0  \n",
       "2     210573     Alcohol-Free  TWICE            Taste of Love        0  \n",
       "3     205493  I CAN'T STOP ME  TWICE           Eyes Wide Open        0  \n",
       "4     208240     What is Love  TWICE            Summer Nights        0  \n",
       "5     213880            FANCY  TWICE                FANCY YOU        0  \n",
       "6     206866     Feel Special  TWICE             Feel Special        0  \n",
       "7     204167       CRY FOR ME  TWICE               CRY FOR ME        0  \n",
       "8     176160             ICON  TWICE  Formula of Love: O+T=<3        0  \n",
       "9     219386        MOONLIGHT  TWICE  Formula of Love: O+T=<3        0  "
      ]
     },
     "execution_count": 24,
     "metadata": {},
     "output_type": "execute_result"
    }
   ],
   "source": [
    "# 1. Get the first 10 rows of the `streaming_history` table.\n",
    "query = \"\"\"\n",
    "        SELECT *\n",
    "        FROM streaming_history\n",
    "        LIMIT 10;\n",
    "        \"\"\" \n",
    "\n",
    "stream_query(query)"
   ]
  },
  {
   "cell_type": "code",
   "execution_count": 25,
   "id": "8cb105ba",
   "metadata": {},
   "outputs": [
    {
     "data": {
      "text/html": [
       "<div>\n",
       "<style scoped>\n",
       "    .dataframe tbody tr th:only-of-type {\n",
       "        vertical-align: middle;\n",
       "    }\n",
       "\n",
       "    .dataframe tbody tr th {\n",
       "        vertical-align: top;\n",
       "    }\n",
       "\n",
       "    .dataframe thead th {\n",
       "        text-align: right;\n",
       "    }\n",
       "</style>\n",
       "<table border=\"1\" class=\"dataframe\">\n",
       "  <thead>\n",
       "    <tr style=\"text-align: right;\">\n",
       "      <th></th>\n",
       "      <th>stream_id</th>\n",
       "      <th>time</th>\n",
       "      <th>platform</th>\n",
       "      <th>ms_played</th>\n",
       "      <th>song</th>\n",
       "      <th>artist</th>\n",
       "      <th>album</th>\n",
       "      <th>skipped</th>\n",
       "    </tr>\n",
       "  </thead>\n",
       "  <tbody>\n",
       "    <tr>\n",
       "      <th>0</th>\n",
       "      <td>1</td>\n",
       "      <td>2021-12-13 22:29:52.000000</td>\n",
       "      <td>Windows 10 (10.0.19043; x64)</td>\n",
       "      <td>198053</td>\n",
       "      <td>The Feels</td>\n",
       "      <td>TWICE</td>\n",
       "      <td>Formula of Love: O+T=&lt;3</td>\n",
       "      <td>0</td>\n",
       "    </tr>\n",
       "    <tr>\n",
       "      <th>1</th>\n",
       "      <td>2</td>\n",
       "      <td>2021-12-13 22:33:07.000000</td>\n",
       "      <td>Windows 10 (10.0.19043; x64)</td>\n",
       "      <td>194600</td>\n",
       "      <td>SCIENTIST</td>\n",
       "      <td>TWICE</td>\n",
       "      <td>Formula of Love: O+T=&lt;3</td>\n",
       "      <td>0</td>\n",
       "    </tr>\n",
       "    <tr>\n",
       "      <th>2</th>\n",
       "      <td>3</td>\n",
       "      <td>2021-12-13 22:36:39.000000</td>\n",
       "      <td>Windows 10 (10.0.19043; x64)</td>\n",
       "      <td>210573</td>\n",
       "      <td>Alcohol-Free</td>\n",
       "      <td>TWICE</td>\n",
       "      <td>Taste of Love</td>\n",
       "      <td>0</td>\n",
       "    </tr>\n",
       "    <tr>\n",
       "      <th>3</th>\n",
       "      <td>4</td>\n",
       "      <td>2021-12-13 22:40:04.000000</td>\n",
       "      <td>Windows 10 (10.0.19043; x64)</td>\n",
       "      <td>205493</td>\n",
       "      <td>I CAN'T STOP ME</td>\n",
       "      <td>TWICE</td>\n",
       "      <td>Eyes Wide Open</td>\n",
       "      <td>0</td>\n",
       "    </tr>\n",
       "    <tr>\n",
       "      <th>4</th>\n",
       "      <td>5</td>\n",
       "      <td>2021-12-13 22:44:04.000000</td>\n",
       "      <td>Windows 10 (10.0.19043; x64)</td>\n",
       "      <td>208240</td>\n",
       "      <td>What is Love</td>\n",
       "      <td>TWICE</td>\n",
       "      <td>Summer Nights</td>\n",
       "      <td>0</td>\n",
       "    </tr>\n",
       "    <tr>\n",
       "      <th>...</th>\n",
       "      <td>...</td>\n",
       "      <td>...</td>\n",
       "      <td>...</td>\n",
       "      <td>...</td>\n",
       "      <td>...</td>\n",
       "      <td>...</td>\n",
       "      <td>...</td>\n",
       "      <td>...</td>\n",
       "    </tr>\n",
       "    <tr>\n",
       "      <th>17808</th>\n",
       "      <td>33283</td>\n",
       "      <td>2025-06-18 16:48:10.000000</td>\n",
       "      <td>windows</td>\n",
       "      <td>194453</td>\n",
       "      <td>One Call Away</td>\n",
       "      <td>Charlie Puth</td>\n",
       "      <td>Nine Track Mind</td>\n",
       "      <td>0</td>\n",
       "    </tr>\n",
       "    <tr>\n",
       "      <th>17809</th>\n",
       "      <td>33284</td>\n",
       "      <td>2025-06-18 16:51:45.000000</td>\n",
       "      <td>windows</td>\n",
       "      <td>213826</td>\n",
       "      <td>When I Was Your Man</td>\n",
       "      <td>Bruno Mars</td>\n",
       "      <td>Unorthodox Jukebox</td>\n",
       "      <td>0</td>\n",
       "    </tr>\n",
       "    <tr>\n",
       "      <th>17810</th>\n",
       "      <td>33285</td>\n",
       "      <td>2025-06-18 16:55:13.000000</td>\n",
       "      <td>windows</td>\n",
       "      <td>186986</td>\n",
       "      <td>2002</td>\n",
       "      <td>Anne-Marie</td>\n",
       "      <td>Speak Your Mind</td>\n",
       "      <td>0</td>\n",
       "    </tr>\n",
       "    <tr>\n",
       "      <th>17811</th>\n",
       "      <td>33286</td>\n",
       "      <td>2025-06-18 16:59:20.000000</td>\n",
       "      <td>windows</td>\n",
       "      <td>246410</td>\n",
       "      <td>Thinking Of You</td>\n",
       "      <td>Katy Perry</td>\n",
       "      <td>One Of The Boys</td>\n",
       "      <td>0</td>\n",
       "    </tr>\n",
       "    <tr>\n",
       "      <th>17812</th>\n",
       "      <td>33287</td>\n",
       "      <td>2025-06-18 17:03:26.000000</td>\n",
       "      <td>windows</td>\n",
       "      <td>244880</td>\n",
       "      <td>Sunday Morning</td>\n",
       "      <td>Maroon 5</td>\n",
       "      <td>Songs About Jane: 10th Anniversary Edition</td>\n",
       "      <td>0</td>\n",
       "    </tr>\n",
       "  </tbody>\n",
       "</table>\n",
       "<p>17813 rows × 8 columns</p>\n",
       "</div>"
      ],
      "text/plain": [
       "       stream_id                        time                      platform  \\\n",
       "0              1  2021-12-13 22:29:52.000000  Windows 10 (10.0.19043; x64)   \n",
       "1              2  2021-12-13 22:33:07.000000  Windows 10 (10.0.19043; x64)   \n",
       "2              3  2021-12-13 22:36:39.000000  Windows 10 (10.0.19043; x64)   \n",
       "3              4  2021-12-13 22:40:04.000000  Windows 10 (10.0.19043; x64)   \n",
       "4              5  2021-12-13 22:44:04.000000  Windows 10 (10.0.19043; x64)   \n",
       "...          ...                         ...                           ...   \n",
       "17808      33283  2025-06-18 16:48:10.000000                       windows   \n",
       "17809      33284  2025-06-18 16:51:45.000000                       windows   \n",
       "17810      33285  2025-06-18 16:55:13.000000                       windows   \n",
       "17811      33286  2025-06-18 16:59:20.000000                       windows   \n",
       "17812      33287  2025-06-18 17:03:26.000000                       windows   \n",
       "\n",
       "       ms_played                 song        artist  \\\n",
       "0         198053            The Feels         TWICE   \n",
       "1         194600            SCIENTIST         TWICE   \n",
       "2         210573         Alcohol-Free         TWICE   \n",
       "3         205493      I CAN'T STOP ME         TWICE   \n",
       "4         208240         What is Love         TWICE   \n",
       "...          ...                  ...           ...   \n",
       "17808     194453        One Call Away  Charlie Puth   \n",
       "17809     213826  When I Was Your Man    Bruno Mars   \n",
       "17810     186986                 2002    Anne-Marie   \n",
       "17811     246410      Thinking Of You    Katy Perry   \n",
       "17812     244880       Sunday Morning      Maroon 5   \n",
       "\n",
       "                                            album  skipped  \n",
       "0                         Formula of Love: O+T=<3        0  \n",
       "1                         Formula of Love: O+T=<3        0  \n",
       "2                                   Taste of Love        0  \n",
       "3                                  Eyes Wide Open        0  \n",
       "4                                   Summer Nights        0  \n",
       "...                                           ...      ...  \n",
       "17808                             Nine Track Mind        0  \n",
       "17809                          Unorthodox Jukebox        0  \n",
       "17810                             Speak Your Mind        0  \n",
       "17811                             One Of The Boys        0  \n",
       "17812  Songs About Jane: 10th Anniversary Edition        0  \n",
       "\n",
       "[17813 rows x 8 columns]"
      ]
     },
     "execution_count": 25,
     "metadata": {},
     "output_type": "execute_result"
    }
   ],
   "source": [
    "# 2. Show all songs with a play duration longer than 180 seconds.\n",
    "query = \"\"\"\n",
    "        SELECT *\n",
    "        FROM streaming_history\n",
    "        WHERE ms_played > 180000;\n",
    "        \"\"\"\n",
    "\n",
    "stream_query(query)"
   ]
  },
  {
   "cell_type": "code",
   "execution_count": 26,
   "id": "46b9e246",
   "metadata": {},
   "outputs": [
    {
     "data": {
      "text/html": [
       "<div>\n",
       "<style scoped>\n",
       "    .dataframe tbody tr th:only-of-type {\n",
       "        vertical-align: middle;\n",
       "    }\n",
       "\n",
       "    .dataframe tbody tr th {\n",
       "        vertical-align: top;\n",
       "    }\n",
       "\n",
       "    .dataframe thead th {\n",
       "        text-align: right;\n",
       "    }\n",
       "</style>\n",
       "<table border=\"1\" class=\"dataframe\">\n",
       "  <thead>\n",
       "    <tr style=\"text-align: right;\">\n",
       "      <th></th>\n",
       "      <th>stream_id</th>\n",
       "      <th>time</th>\n",
       "      <th>platform</th>\n",
       "      <th>ms_played</th>\n",
       "      <th>song</th>\n",
       "      <th>artist</th>\n",
       "      <th>album</th>\n",
       "      <th>skipped</th>\n",
       "    </tr>\n",
       "  </thead>\n",
       "  <tbody>\n",
       "    <tr>\n",
       "      <th>0</th>\n",
       "      <td>1</td>\n",
       "      <td>2021-12-13 22:29:52.000000</td>\n",
       "      <td>Windows 10 (10.0.19043; x64)</td>\n",
       "      <td>198053</td>\n",
       "      <td>The Feels</td>\n",
       "      <td>TWICE</td>\n",
       "      <td>Formula of Love: O+T=&lt;3</td>\n",
       "      <td>0</td>\n",
       "    </tr>\n",
       "    <tr>\n",
       "      <th>1</th>\n",
       "      <td>2</td>\n",
       "      <td>2021-12-13 22:33:07.000000</td>\n",
       "      <td>Windows 10 (10.0.19043; x64)</td>\n",
       "      <td>194600</td>\n",
       "      <td>SCIENTIST</td>\n",
       "      <td>TWICE</td>\n",
       "      <td>Formula of Love: O+T=&lt;3</td>\n",
       "      <td>0</td>\n",
       "    </tr>\n",
       "    <tr>\n",
       "      <th>2</th>\n",
       "      <td>3</td>\n",
       "      <td>2021-12-13 22:36:39.000000</td>\n",
       "      <td>Windows 10 (10.0.19043; x64)</td>\n",
       "      <td>210573</td>\n",
       "      <td>Alcohol-Free</td>\n",
       "      <td>TWICE</td>\n",
       "      <td>Taste of Love</td>\n",
       "      <td>0</td>\n",
       "    </tr>\n",
       "    <tr>\n",
       "      <th>3</th>\n",
       "      <td>4</td>\n",
       "      <td>2021-12-13 22:40:04.000000</td>\n",
       "      <td>Windows 10 (10.0.19043; x64)</td>\n",
       "      <td>205493</td>\n",
       "      <td>I CAN'T STOP ME</td>\n",
       "      <td>TWICE</td>\n",
       "      <td>Eyes Wide Open</td>\n",
       "      <td>0</td>\n",
       "    </tr>\n",
       "    <tr>\n",
       "      <th>4</th>\n",
       "      <td>5</td>\n",
       "      <td>2021-12-13 22:44:04.000000</td>\n",
       "      <td>Windows 10 (10.0.19043; x64)</td>\n",
       "      <td>208240</td>\n",
       "      <td>What is Love</td>\n",
       "      <td>TWICE</td>\n",
       "      <td>Summer Nights</td>\n",
       "      <td>0</td>\n",
       "    </tr>\n",
       "    <tr>\n",
       "      <th>...</th>\n",
       "      <td>...</td>\n",
       "      <td>...</td>\n",
       "      <td>...</td>\n",
       "      <td>...</td>\n",
       "      <td>...</td>\n",
       "      <td>...</td>\n",
       "      <td>...</td>\n",
       "      <td>...</td>\n",
       "    </tr>\n",
       "    <tr>\n",
       "      <th>22917</th>\n",
       "      <td>33283</td>\n",
       "      <td>2025-06-18 16:48:10.000000</td>\n",
       "      <td>windows</td>\n",
       "      <td>194453</td>\n",
       "      <td>One Call Away</td>\n",
       "      <td>Charlie Puth</td>\n",
       "      <td>Nine Track Mind</td>\n",
       "      <td>0</td>\n",
       "    </tr>\n",
       "    <tr>\n",
       "      <th>22918</th>\n",
       "      <td>33284</td>\n",
       "      <td>2025-06-18 16:51:45.000000</td>\n",
       "      <td>windows</td>\n",
       "      <td>213826</td>\n",
       "      <td>When I Was Your Man</td>\n",
       "      <td>Bruno Mars</td>\n",
       "      <td>Unorthodox Jukebox</td>\n",
       "      <td>0</td>\n",
       "    </tr>\n",
       "    <tr>\n",
       "      <th>22919</th>\n",
       "      <td>33285</td>\n",
       "      <td>2025-06-18 16:55:13.000000</td>\n",
       "      <td>windows</td>\n",
       "      <td>186986</td>\n",
       "      <td>2002</td>\n",
       "      <td>Anne-Marie</td>\n",
       "      <td>Speak Your Mind</td>\n",
       "      <td>0</td>\n",
       "    </tr>\n",
       "    <tr>\n",
       "      <th>22920</th>\n",
       "      <td>33286</td>\n",
       "      <td>2025-06-18 16:59:20.000000</td>\n",
       "      <td>windows</td>\n",
       "      <td>246410</td>\n",
       "      <td>Thinking Of You</td>\n",
       "      <td>Katy Perry</td>\n",
       "      <td>One Of The Boys</td>\n",
       "      <td>0</td>\n",
       "    </tr>\n",
       "    <tr>\n",
       "      <th>22921</th>\n",
       "      <td>33287</td>\n",
       "      <td>2025-06-18 17:03:26.000000</td>\n",
       "      <td>windows</td>\n",
       "      <td>244880</td>\n",
       "      <td>Sunday Morning</td>\n",
       "      <td>Maroon 5</td>\n",
       "      <td>Songs About Jane: 10th Anniversary Edition</td>\n",
       "      <td>0</td>\n",
       "    </tr>\n",
       "  </tbody>\n",
       "</table>\n",
       "<p>22922 rows × 8 columns</p>\n",
       "</div>"
      ],
      "text/plain": [
       "       stream_id                        time                      platform  \\\n",
       "0              1  2021-12-13 22:29:52.000000  Windows 10 (10.0.19043; x64)   \n",
       "1              2  2021-12-13 22:33:07.000000  Windows 10 (10.0.19043; x64)   \n",
       "2              3  2021-12-13 22:36:39.000000  Windows 10 (10.0.19043; x64)   \n",
       "3              4  2021-12-13 22:40:04.000000  Windows 10 (10.0.19043; x64)   \n",
       "4              5  2021-12-13 22:44:04.000000  Windows 10 (10.0.19043; x64)   \n",
       "...          ...                         ...                           ...   \n",
       "22917      33283  2025-06-18 16:48:10.000000                       windows   \n",
       "22918      33284  2025-06-18 16:51:45.000000                       windows   \n",
       "22919      33285  2025-06-18 16:55:13.000000                       windows   \n",
       "22920      33286  2025-06-18 16:59:20.000000                       windows   \n",
       "22921      33287  2025-06-18 17:03:26.000000                       windows   \n",
       "\n",
       "       ms_played                 song        artist  \\\n",
       "0         198053            The Feels         TWICE   \n",
       "1         194600            SCIENTIST         TWICE   \n",
       "2         210573         Alcohol-Free         TWICE   \n",
       "3         205493      I CAN'T STOP ME         TWICE   \n",
       "4         208240         What is Love         TWICE   \n",
       "...          ...                  ...           ...   \n",
       "22917     194453        One Call Away  Charlie Puth   \n",
       "22918     213826  When I Was Your Man    Bruno Mars   \n",
       "22919     186986                 2002    Anne-Marie   \n",
       "22920     246410      Thinking Of You    Katy Perry   \n",
       "22921     244880       Sunday Morning      Maroon 5   \n",
       "\n",
       "                                            album  skipped  \n",
       "0                         Formula of Love: O+T=<3        0  \n",
       "1                         Formula of Love: O+T=<3        0  \n",
       "2                                   Taste of Love        0  \n",
       "3                                  Eyes Wide Open        0  \n",
       "4                                   Summer Nights        0  \n",
       "...                                           ...      ...  \n",
       "22917                             Nine Track Mind        0  \n",
       "22918                          Unorthodox Jukebox        0  \n",
       "22919                             Speak Your Mind        0  \n",
       "22920                             One Of The Boys        0  \n",
       "22921  Songs About Jane: 10th Anniversary Edition        0  \n",
       "\n",
       "[22922 rows x 8 columns]"
      ]
     },
     "execution_count": 26,
     "metadata": {},
     "output_type": "execute_result"
    }
   ],
   "source": [
    "# 3. Find all streams where the song was not skipped.\n",
    "query = \"\"\"\n",
    "        SELECT *\n",
    "        FROM streaming_history\n",
    "        WHERE skipped = 0;\n",
    "        \"\"\"\n",
    "\n",
    "stream_query(query)"
   ]
  },
  {
   "cell_type": "code",
   "execution_count": 27,
   "id": "1c64f06d",
   "metadata": {},
   "outputs": [
    {
     "data": {
      "text/html": [
       "<div>\n",
       "<style scoped>\n",
       "    .dataframe tbody tr th:only-of-type {\n",
       "        vertical-align: middle;\n",
       "    }\n",
       "\n",
       "    .dataframe tbody tr th {\n",
       "        vertical-align: top;\n",
       "    }\n",
       "\n",
       "    .dataframe thead th {\n",
       "        text-align: right;\n",
       "    }\n",
       "</style>\n",
       "<table border=\"1\" class=\"dataframe\">\n",
       "  <thead>\n",
       "    <tr style=\"text-align: right;\">\n",
       "      <th></th>\n",
       "      <th>total_rows</th>\n",
       "    </tr>\n",
       "  </thead>\n",
       "  <tbody>\n",
       "    <tr>\n",
       "      <th>0</th>\n",
       "      <td>33287</td>\n",
       "    </tr>\n",
       "  </tbody>\n",
       "</table>\n",
       "</div>"
      ],
      "text/plain": [
       "   total_rows\n",
       "0       33287"
      ]
     },
     "execution_count": 27,
     "metadata": {},
     "output_type": "execute_result"
    }
   ],
   "source": [
    "# 4. Get the total number of rows in the `streaming_history`\n",
    "query = \"\"\"\n",
    "        SELECT COUNT(*) AS total_rows\n",
    "        FROM streaming_history;\n",
    "        \"\"\"\n",
    "\n",
    "stream_query(query)"
   ]
  },
  {
   "cell_type": "code",
   "execution_count": 28,
   "id": "0623a808",
   "metadata": {},
   "outputs": [
    {
     "data": {
      "text/html": [
       "<div>\n",
       "<style scoped>\n",
       "    .dataframe tbody tr th:only-of-type {\n",
       "        vertical-align: middle;\n",
       "    }\n",
       "\n",
       "    .dataframe tbody tr th {\n",
       "        vertical-align: top;\n",
       "    }\n",
       "\n",
       "    .dataframe thead th {\n",
       "        text-align: right;\n",
       "    }\n",
       "</style>\n",
       "<table border=\"1\" class=\"dataframe\">\n",
       "  <thead>\n",
       "    <tr style=\"text-align: right;\">\n",
       "      <th></th>\n",
       "      <th>stream_id</th>\n",
       "      <th>time</th>\n",
       "      <th>platform</th>\n",
       "      <th>ms_played</th>\n",
       "      <th>song</th>\n",
       "      <th>artist</th>\n",
       "      <th>album</th>\n",
       "      <th>skipped</th>\n",
       "    </tr>\n",
       "  </thead>\n",
       "  <tbody>\n",
       "    <tr>\n",
       "      <th>0</th>\n",
       "      <td>4382</td>\n",
       "      <td>2023-02-26 09:07:32.000000</td>\n",
       "      <td>windows</td>\n",
       "      <td>186584</td>\n",
       "      <td>Estranghero</td>\n",
       "      <td>Cup of Joe</td>\n",
       "      <td>Estranghero</td>\n",
       "      <td>0</td>\n",
       "    </tr>\n",
       "    <tr>\n",
       "      <th>1</th>\n",
       "      <td>4384</td>\n",
       "      <td>2023-02-26 09:10:42.000000</td>\n",
       "      <td>windows</td>\n",
       "      <td>186471</td>\n",
       "      <td>Estranghero</td>\n",
       "      <td>Cup of Joe</td>\n",
       "      <td>Estranghero</td>\n",
       "      <td>0</td>\n",
       "    </tr>\n",
       "    <tr>\n",
       "      <th>2</th>\n",
       "      <td>4385</td>\n",
       "      <td>2023-02-26 09:15:28.000000</td>\n",
       "      <td>windows</td>\n",
       "      <td>252459</td>\n",
       "      <td>Ikaw Pa Rin Ang Pipiliin Ko</td>\n",
       "      <td>Cup of Joe</td>\n",
       "      <td>Ikaw Pa Rin Ang Pipiliin Ko</td>\n",
       "      <td>1</td>\n",
       "    </tr>\n",
       "    <tr>\n",
       "      <th>3</th>\n",
       "      <td>4386</td>\n",
       "      <td>2023-02-26 09:15:29.000000</td>\n",
       "      <td>windows</td>\n",
       "      <td>541</td>\n",
       "      <td>Estranghero</td>\n",
       "      <td>Cup of Joe</td>\n",
       "      <td>Estranghero</td>\n",
       "      <td>1</td>\n",
       "    </tr>\n",
       "    <tr>\n",
       "      <th>4</th>\n",
       "      <td>4387</td>\n",
       "      <td>2023-02-26 09:18:36.000000</td>\n",
       "      <td>windows</td>\n",
       "      <td>186564</td>\n",
       "      <td>Estranghero</td>\n",
       "      <td>Cup of Joe</td>\n",
       "      <td>Estranghero</td>\n",
       "      <td>0</td>\n",
       "    </tr>\n",
       "    <tr>\n",
       "      <th>...</th>\n",
       "      <td>...</td>\n",
       "      <td>...</td>\n",
       "      <td>...</td>\n",
       "      <td>...</td>\n",
       "      <td>...</td>\n",
       "      <td>...</td>\n",
       "      <td>...</td>\n",
       "      <td>...</td>\n",
       "    </tr>\n",
       "    <tr>\n",
       "      <th>1670</th>\n",
       "      <td>33147</td>\n",
       "      <td>2025-06-12 15:51:00.000000</td>\n",
       "      <td>windows</td>\n",
       "      <td>222298</td>\n",
       "      <td>Tingin</td>\n",
       "      <td>Cup of Joe</td>\n",
       "      <td>Tingin</td>\n",
       "      <td>0</td>\n",
       "    </tr>\n",
       "    <tr>\n",
       "      <th>1671</th>\n",
       "      <td>33162</td>\n",
       "      <td>2025-06-12 18:14:50.000000</td>\n",
       "      <td>windows</td>\n",
       "      <td>262068</td>\n",
       "      <td>Ikaw Pa Rin Ang Pipiliin Ko</td>\n",
       "      <td>Cup of Joe</td>\n",
       "      <td>Ikaw Pa Rin Ang Pipiliin Ko</td>\n",
       "      <td>0</td>\n",
       "    </tr>\n",
       "    <tr>\n",
       "      <th>1672</th>\n",
       "      <td>33183</td>\n",
       "      <td>2025-06-16 05:59:03.000000</td>\n",
       "      <td>android</td>\n",
       "      <td>170898</td>\n",
       "      <td>Misteryoso</td>\n",
       "      <td>Cup of Joe</td>\n",
       "      <td>Misteryoso</td>\n",
       "      <td>1</td>\n",
       "    </tr>\n",
       "    <tr>\n",
       "      <th>1673</th>\n",
       "      <td>33185</td>\n",
       "      <td>2025-06-16 05:59:05.000000</td>\n",
       "      <td>android</td>\n",
       "      <td>610</td>\n",
       "      <td>Multo</td>\n",
       "      <td>Cup of Joe</td>\n",
       "      <td>Silakbo</td>\n",
       "      <td>1</td>\n",
       "    </tr>\n",
       "    <tr>\n",
       "      <th>1674</th>\n",
       "      <td>33212</td>\n",
       "      <td>2025-06-17 14:26:24.000000</td>\n",
       "      <td>android</td>\n",
       "      <td>221641</td>\n",
       "      <td>Misteryoso</td>\n",
       "      <td>Cup of Joe</td>\n",
       "      <td>Misteryoso</td>\n",
       "      <td>0</td>\n",
       "    </tr>\n",
       "  </tbody>\n",
       "</table>\n",
       "<p>1675 rows × 8 columns</p>\n",
       "</div>"
      ],
      "text/plain": [
       "      stream_id                        time platform  ms_played  \\\n",
       "0          4382  2023-02-26 09:07:32.000000  windows     186584   \n",
       "1          4384  2023-02-26 09:10:42.000000  windows     186471   \n",
       "2          4385  2023-02-26 09:15:28.000000  windows     252459   \n",
       "3          4386  2023-02-26 09:15:29.000000  windows        541   \n",
       "4          4387  2023-02-26 09:18:36.000000  windows     186564   \n",
       "...         ...                         ...      ...        ...   \n",
       "1670      33147  2025-06-12 15:51:00.000000  windows     222298   \n",
       "1671      33162  2025-06-12 18:14:50.000000  windows     262068   \n",
       "1672      33183  2025-06-16 05:59:03.000000  android     170898   \n",
       "1673      33185  2025-06-16 05:59:05.000000  android        610   \n",
       "1674      33212  2025-06-17 14:26:24.000000  android     221641   \n",
       "\n",
       "                             song      artist                        album  \\\n",
       "0                     Estranghero  Cup of Joe                  Estranghero   \n",
       "1                     Estranghero  Cup of Joe                  Estranghero   \n",
       "2     Ikaw Pa Rin Ang Pipiliin Ko  Cup of Joe  Ikaw Pa Rin Ang Pipiliin Ko   \n",
       "3                     Estranghero  Cup of Joe                  Estranghero   \n",
       "4                     Estranghero  Cup of Joe                  Estranghero   \n",
       "...                           ...         ...                          ...   \n",
       "1670                       Tingin  Cup of Joe                       Tingin   \n",
       "1671  Ikaw Pa Rin Ang Pipiliin Ko  Cup of Joe  Ikaw Pa Rin Ang Pipiliin Ko   \n",
       "1672                   Misteryoso  Cup of Joe                   Misteryoso   \n",
       "1673                        Multo  Cup of Joe                      Silakbo   \n",
       "1674                   Misteryoso  Cup of Joe                   Misteryoso   \n",
       "\n",
       "      skipped  \n",
       "0           0  \n",
       "1           0  \n",
       "2           1  \n",
       "3           1  \n",
       "4           0  \n",
       "...       ...  \n",
       "1670        0  \n",
       "1671        0  \n",
       "1672        1  \n",
       "1673        1  \n",
       "1674        0  \n",
       "\n",
       "[1675 rows x 8 columns]"
      ]
     },
     "execution_count": 28,
     "metadata": {},
     "output_type": "execute_result"
    }
   ],
   "source": [
    "# 5. Find all streams from Cup of Joe.\n",
    "query = \"\"\"\n",
    "        SELECT *\n",
    "        FROM streaming_history\n",
    "        WHERE artist = \"Cup of Joe\";\n",
    "        \"\"\"\n",
    "\n",
    "stream_query(query)"
   ]
  },
  {
   "cell_type": "code",
   "execution_count": 29,
   "id": "37cc2c60",
   "metadata": {},
   "outputs": [
    {
     "data": {
      "text/html": [
       "<div>\n",
       "<style scoped>\n",
       "    .dataframe tbody tr th:only-of-type {\n",
       "        vertical-align: middle;\n",
       "    }\n",
       "\n",
       "    .dataframe tbody tr th {\n",
       "        vertical-align: top;\n",
       "    }\n",
       "\n",
       "    .dataframe thead th {\n",
       "        text-align: right;\n",
       "    }\n",
       "</style>\n",
       "<table border=\"1\" class=\"dataframe\">\n",
       "  <thead>\n",
       "    <tr style=\"text-align: right;\">\n",
       "      <th></th>\n",
       "      <th>album</th>\n",
       "    </tr>\n",
       "  </thead>\n",
       "  <tbody>\n",
       "    <tr>\n",
       "      <th>0</th>\n",
       "      <td>Formula of Love: O+T=&lt;3</td>\n",
       "    </tr>\n",
       "    <tr>\n",
       "      <th>1</th>\n",
       "      <td>Taste of Love</td>\n",
       "    </tr>\n",
       "    <tr>\n",
       "      <th>2</th>\n",
       "      <td>Eyes Wide Open</td>\n",
       "    </tr>\n",
       "    <tr>\n",
       "      <th>3</th>\n",
       "      <td>Summer Nights</td>\n",
       "    </tr>\n",
       "    <tr>\n",
       "      <th>4</th>\n",
       "      <td>FANCY YOU</td>\n",
       "    </tr>\n",
       "    <tr>\n",
       "      <th>5</th>\n",
       "      <td>Feel Special</td>\n",
       "    </tr>\n",
       "    <tr>\n",
       "      <th>6</th>\n",
       "      <td>CRY FOR ME</td>\n",
       "    </tr>\n",
       "    <tr>\n",
       "      <th>7</th>\n",
       "      <td>Doughnut</td>\n",
       "    </tr>\n",
       "    <tr>\n",
       "      <th>8</th>\n",
       "      <td>Perfect World</td>\n",
       "    </tr>\n",
       "    <tr>\n",
       "      <th>9</th>\n",
       "      <td>Kura Kura</td>\n",
       "    </tr>\n",
       "    <tr>\n",
       "      <th>10</th>\n",
       "      <td>BETTER</td>\n",
       "    </tr>\n",
       "    <tr>\n",
       "      <th>11</th>\n",
       "      <td>BDZ</td>\n",
       "    </tr>\n",
       "    <tr>\n",
       "      <th>12</th>\n",
       "      <td>The Story Begins</td>\n",
       "    </tr>\n",
       "    <tr>\n",
       "      <th>13</th>\n",
       "      <td>HAPPY HAPPY</td>\n",
       "    </tr>\n",
       "    <tr>\n",
       "      <th>14</th>\n",
       "      <td>Fanfare</td>\n",
       "    </tr>\n",
       "    <tr>\n",
       "      <th>15</th>\n",
       "      <td>Merry &amp; Happy</td>\n",
       "    </tr>\n",
       "    <tr>\n",
       "      <th>16</th>\n",
       "      <td>Twicecoaster: Lane 1</td>\n",
       "    </tr>\n",
       "    <tr>\n",
       "      <th>17</th>\n",
       "      <td>Twicetagram</td>\n",
       "    </tr>\n",
       "    <tr>\n",
       "      <th>18</th>\n",
       "      <td>&amp;TWICE</td>\n",
       "    </tr>\n",
       "    <tr>\n",
       "      <th>19</th>\n",
       "      <td>Breakthrough</td>\n",
       "    </tr>\n",
       "    <tr>\n",
       "      <th>20</th>\n",
       "      <td>MORE &amp; MORE</td>\n",
       "    </tr>\n",
       "    <tr>\n",
       "      <th>21</th>\n",
       "      <td>SIGNAL</td>\n",
       "    </tr>\n",
       "    <tr>\n",
       "      <th>22</th>\n",
       "      <td>Page Two</td>\n",
       "    </tr>\n",
       "    <tr>\n",
       "      <th>23</th>\n",
       "      <td>Candy Pop</td>\n",
       "    </tr>\n",
       "    <tr>\n",
       "      <th>24</th>\n",
       "      <td>Wake Me Up</td>\n",
       "    </tr>\n",
       "    <tr>\n",
       "      <th>25</th>\n",
       "      <td>Twicecoaster: Lane 2</td>\n",
       "    </tr>\n",
       "    <tr>\n",
       "      <th>26</th>\n",
       "      <td>YES or YES</td>\n",
       "    </tr>\n",
       "    <tr>\n",
       "      <th>27</th>\n",
       "      <td>The year of \"YES\"</td>\n",
       "    </tr>\n",
       "    <tr>\n",
       "      <th>28</th>\n",
       "      <td>HOSPITAL PLAYLIST Season2, Pt. 4 (Original Tel...</td>\n",
       "    </tr>\n",
       "    <tr>\n",
       "      <th>29</th>\n",
       "      <td>The Feels</td>\n",
       "    </tr>\n",
       "    <tr>\n",
       "      <th>30</th>\n",
       "      <td>I CAN'T STOP ME (English Version)</td>\n",
       "    </tr>\n",
       "    <tr>\n",
       "      <th>31</th>\n",
       "      <td>One More Time</td>\n",
       "    </tr>\n",
       "    <tr>\n",
       "      <th>32</th>\n",
       "      <td>#TWICE3</td>\n",
       "    </tr>\n",
       "    <tr>\n",
       "      <th>33</th>\n",
       "      <td>STAY BY MY SIDE</td>\n",
       "    </tr>\n",
       "    <tr>\n",
       "      <th>34</th>\n",
       "      <td>Celebrate</td>\n",
       "    </tr>\n",
       "    <tr>\n",
       "      <th>35</th>\n",
       "      <td>BETWEEN 1&amp;2</td>\n",
       "    </tr>\n",
       "    <tr>\n",
       "      <th>36</th>\n",
       "      <td>Just be yourself</td>\n",
       "    </tr>\n",
       "    <tr>\n",
       "      <th>37</th>\n",
       "      <td>Fake &amp; True</td>\n",
       "    </tr>\n",
       "    <tr>\n",
       "      <th>38</th>\n",
       "      <td>MOONLIGHT SUNRISE</td>\n",
       "    </tr>\n",
       "    <tr>\n",
       "      <th>39</th>\n",
       "      <td>READY TO BE</td>\n",
       "    </tr>\n",
       "    <tr>\n",
       "      <th>40</th>\n",
       "      <td>SET ME FREE (Remixes)</td>\n",
       "    </tr>\n",
       "    <tr>\n",
       "      <th>41</th>\n",
       "      <td>MORE &amp; MORE (English Version)</td>\n",
       "    </tr>\n",
       "    <tr>\n",
       "      <th>42</th>\n",
       "      <td>#TWICE</td>\n",
       "    </tr>\n",
       "    <tr>\n",
       "      <th>43</th>\n",
       "      <td>What is Love?</td>\n",
       "    </tr>\n",
       "    <tr>\n",
       "      <th>44</th>\n",
       "      <td>#TWICE2</td>\n",
       "    </tr>\n",
       "    <tr>\n",
       "      <th>45</th>\n",
       "      <td>Hare Hare</td>\n",
       "    </tr>\n",
       "    <tr>\n",
       "      <th>46</th>\n",
       "      <td>#TWICE4</td>\n",
       "    </tr>\n",
       "    <tr>\n",
       "      <th>47</th>\n",
       "      <td>THE REMIXES</td>\n",
       "    </tr>\n",
       "    <tr>\n",
       "      <th>48</th>\n",
       "      <td>Dance Again</td>\n",
       "    </tr>\n",
       "    <tr>\n",
       "      <th>49</th>\n",
       "      <td>I GOT YOU</td>\n",
       "    </tr>\n",
       "    <tr>\n",
       "      <th>50</th>\n",
       "      <td>STUCK IN MY HEAD</td>\n",
       "    </tr>\n",
       "    <tr>\n",
       "      <th>51</th>\n",
       "      <td>I GOT YOU (Voyage ver.)</td>\n",
       "    </tr>\n",
       "    <tr>\n",
       "      <th>52</th>\n",
       "      <td>With YOU-th</td>\n",
       "    </tr>\n",
       "    <tr>\n",
       "      <th>53</th>\n",
       "      <td>DIVE</td>\n",
       "    </tr>\n",
       "    <tr>\n",
       "      <th>54</th>\n",
       "      <td>What Is Love</td>\n",
       "    </tr>\n",
       "    <tr>\n",
       "      <th>55</th>\n",
       "      <td>I WANT YOU BACK</td>\n",
       "    </tr>\n",
       "    <tr>\n",
       "      <th>56</th>\n",
       "      <td>STRATEGY</td>\n",
       "    </tr>\n",
       "    <tr>\n",
       "      <th>57</th>\n",
       "      <td>The wish</td>\n",
       "    </tr>\n",
       "    <tr>\n",
       "      <th>58</th>\n",
       "      <td>PAGE TWO</td>\n",
       "    </tr>\n",
       "  </tbody>\n",
       "</table>\n",
       "</div>"
      ],
      "text/plain": [
       "                                                album\n",
       "0                             Formula of Love: O+T=<3\n",
       "1                                       Taste of Love\n",
       "2                                      Eyes Wide Open\n",
       "3                                       Summer Nights\n",
       "4                                           FANCY YOU\n",
       "5                                        Feel Special\n",
       "6                                          CRY FOR ME\n",
       "7                                            Doughnut\n",
       "8                                       Perfect World\n",
       "9                                           Kura Kura\n",
       "10                                             BETTER\n",
       "11                                                BDZ\n",
       "12                                   The Story Begins\n",
       "13                                        HAPPY HAPPY\n",
       "14                                            Fanfare\n",
       "15                                      Merry & Happy\n",
       "16                               Twicecoaster: Lane 1\n",
       "17                                        Twicetagram\n",
       "18                                             &TWICE\n",
       "19                                       Breakthrough\n",
       "20                                        MORE & MORE\n",
       "21                                             SIGNAL\n",
       "22                                           Page Two\n",
       "23                                          Candy Pop\n",
       "24                                         Wake Me Up\n",
       "25                               Twicecoaster: Lane 2\n",
       "26                                         YES or YES\n",
       "27                                  The year of \"YES\"\n",
       "28  HOSPITAL PLAYLIST Season2, Pt. 4 (Original Tel...\n",
       "29                                          The Feels\n",
       "30                  I CAN'T STOP ME (English Version)\n",
       "31                                      One More Time\n",
       "32                                            #TWICE3\n",
       "33                                    STAY BY MY SIDE\n",
       "34                                          Celebrate\n",
       "35                                        BETWEEN 1&2\n",
       "36                                   Just be yourself\n",
       "37                                        Fake & True\n",
       "38                                  MOONLIGHT SUNRISE\n",
       "39                                        READY TO BE\n",
       "40                              SET ME FREE (Remixes)\n",
       "41                      MORE & MORE (English Version)\n",
       "42                                             #TWICE\n",
       "43                                      What is Love?\n",
       "44                                            #TWICE2\n",
       "45                                          Hare Hare\n",
       "46                                            #TWICE4\n",
       "47                                        THE REMIXES\n",
       "48                                        Dance Again\n",
       "49                                          I GOT YOU\n",
       "50                                   STUCK IN MY HEAD\n",
       "51                            I GOT YOU (Voyage ver.)\n",
       "52                                        With YOU-th\n",
       "53                                               DIVE\n",
       "54                                       What Is Love\n",
       "55                                    I WANT YOU BACK\n",
       "56                                           STRATEGY\n",
       "57                                           The wish\n",
       "58                                           PAGE TWO"
      ]
     },
     "execution_count": 29,
     "metadata": {},
     "output_type": "execute_result"
    }
   ],
   "source": [
    "# 6. Find all albums you've streamed by TWICE.\n",
    "query = \"\"\"\n",
    "        SELECT DISTINCT album\n",
    "        FROM streaming_history\n",
    "        WHERE artist = \"TWICE\";\n",
    "        \"\"\"\n",
    "\n",
    "stream_query(query)"
   ]
  },
  {
   "cell_type": "code",
   "execution_count": 30,
   "id": "01906f9d",
   "metadata": {},
   "outputs": [
    {
     "data": {
      "text/html": [
       "<div>\n",
       "<style scoped>\n",
       "    .dataframe tbody tr th:only-of-type {\n",
       "        vertical-align: middle;\n",
       "    }\n",
       "\n",
       "    .dataframe tbody tr th {\n",
       "        vertical-align: top;\n",
       "    }\n",
       "\n",
       "    .dataframe thead th {\n",
       "        text-align: right;\n",
       "    }\n",
       "</style>\n",
       "<table border=\"1\" class=\"dataframe\">\n",
       "  <thead>\n",
       "    <tr style=\"text-align: right;\">\n",
       "      <th></th>\n",
       "      <th>stream_id</th>\n",
       "      <th>time</th>\n",
       "      <th>platform</th>\n",
       "      <th>ms_played</th>\n",
       "      <th>song</th>\n",
       "      <th>artist</th>\n",
       "      <th>album</th>\n",
       "      <th>skipped</th>\n",
       "    </tr>\n",
       "  </thead>\n",
       "  <tbody>\n",
       "    <tr>\n",
       "      <th>0</th>\n",
       "      <td>3510</td>\n",
       "      <td>2023-01-04 08:11:20.000000</td>\n",
       "      <td>windows</td>\n",
       "      <td>194314</td>\n",
       "      <td>Pangarap Lang Kita</td>\n",
       "      <td>Parokya Ni Edgar</td>\n",
       "      <td>Middle-Aged Juvenile Novelty Pop Rockers</td>\n",
       "      <td>0</td>\n",
       "    </tr>\n",
       "    <tr>\n",
       "      <th>1</th>\n",
       "      <td>3511</td>\n",
       "      <td>2023-01-04 08:14:12.000000</td>\n",
       "      <td>windows</td>\n",
       "      <td>171464</td>\n",
       "      <td>Lifetime</td>\n",
       "      <td>Ben&amp;Ben</td>\n",
       "      <td>Lifetime</td>\n",
       "      <td>0</td>\n",
       "    </tr>\n",
       "    <tr>\n",
       "      <th>2</th>\n",
       "      <td>3512</td>\n",
       "      <td>2023-01-04 08:19:16.000000</td>\n",
       "      <td>windows</td>\n",
       "      <td>303853</td>\n",
       "      <td>Eroplanong Papel</td>\n",
       "      <td>December Avenue</td>\n",
       "      <td>December Avenue</td>\n",
       "      <td>0</td>\n",
       "    </tr>\n",
       "    <tr>\n",
       "      <th>3</th>\n",
       "      <td>3513</td>\n",
       "      <td>2023-01-04 08:22:10.000000</td>\n",
       "      <td>windows</td>\n",
       "      <td>173865</td>\n",
       "      <td>Born To Win</td>\n",
       "      <td>BINI</td>\n",
       "      <td>Born To Win</td>\n",
       "      <td>0</td>\n",
       "    </tr>\n",
       "    <tr>\n",
       "      <th>4</th>\n",
       "      <td>3514</td>\n",
       "      <td>2023-01-04 08:23:18.000000</td>\n",
       "      <td>windows</td>\n",
       "      <td>5823</td>\n",
       "      <td>DJ Bumbay</td>\n",
       "      <td>Michael v</td>\n",
       "      <td>The Bubble G Anthology</td>\n",
       "      <td>1</td>\n",
       "    </tr>\n",
       "    <tr>\n",
       "      <th>...</th>\n",
       "      <td>...</td>\n",
       "      <td>...</td>\n",
       "      <td>...</td>\n",
       "      <td>...</td>\n",
       "      <td>...</td>\n",
       "      <td>...</td>\n",
       "      <td>...</td>\n",
       "      <td>...</td>\n",
       "    </tr>\n",
       "    <tr>\n",
       "      <th>7797</th>\n",
       "      <td>11307</td>\n",
       "      <td>2023-12-30 21:26:19.000000</td>\n",
       "      <td>android</td>\n",
       "      <td>193246</td>\n",
       "      <td>Just Because</td>\n",
       "      <td>mrld</td>\n",
       "      <td>Just Because</td>\n",
       "      <td>0</td>\n",
       "    </tr>\n",
       "    <tr>\n",
       "      <th>7798</th>\n",
       "      <td>11308</td>\n",
       "      <td>2023-12-30 21:26:56.000000</td>\n",
       "      <td>android</td>\n",
       "      <td>36469</td>\n",
       "      <td>Fallen</td>\n",
       "      <td>Lola Amour</td>\n",
       "      <td>Fallen</td>\n",
       "      <td>1</td>\n",
       "    </tr>\n",
       "    <tr>\n",
       "      <th>7799</th>\n",
       "      <td>11309</td>\n",
       "      <td>2023-12-30 21:29:06.000000</td>\n",
       "      <td>android</td>\n",
       "      <td>130011</td>\n",
       "      <td>I Really Like You</td>\n",
       "      <td>reon</td>\n",
       "      <td>I Really Like You</td>\n",
       "      <td>0</td>\n",
       "    </tr>\n",
       "    <tr>\n",
       "      <th>7800</th>\n",
       "      <td>11310</td>\n",
       "      <td>2023-12-30 21:41:46.000000</td>\n",
       "      <td>android</td>\n",
       "      <td>157871</td>\n",
       "      <td>Just Because</td>\n",
       "      <td>mrld</td>\n",
       "      <td>Just Because</td>\n",
       "      <td>0</td>\n",
       "    </tr>\n",
       "    <tr>\n",
       "      <th>7801</th>\n",
       "      <td>11311</td>\n",
       "      <td>2023-12-30 21:55:34.000000</td>\n",
       "      <td>android</td>\n",
       "      <td>30160</td>\n",
       "      <td>I Really Like You</td>\n",
       "      <td>reon</td>\n",
       "      <td>I Really Like You</td>\n",
       "      <td>0</td>\n",
       "    </tr>\n",
       "  </tbody>\n",
       "</table>\n",
       "<p>7802 rows × 8 columns</p>\n",
       "</div>"
      ],
      "text/plain": [
       "      stream_id                        time platform  ms_played  \\\n",
       "0          3510  2023-01-04 08:11:20.000000  windows     194314   \n",
       "1          3511  2023-01-04 08:14:12.000000  windows     171464   \n",
       "2          3512  2023-01-04 08:19:16.000000  windows     303853   \n",
       "3          3513  2023-01-04 08:22:10.000000  windows     173865   \n",
       "4          3514  2023-01-04 08:23:18.000000  windows       5823   \n",
       "...         ...                         ...      ...        ...   \n",
       "7797      11307  2023-12-30 21:26:19.000000  android     193246   \n",
       "7798      11308  2023-12-30 21:26:56.000000  android      36469   \n",
       "7799      11309  2023-12-30 21:29:06.000000  android     130011   \n",
       "7800      11310  2023-12-30 21:41:46.000000  android     157871   \n",
       "7801      11311  2023-12-30 21:55:34.000000  android      30160   \n",
       "\n",
       "                    song            artist  \\\n",
       "0     Pangarap Lang Kita  Parokya Ni Edgar   \n",
       "1               Lifetime           Ben&Ben   \n",
       "2       Eroplanong Papel   December Avenue   \n",
       "3            Born To Win              BINI   \n",
       "4              DJ Bumbay         Michael v   \n",
       "...                  ...               ...   \n",
       "7797        Just Because              mrld   \n",
       "7798              Fallen        Lola Amour   \n",
       "7799   I Really Like You              reon   \n",
       "7800        Just Because              mrld   \n",
       "7801   I Really Like You              reon   \n",
       "\n",
       "                                         album  skipped  \n",
       "0     Middle-Aged Juvenile Novelty Pop Rockers        0  \n",
       "1                                     Lifetime        0  \n",
       "2                              December Avenue        0  \n",
       "3                                  Born To Win        0  \n",
       "4                       The Bubble G Anthology        1  \n",
       "...                                        ...      ...  \n",
       "7797                              Just Because        0  \n",
       "7798                                    Fallen        1  \n",
       "7799                         I Really Like You        0  \n",
       "7800                              Just Because        0  \n",
       "7801                         I Really Like You        0  \n",
       "\n",
       "[7802 rows x 8 columns]"
      ]
     },
     "execution_count": 30,
     "metadata": {},
     "output_type": "execute_result"
    }
   ],
   "source": [
    "# 7. List all streams that happened in 2023.\n",
    "query = \"\"\"\n",
    "        SELECT *\n",
    "        FROM streaming_history\n",
    "        WHERE time BETWEEN \"2023-01-01 00:00:00\" AND \"2023-12-31 23:59:59\";\n",
    "        \"\"\"\n",
    "\n",
    "stream_query(query)"
   ]
  },
  {
   "cell_type": "code",
   "execution_count": 31,
   "id": "bcd298f9",
   "metadata": {},
   "outputs": [
    {
     "data": {
      "text/html": [
       "<div>\n",
       "<style scoped>\n",
       "    .dataframe tbody tr th:only-of-type {\n",
       "        vertical-align: middle;\n",
       "    }\n",
       "\n",
       "    .dataframe tbody tr th {\n",
       "        vertical-align: top;\n",
       "    }\n",
       "\n",
       "    .dataframe thead th {\n",
       "        text-align: right;\n",
       "    }\n",
       "</style>\n",
       "<table border=\"1\" class=\"dataframe\">\n",
       "  <thead>\n",
       "    <tr style=\"text-align: right;\">\n",
       "      <th></th>\n",
       "      <th>song</th>\n",
       "    </tr>\n",
       "  </thead>\n",
       "  <tbody>\n",
       "    <tr>\n",
       "      <th>0</th>\n",
       "      <td>I should not have loved you</td>\n",
       "    </tr>\n",
       "    <tr>\n",
       "      <th>1</th>\n",
       "      <td>Missing You</td>\n",
       "    </tr>\n",
       "    <tr>\n",
       "      <th>2</th>\n",
       "      <td>My Love - Acoustic</td>\n",
       "    </tr>\n",
       "    <tr>\n",
       "      <th>3</th>\n",
       "      <td>잘 살아요</td>\n",
       "    </tr>\n",
       "    <tr>\n",
       "      <th>4</th>\n",
       "      <td>겁쟁이</td>\n",
       "    </tr>\n",
       "    <tr>\n",
       "      <th>...</th>\n",
       "      <td>...</td>\n",
       "    </tr>\n",
       "    <tr>\n",
       "      <th>20770</th>\n",
       "      <td>Isa lang</td>\n",
       "    </tr>\n",
       "    <tr>\n",
       "      <th>20771</th>\n",
       "      <td>TAKE ALL THE LOVE</td>\n",
       "    </tr>\n",
       "    <tr>\n",
       "      <th>20772</th>\n",
       "      <td>Nangangamba</td>\n",
       "    </tr>\n",
       "    <tr>\n",
       "      <th>20773</th>\n",
       "      <td>Misteryoso</td>\n",
       "    </tr>\n",
       "    <tr>\n",
       "      <th>20774</th>\n",
       "      <td>Sino</td>\n",
       "    </tr>\n",
       "  </tbody>\n",
       "</table>\n",
       "<p>20775 rows × 1 columns</p>\n",
       "</div>"
      ],
      "text/plain": [
       "                              song\n",
       "0      I should not have loved you\n",
       "1                      Missing You\n",
       "2               My Love - Acoustic\n",
       "3                            잘 살아요\n",
       "4                              겁쟁이\n",
       "...                            ...\n",
       "20770                     Isa lang\n",
       "20771            TAKE ALL THE LOVE\n",
       "20772                  Nangangamba\n",
       "20773                   Misteryoso\n",
       "20774                         Sino\n",
       "\n",
       "[20775 rows x 1 columns]"
      ]
     },
     "execution_count": 31,
     "metadata": {},
     "output_type": "execute_result"
    }
   ],
   "source": [
    "# 8. Show all songs streamed from mobile platform only.\n",
    "query = \"\"\"\n",
    "        SELECT song\n",
    "        FROM streaming_history\n",
    "        WHERE platform LIKE '%android%';\n",
    "        \"\"\"\n",
    "\n",
    "stream_query(query)"
   ]
  },
  {
   "cell_type": "code",
   "execution_count": 32,
   "id": "11ff5606",
   "metadata": {},
   "outputs": [
    {
     "data": {
      "text/html": [
       "<div>\n",
       "<style scoped>\n",
       "    .dataframe tbody tr th:only-of-type {\n",
       "        vertical-align: middle;\n",
       "    }\n",
       "\n",
       "    .dataframe tbody tr th {\n",
       "        vertical-align: top;\n",
       "    }\n",
       "\n",
       "    .dataframe thead th {\n",
       "        text-align: right;\n",
       "    }\n",
       "</style>\n",
       "<table border=\"1\" class=\"dataframe\">\n",
       "  <thead>\n",
       "    <tr style=\"text-align: right;\">\n",
       "      <th></th>\n",
       "      <th>total_songs</th>\n",
       "    </tr>\n",
       "  </thead>\n",
       "  <tbody>\n",
       "    <tr>\n",
       "      <th>0</th>\n",
       "      <td>3549</td>\n",
       "    </tr>\n",
       "  </tbody>\n",
       "</table>\n",
       "</div>"
      ],
      "text/plain": [
       "   total_songs\n",
       "0         3549"
      ]
     },
     "execution_count": 32,
     "metadata": {},
     "output_type": "execute_result"
    }
   ],
   "source": [
    "# 9. Count how many songs were streamed in total.\n",
    "query = \"\"\"\n",
    "        SELECT COUNT(DISTINCT song) AS total_songs\n",
    "        FROM streaming_history;\n",
    "        \"\"\"\n",
    "\n",
    "stream_query(query)"
   ]
  },
  {
   "cell_type": "code",
   "execution_count": 33,
   "id": "d1268baf",
   "metadata": {},
   "outputs": [
    {
     "data": {
      "text/html": [
       "<div>\n",
       "<style scoped>\n",
       "    .dataframe tbody tr th:only-of-type {\n",
       "        vertical-align: middle;\n",
       "    }\n",
       "\n",
       "    .dataframe tbody tr th {\n",
       "        vertical-align: top;\n",
       "    }\n",
       "\n",
       "    .dataframe thead th {\n",
       "        text-align: right;\n",
       "    }\n",
       "</style>\n",
       "<table border=\"1\" class=\"dataframe\">\n",
       "  <thead>\n",
       "    <tr style=\"text-align: right;\">\n",
       "      <th></th>\n",
       "      <th>year</th>\n",
       "      <th>total_streams</th>\n",
       "    </tr>\n",
       "  </thead>\n",
       "  <tbody>\n",
       "    <tr>\n",
       "      <th>0</th>\n",
       "      <td>2021</td>\n",
       "      <td>164</td>\n",
       "    </tr>\n",
       "    <tr>\n",
       "      <th>1</th>\n",
       "      <td>2022</td>\n",
       "      <td>3345</td>\n",
       "    </tr>\n",
       "    <tr>\n",
       "      <th>2</th>\n",
       "      <td>2023</td>\n",
       "      <td>7802</td>\n",
       "    </tr>\n",
       "    <tr>\n",
       "      <th>3</th>\n",
       "      <td>2024</td>\n",
       "      <td>13782</td>\n",
       "    </tr>\n",
       "    <tr>\n",
       "      <th>4</th>\n",
       "      <td>2025</td>\n",
       "      <td>8194</td>\n",
       "    </tr>\n",
       "  </tbody>\n",
       "</table>\n",
       "</div>"
      ],
      "text/plain": [
       "   year  total_streams\n",
       "0  2021            164\n",
       "1  2022           3345\n",
       "2  2023           7802\n",
       "3  2024          13782\n",
       "4  2025           8194"
      ]
     },
     "execution_count": 33,
     "metadata": {},
     "output_type": "execute_result"
    }
   ],
   "source": [
    "# 10. Find the number of songs streamed per year.\n",
    "query = \"\"\"\n",
    "        SELECT strftime('%Y', time) AS year, COUNT(*) AS total_streams\n",
    "        FROM streaming_history\n",
    "        GROUP BY year\n",
    "        ORDER BY year;\n",
    "        \"\"\"\n",
    "\n",
    "stream_query(query)"
   ]
  },
  {
   "cell_type": "code",
   "execution_count": 34,
   "id": "7202437c",
   "metadata": {},
   "outputs": [
    {
     "data": {
      "text/html": [
       "<div>\n",
       "<style scoped>\n",
       "    .dataframe tbody tr th:only-of-type {\n",
       "        vertical-align: middle;\n",
       "    }\n",
       "\n",
       "    .dataframe tbody tr th {\n",
       "        vertical-align: top;\n",
       "    }\n",
       "\n",
       "    .dataframe thead th {\n",
       "        text-align: right;\n",
       "    }\n",
       "</style>\n",
       "<table border=\"1\" class=\"dataframe\">\n",
       "  <thead>\n",
       "    <tr style=\"text-align: right;\">\n",
       "      <th></th>\n",
       "      <th>artist</th>\n",
       "      <th>streams</th>\n",
       "    </tr>\n",
       "  </thead>\n",
       "  <tbody>\n",
       "    <tr>\n",
       "      <th>0</th>\n",
       "      <td>(G)I-DLE</td>\n",
       "      <td>35</td>\n",
       "    </tr>\n",
       "    <tr>\n",
       "      <th>1</th>\n",
       "      <td>*NSYNC</td>\n",
       "      <td>29</td>\n",
       "    </tr>\n",
       "    <tr>\n",
       "      <th>2</th>\n",
       "      <td>10CM</td>\n",
       "      <td>2</td>\n",
       "    </tr>\n",
       "    <tr>\n",
       "      <th>3</th>\n",
       "      <td>12th Street</td>\n",
       "      <td>5</td>\n",
       "    </tr>\n",
       "    <tr>\n",
       "      <th>4</th>\n",
       "      <td>1:43</td>\n",
       "      <td>9</td>\n",
       "    </tr>\n",
       "    <tr>\n",
       "      <th>...</th>\n",
       "      <td>...</td>\n",
       "      <td>...</td>\n",
       "    </tr>\n",
       "    <tr>\n",
       "      <th>1239</th>\n",
       "      <td>에이 스타일</td>\n",
       "      <td>1</td>\n",
       "    </tr>\n",
       "    <tr>\n",
       "      <th>1240</th>\n",
       "      <td>일기예보</td>\n",
       "      <td>1</td>\n",
       "    </tr>\n",
       "    <tr>\n",
       "      <th>1241</th>\n",
       "      <td>조유진</td>\n",
       "      <td>2</td>\n",
       "    </tr>\n",
       "    <tr>\n",
       "      <th>1242</th>\n",
       "      <td>차태현 Cha TaeHyun</td>\n",
       "      <td>3</td>\n",
       "    </tr>\n",
       "    <tr>\n",
       "      <th>1243</th>\n",
       "      <td>플라워</td>\n",
       "      <td>3</td>\n",
       "    </tr>\n",
       "  </tbody>\n",
       "</table>\n",
       "<p>1244 rows × 2 columns</p>\n",
       "</div>"
      ],
      "text/plain": [
       "               artist  streams\n",
       "0            (G)I-DLE       35\n",
       "1              *NSYNC       29\n",
       "2                10CM        2\n",
       "3         12th Street        5\n",
       "4                1:43        9\n",
       "...               ...      ...\n",
       "1239           에이 스타일        1\n",
       "1240             일기예보        1\n",
       "1241              조유진        2\n",
       "1242  차태현 Cha TaeHyun        3\n",
       "1243              플라워        3\n",
       "\n",
       "[1244 rows x 2 columns]"
      ]
     },
     "execution_count": 34,
     "metadata": {},
     "output_type": "execute_result"
    }
   ],
   "source": [
    "# 11. Count how many songs you streamed per artist.\n",
    "query = \"\"\"\n",
    "        SELECT artist, COUNT(*) as streams\n",
    "        FROM streaming_history\n",
    "        GROUP BY artist;\n",
    "        \"\"\"\n",
    "\n",
    "stream_query(query)"
   ]
  },
  {
   "cell_type": "code",
   "execution_count": 35,
   "id": "8e901a00",
   "metadata": {},
   "outputs": [
    {
     "data": {
      "text/html": [
       "<div>\n",
       "<style scoped>\n",
       "    .dataframe tbody tr th:only-of-type {\n",
       "        vertical-align: middle;\n",
       "    }\n",
       "\n",
       "    .dataframe tbody tr th {\n",
       "        vertical-align: top;\n",
       "    }\n",
       "\n",
       "    .dataframe thead th {\n",
       "        text-align: right;\n",
       "    }\n",
       "</style>\n",
       "<table border=\"1\" class=\"dataframe\">\n",
       "  <thead>\n",
       "    <tr style=\"text-align: right;\">\n",
       "      <th></th>\n",
       "      <th>artist</th>\n",
       "      <th>streams</th>\n",
       "    </tr>\n",
       "  </thead>\n",
       "  <tbody>\n",
       "    <tr>\n",
       "      <th>0</th>\n",
       "      <td>Cup of Joe</td>\n",
       "      <td>1675</td>\n",
       "    </tr>\n",
       "  </tbody>\n",
       "</table>\n",
       "</div>"
      ],
      "text/plain": [
       "       artist  streams\n",
       "0  Cup of Joe     1675"
      ]
     },
     "execution_count": 35,
     "metadata": {},
     "output_type": "execute_result"
    }
   ],
   "source": [
    "# 12. Which artist has the most streams?\n",
    "query = \"\"\"\n",
    "        SELECT artist, COUNT(*) as streams\n",
    "        FROM streaming_history\n",
    "        GROUP BY artist\n",
    "        ORDER BY streams DESC\n",
    "        LIMIT 1;\n",
    "        \"\"\"\n",
    "\n",
    "stream_query(query)"
   ]
  },
  {
   "cell_type": "code",
   "execution_count": 36,
   "id": "0d149780",
   "metadata": {},
   "outputs": [
    {
     "data": {
      "text/html": [
       "<div>\n",
       "<style scoped>\n",
       "    .dataframe tbody tr th:only-of-type {\n",
       "        vertical-align: middle;\n",
       "    }\n",
       "\n",
       "    .dataframe tbody tr th {\n",
       "        vertical-align: top;\n",
       "    }\n",
       "\n",
       "    .dataframe thead th {\n",
       "        text-align: right;\n",
       "    }\n",
       "</style>\n",
       "<table border=\"1\" class=\"dataframe\">\n",
       "  <thead>\n",
       "    <tr style=\"text-align: right;\">\n",
       "      <th></th>\n",
       "      <th>album</th>\n",
       "      <th>skips</th>\n",
       "    </tr>\n",
       "  </thead>\n",
       "  <tbody>\n",
       "    <tr>\n",
       "      <th>0</th>\n",
       "      <td>Reflections on Moonlight &amp; Poetry</td>\n",
       "      <td>92</td>\n",
       "    </tr>\n",
       "  </tbody>\n",
       "</table>\n",
       "</div>"
      ],
      "text/plain": [
       "                               album  skips\n",
       "0  Reflections on Moonlight & Poetry     92"
      ]
     },
     "execution_count": 36,
     "metadata": {},
     "output_type": "execute_result"
    }
   ],
   "source": [
    "# 13. Which album was skipped the most?\n",
    "query = \"\"\"\n",
    "        SELECT album, COUNT(*) as skips\n",
    "        FROM streaming_history\n",
    "        WHERE skipped = 1\n",
    "        GROUP BY album\n",
    "        ORDER BY skips DESC\n",
    "        LIMIT 1;\n",
    "        \"\"\"\n",
    "\n",
    "stream_query(query)"
   ]
  },
  {
   "cell_type": "code",
   "execution_count": 37,
   "id": "719f28ba",
   "metadata": {},
   "outputs": [
    {
     "data": {
      "text/html": [
       "<div>\n",
       "<style scoped>\n",
       "    .dataframe tbody tr th:only-of-type {\n",
       "        vertical-align: middle;\n",
       "    }\n",
       "\n",
       "    .dataframe tbody tr th {\n",
       "        vertical-align: top;\n",
       "    }\n",
       "\n",
       "    .dataframe thead th {\n",
       "        text-align: right;\n",
       "    }\n",
       "</style>\n",
       "<table border=\"1\" class=\"dataframe\">\n",
       "  <thead>\n",
       "    <tr style=\"text-align: right;\">\n",
       "      <th></th>\n",
       "      <th>artist</th>\n",
       "      <th>album</th>\n",
       "    </tr>\n",
       "  </thead>\n",
       "  <tbody>\n",
       "    <tr>\n",
       "      <th>0</th>\n",
       "      <td>TWICE</td>\n",
       "      <td>Formula of Love: O+T=&lt;3</td>\n",
       "    </tr>\n",
       "    <tr>\n",
       "      <th>1</th>\n",
       "      <td>TWICE</td>\n",
       "      <td>Formula of Love: O+T=&lt;3</td>\n",
       "    </tr>\n",
       "    <tr>\n",
       "      <th>2</th>\n",
       "      <td>TWICE</td>\n",
       "      <td>Taste of Love</td>\n",
       "    </tr>\n",
       "    <tr>\n",
       "      <th>3</th>\n",
       "      <td>TWICE</td>\n",
       "      <td>Eyes Wide Open</td>\n",
       "    </tr>\n",
       "    <tr>\n",
       "      <th>4</th>\n",
       "      <td>TWICE</td>\n",
       "      <td>Summer Nights</td>\n",
       "    </tr>\n",
       "    <tr>\n",
       "      <th>...</th>\n",
       "      <td>...</td>\n",
       "      <td>...</td>\n",
       "    </tr>\n",
       "    <tr>\n",
       "      <th>33282</th>\n",
       "      <td>Charlie Puth</td>\n",
       "      <td>Nine Track Mind</td>\n",
       "    </tr>\n",
       "    <tr>\n",
       "      <th>33283</th>\n",
       "      <td>Bruno Mars</td>\n",
       "      <td>Unorthodox Jukebox</td>\n",
       "    </tr>\n",
       "    <tr>\n",
       "      <th>33284</th>\n",
       "      <td>Anne-Marie</td>\n",
       "      <td>Speak Your Mind</td>\n",
       "    </tr>\n",
       "    <tr>\n",
       "      <th>33285</th>\n",
       "      <td>Katy Perry</td>\n",
       "      <td>One Of The Boys</td>\n",
       "    </tr>\n",
       "    <tr>\n",
       "      <th>33286</th>\n",
       "      <td>Maroon 5</td>\n",
       "      <td>Songs About Jane: 10th Anniversary Edition</td>\n",
       "    </tr>\n",
       "  </tbody>\n",
       "</table>\n",
       "<p>33287 rows × 2 columns</p>\n",
       "</div>"
      ],
      "text/plain": [
       "             artist                                       album\n",
       "0             TWICE                     Formula of Love: O+T=<3\n",
       "1             TWICE                     Formula of Love: O+T=<3\n",
       "2             TWICE                               Taste of Love\n",
       "3             TWICE                              Eyes Wide Open\n",
       "4             TWICE                               Summer Nights\n",
       "...             ...                                         ...\n",
       "33282  Charlie Puth                             Nine Track Mind\n",
       "33283    Bruno Mars                          Unorthodox Jukebox\n",
       "33284    Anne-Marie                             Speak Your Mind\n",
       "33285    Katy Perry                             One Of The Boys\n",
       "33286      Maroon 5  Songs About Jane: 10th Anniversary Edition\n",
       "\n",
       "[33287 rows x 2 columns]"
      ]
     },
     "execution_count": 37,
     "metadata": {},
     "output_type": "execute_result"
    }
   ],
   "source": [
    "# 14. For each stream, show the artist name and album name.\n",
    "query = \"\"\"\n",
    "        SELECT artist, album\n",
    "        FROM streaming_history;\n",
    "        \"\"\"\n",
    "\n",
    "stream_query(query)"
   ]
  },
  {
   "cell_type": "code",
   "execution_count": 38,
   "id": "2e3c3e20",
   "metadata": {},
   "outputs": [
    {
     "data": {
      "text/html": [
       "<div>\n",
       "<style scoped>\n",
       "    .dataframe tbody tr th:only-of-type {\n",
       "        vertical-align: middle;\n",
       "    }\n",
       "\n",
       "    .dataframe tbody tr th {\n",
       "        vertical-align: top;\n",
       "    }\n",
       "\n",
       "    .dataframe thead th {\n",
       "        text-align: right;\n",
       "    }\n",
       "</style>\n",
       "<table border=\"1\" class=\"dataframe\">\n",
       "  <thead>\n",
       "    <tr style=\"text-align: right;\">\n",
       "      <th></th>\n",
       "      <th>album</th>\n",
       "      <th>artist</th>\n",
       "      <th>streams</th>\n",
       "    </tr>\n",
       "  </thead>\n",
       "  <tbody>\n",
       "    <tr>\n",
       "      <th>0</th>\n",
       "      <td>#3 Deluxe Version</td>\n",
       "      <td>The Script</td>\n",
       "      <td>5</td>\n",
       "    </tr>\n",
       "    <tr>\n",
       "      <th>1</th>\n",
       "      <td>#TWICE</td>\n",
       "      <td>TWICE</td>\n",
       "      <td>3</td>\n",
       "    </tr>\n",
       "    <tr>\n",
       "      <th>2</th>\n",
       "      <td>#TWICE2</td>\n",
       "      <td>TWICE</td>\n",
       "      <td>3</td>\n",
       "    </tr>\n",
       "    <tr>\n",
       "      <th>3</th>\n",
       "      <td>#TWICE3</td>\n",
       "      <td>TWICE</td>\n",
       "      <td>1</td>\n",
       "    </tr>\n",
       "    <tr>\n",
       "      <th>4</th>\n",
       "      <td>#TWICE4</td>\n",
       "      <td>TWICE</td>\n",
       "      <td>2</td>\n",
       "    </tr>\n",
       "    <tr>\n",
       "      <th>...</th>\n",
       "      <td>...</td>\n",
       "      <td>...</td>\n",
       "      <td>...</td>\n",
       "    </tr>\n",
       "    <tr>\n",
       "      <th>2627</th>\n",
       "      <td>인기가요 뮤직크러쉬 Pt. 1 - 내가 예뻐진 이유</td>\n",
       "      <td>Ben</td>\n",
       "      <td>6</td>\n",
       "    </tr>\n",
       "    <tr>\n",
       "      <th>2628</th>\n",
       "      <td>정인 Jung In from Andromeda</td>\n",
       "      <td>Jung In</td>\n",
       "      <td>1</td>\n",
       "    </tr>\n",
       "    <tr>\n",
       "      <th>2629</th>\n",
       "      <td>투유 프로젝트 - 슈가맨 Pt.11</td>\n",
       "      <td>JIHYO</td>\n",
       "      <td>14</td>\n",
       "    </tr>\n",
       "    <tr>\n",
       "      <th>2630</th>\n",
       "      <td>포지션 스페셜 I LOVE YOU</td>\n",
       "      <td>Position</td>\n",
       "      <td>1</td>\n",
       "    </tr>\n",
       "    <tr>\n",
       "      <th>2631</th>\n",
       "      <td>풀하우스 (Original Soundtrack)</td>\n",
       "      <td>LEE BORAM</td>\n",
       "      <td>5</td>\n",
       "    </tr>\n",
       "  </tbody>\n",
       "</table>\n",
       "<p>2632 rows × 3 columns</p>\n",
       "</div>"
      ],
      "text/plain": [
       "                             album      artist  streams\n",
       "0                #3 Deluxe Version  The Script        5\n",
       "1                           #TWICE       TWICE        3\n",
       "2                          #TWICE2       TWICE        3\n",
       "3                          #TWICE3       TWICE        1\n",
       "4                          #TWICE4       TWICE        2\n",
       "...                            ...         ...      ...\n",
       "2627  인기가요 뮤직크러쉬 Pt. 1 - 내가 예뻐진 이유         Ben        6\n",
       "2628     정인 Jung In from Andromeda     Jung In        1\n",
       "2629           투유 프로젝트 - 슈가맨 Pt.11       JIHYO       14\n",
       "2630            포지션 스페셜 I LOVE YOU    Position        1\n",
       "2631    풀하우스 (Original Soundtrack)   LEE BORAM        5\n",
       "\n",
       "[2632 rows x 3 columns]"
      ]
     },
     "execution_count": 38,
     "metadata": {},
     "output_type": "execute_result"
    }
   ],
   "source": [
    "# 15. Show the total number of streams per album, along with artist names.\n",
    "query = \"\"\"\n",
    "        SELECT album, artist, COUNT(*) AS streams\n",
    "        FROM streaming_history\n",
    "        GROUP BY album, artist;\n",
    "        \"\"\"\n",
    "\n",
    "stream_query(query)"
   ]
  },
  {
   "cell_type": "code",
   "execution_count": 39,
   "id": "f8157e5e",
   "metadata": {},
   "outputs": [
    {
     "data": {
      "text/html": [
       "<div>\n",
       "<style scoped>\n",
       "    .dataframe tbody tr th:only-of-type {\n",
       "        vertical-align: middle;\n",
       "    }\n",
       "\n",
       "    .dataframe tbody tr th {\n",
       "        vertical-align: top;\n",
       "    }\n",
       "\n",
       "    .dataframe thead th {\n",
       "        text-align: right;\n",
       "    }\n",
       "</style>\n",
       "<table border=\"1\" class=\"dataframe\">\n",
       "  <thead>\n",
       "    <tr style=\"text-align: right;\">\n",
       "      <th></th>\n",
       "      <th>artist</th>\n",
       "      <th>song</th>\n",
       "      <th>streams</th>\n",
       "    </tr>\n",
       "  </thead>\n",
       "  <tbody>\n",
       "    <tr>\n",
       "      <th>0</th>\n",
       "      <td>Cup of Joe</td>\n",
       "      <td>Estranghero</td>\n",
       "      <td>272</td>\n",
       "    </tr>\n",
       "    <tr>\n",
       "      <th>1</th>\n",
       "      <td>Cup of Joe</td>\n",
       "      <td>Tingin</td>\n",
       "      <td>196</td>\n",
       "    </tr>\n",
       "    <tr>\n",
       "      <th>2</th>\n",
       "      <td>Cup of Joe</td>\n",
       "      <td>Misteryoso</td>\n",
       "      <td>192</td>\n",
       "    </tr>\n",
       "    <tr>\n",
       "      <th>3</th>\n",
       "      <td>Up Dharma Down</td>\n",
       "      <td>Tadhana</td>\n",
       "      <td>191</td>\n",
       "    </tr>\n",
       "    <tr>\n",
       "      <th>4</th>\n",
       "      <td>Cup of Joe</td>\n",
       "      <td>Sinderela</td>\n",
       "      <td>176</td>\n",
       "    </tr>\n",
       "  </tbody>\n",
       "</table>\n",
       "</div>"
      ],
      "text/plain": [
       "           artist         song  streams\n",
       "0      Cup of Joe  Estranghero      272\n",
       "1      Cup of Joe       Tingin      196\n",
       "2      Cup of Joe   Misteryoso      192\n",
       "3  Up Dharma Down      Tadhana      191\n",
       "4      Cup of Joe    Sinderela      176"
      ]
     },
     "execution_count": 39,
     "metadata": {},
     "output_type": "execute_result"
    }
   ],
   "source": [
    "# 16. Get the top 5 most streamed songs, with their artist names.\n",
    "query = \"\"\"\n",
    "        SELECT artist, song, COUNT(*) as streams\n",
    "        FROM streaming_history\n",
    "        GROUP BY artist, song\n",
    "        ORDER BY streams DESC\n",
    "        LIMIT 5;\n",
    "        \"\"\"\n",
    "\n",
    "stream_query(query)"
   ]
  },
  {
   "cell_type": "code",
   "execution_count": 40,
   "id": "f103000b",
   "metadata": {},
   "outputs": [
    {
     "data": {
      "text/html": [
       "<div>\n",
       "<style scoped>\n",
       "    .dataframe tbody tr th:only-of-type {\n",
       "        vertical-align: middle;\n",
       "    }\n",
       "\n",
       "    .dataframe tbody tr th {\n",
       "        vertical-align: top;\n",
       "    }\n",
       "\n",
       "    .dataframe thead th {\n",
       "        text-align: right;\n",
       "    }\n",
       "</style>\n",
       "<table border=\"1\" class=\"dataframe\">\n",
       "  <thead>\n",
       "    <tr style=\"text-align: right;\">\n",
       "      <th></th>\n",
       "      <th>song</th>\n",
       "      <th>streams</th>\n",
       "    </tr>\n",
       "  </thead>\n",
       "  <tbody>\n",
       "    <tr>\n",
       "      <th>0</th>\n",
       "      <td>'Cause You Have To</td>\n",
       "      <td>11</td>\n",
       "    </tr>\n",
       "    <tr>\n",
       "      <th>1</th>\n",
       "      <td>10,000 Hours (with Justin Bieber)</td>\n",
       "      <td>18</td>\n",
       "    </tr>\n",
       "    <tr>\n",
       "      <th>2</th>\n",
       "      <td>12:51</td>\n",
       "      <td>28</td>\n",
       "    </tr>\n",
       "    <tr>\n",
       "      <th>3</th>\n",
       "      <td>13</td>\n",
       "      <td>29</td>\n",
       "    </tr>\n",
       "    <tr>\n",
       "      <th>4</th>\n",
       "      <td>18</td>\n",
       "      <td>28</td>\n",
       "    </tr>\n",
       "    <tr>\n",
       "      <th>...</th>\n",
       "      <td>...</td>\n",
       "      <td>...</td>\n",
       "    </tr>\n",
       "    <tr>\n",
       "      <th>669</th>\n",
       "      <td>남자를 몰라</td>\n",
       "      <td>21</td>\n",
       "    </tr>\n",
       "    <tr>\n",
       "      <th>670</th>\n",
       "      <td>남자를 몰라 - Live</td>\n",
       "      <td>29</td>\n",
       "    </tr>\n",
       "    <tr>\n",
       "      <th>671</th>\n",
       "      <td>당돌한 여자</td>\n",
       "      <td>14</td>\n",
       "    </tr>\n",
       "    <tr>\n",
       "      <th>672</th>\n",
       "      <td>비망록 (스물의 노래)</td>\n",
       "      <td>12</td>\n",
       "    </tr>\n",
       "    <tr>\n",
       "      <th>673</th>\n",
       "      <td>비밀은 없어</td>\n",
       "      <td>12</td>\n",
       "    </tr>\n",
       "  </tbody>\n",
       "</table>\n",
       "<p>674 rows × 2 columns</p>\n",
       "</div>"
      ],
      "text/plain": [
       "                                  song  streams\n",
       "0                   'Cause You Have To       11\n",
       "1    10,000 Hours (with Justin Bieber)       18\n",
       "2                                12:51       28\n",
       "3                                   13       29\n",
       "4                                   18       28\n",
       "..                                 ...      ...\n",
       "669                             남자를 몰라       21\n",
       "670                      남자를 몰라 - Live       29\n",
       "671                             당돌한 여자       14\n",
       "672                       비망록 (스물의 노래)       12\n",
       "673                             비밀은 없어       12\n",
       "\n",
       "[674 rows x 2 columns]"
      ]
     },
     "execution_count": 40,
     "metadata": {},
     "output_type": "execute_result"
    }
   ],
   "source": [
    "# 17. Show all songs streamed more than 10 times.\n",
    "query = \"\"\"\n",
    "        SELECT song, COUNT(*) as streams\n",
    "        FROM streaming_history\n",
    "        GROUP BY song\n",
    "        HAVING streams > 10;\n",
    "        \"\"\"\n",
    "\n",
    "stream_query(query)"
   ]
  },
  {
   "cell_type": "code",
   "execution_count": 41,
   "id": "c49a1332",
   "metadata": {},
   "outputs": [
    {
     "data": {
      "text/html": [
       "<div>\n",
       "<style scoped>\n",
       "    .dataframe tbody tr th:only-of-type {\n",
       "        vertical-align: middle;\n",
       "    }\n",
       "\n",
       "    .dataframe tbody tr th {\n",
       "        vertical-align: top;\n",
       "    }\n",
       "\n",
       "    .dataframe thead th {\n",
       "        text-align: right;\n",
       "    }\n",
       "</style>\n",
       "<table border=\"1\" class=\"dataframe\">\n",
       "  <thead>\n",
       "    <tr style=\"text-align: right;\">\n",
       "      <th></th>\n",
       "      <th>weekday</th>\n",
       "      <th>total_streams</th>\n",
       "    </tr>\n",
       "  </thead>\n",
       "  <tbody>\n",
       "    <tr>\n",
       "      <th>0</th>\n",
       "      <td>0</td>\n",
       "      <td>4369</td>\n",
       "    </tr>\n",
       "    <tr>\n",
       "      <th>1</th>\n",
       "      <td>1</td>\n",
       "      <td>4918</td>\n",
       "    </tr>\n",
       "    <tr>\n",
       "      <th>2</th>\n",
       "      <td>2</td>\n",
       "      <td>4716</td>\n",
       "    </tr>\n",
       "    <tr>\n",
       "      <th>3</th>\n",
       "      <td>3</td>\n",
       "      <td>4909</td>\n",
       "    </tr>\n",
       "    <tr>\n",
       "      <th>4</th>\n",
       "      <td>4</td>\n",
       "      <td>5212</td>\n",
       "    </tr>\n",
       "    <tr>\n",
       "      <th>5</th>\n",
       "      <td>5</td>\n",
       "      <td>5152</td>\n",
       "    </tr>\n",
       "    <tr>\n",
       "      <th>6</th>\n",
       "      <td>6</td>\n",
       "      <td>4011</td>\n",
       "    </tr>\n",
       "  </tbody>\n",
       "</table>\n",
       "</div>"
      ],
      "text/plain": [
       "  weekday  total_streams\n",
       "0       0           4369\n",
       "1       1           4918\n",
       "2       2           4716\n",
       "3       3           4909\n",
       "4       4           5212\n",
       "5       5           5152\n",
       "6       6           4011"
      ]
     },
     "execution_count": 41,
     "metadata": {},
     "output_type": "execute_result"
    }
   ],
   "source": [
    "# 18. Number of songs streamed per weekday.\n",
    "query = \"\"\"\n",
    "        SELECT strftime('%w', time) AS weekday, COUNT(*) AS total_streams\n",
    "        FROM streaming_history\n",
    "        GROUP BY weekday;\n",
    "        \"\"\"\n",
    "\n",
    "stream_query(query)"
   ]
  },
  {
   "cell_type": "code",
   "execution_count": 42,
   "id": "d697b408",
   "metadata": {},
   "outputs": [
    {
     "data": {
      "text/html": [
       "<div>\n",
       "<style scoped>\n",
       "    .dataframe tbody tr th:only-of-type {\n",
       "        vertical-align: middle;\n",
       "    }\n",
       "\n",
       "    .dataframe tbody tr th {\n",
       "        vertical-align: top;\n",
       "    }\n",
       "\n",
       "    .dataframe thead th {\n",
       "        text-align: right;\n",
       "    }\n",
       "</style>\n",
       "<table border=\"1\" class=\"dataframe\">\n",
       "  <thead>\n",
       "    <tr style=\"text-align: right;\">\n",
       "      <th></th>\n",
       "      <th>hour</th>\n",
       "      <th>total_streams</th>\n",
       "    </tr>\n",
       "  </thead>\n",
       "  <tbody>\n",
       "    <tr>\n",
       "      <th>0</th>\n",
       "      <td>00</td>\n",
       "      <td>162</td>\n",
       "    </tr>\n",
       "    <tr>\n",
       "      <th>1</th>\n",
       "      <td>01</td>\n",
       "      <td>38</td>\n",
       "    </tr>\n",
       "    <tr>\n",
       "      <th>2</th>\n",
       "      <td>02</td>\n",
       "      <td>9</td>\n",
       "    </tr>\n",
       "    <tr>\n",
       "      <th>3</th>\n",
       "      <td>03</td>\n",
       "      <td>5</td>\n",
       "    </tr>\n",
       "    <tr>\n",
       "      <th>4</th>\n",
       "      <td>04</td>\n",
       "      <td>15</td>\n",
       "    </tr>\n",
       "    <tr>\n",
       "      <th>5</th>\n",
       "      <td>05</td>\n",
       "      <td>251</td>\n",
       "    </tr>\n",
       "    <tr>\n",
       "      <th>6</th>\n",
       "      <td>06</td>\n",
       "      <td>1733</td>\n",
       "    </tr>\n",
       "    <tr>\n",
       "      <th>7</th>\n",
       "      <td>07</td>\n",
       "      <td>1967</td>\n",
       "    </tr>\n",
       "    <tr>\n",
       "      <th>8</th>\n",
       "      <td>08</td>\n",
       "      <td>1379</td>\n",
       "    </tr>\n",
       "    <tr>\n",
       "      <th>9</th>\n",
       "      <td>09</td>\n",
       "      <td>1943</td>\n",
       "    </tr>\n",
       "    <tr>\n",
       "      <th>10</th>\n",
       "      <td>10</td>\n",
       "      <td>2048</td>\n",
       "    </tr>\n",
       "    <tr>\n",
       "      <th>11</th>\n",
       "      <td>11</td>\n",
       "      <td>2433</td>\n",
       "    </tr>\n",
       "    <tr>\n",
       "      <th>12</th>\n",
       "      <td>12</td>\n",
       "      <td>2094</td>\n",
       "    </tr>\n",
       "    <tr>\n",
       "      <th>13</th>\n",
       "      <td>13</td>\n",
       "      <td>2485</td>\n",
       "    </tr>\n",
       "    <tr>\n",
       "      <th>14</th>\n",
       "      <td>14</td>\n",
       "      <td>2392</td>\n",
       "    </tr>\n",
       "    <tr>\n",
       "      <th>15</th>\n",
       "      <td>15</td>\n",
       "      <td>2568</td>\n",
       "    </tr>\n",
       "    <tr>\n",
       "      <th>16</th>\n",
       "      <td>16</td>\n",
       "      <td>2547</td>\n",
       "    </tr>\n",
       "    <tr>\n",
       "      <th>17</th>\n",
       "      <td>17</td>\n",
       "      <td>2387</td>\n",
       "    </tr>\n",
       "    <tr>\n",
       "      <th>18</th>\n",
       "      <td>18</td>\n",
       "      <td>1506</td>\n",
       "    </tr>\n",
       "    <tr>\n",
       "      <th>19</th>\n",
       "      <td>19</td>\n",
       "      <td>1710</td>\n",
       "    </tr>\n",
       "    <tr>\n",
       "      <th>20</th>\n",
       "      <td>20</td>\n",
       "      <td>1329</td>\n",
       "    </tr>\n",
       "    <tr>\n",
       "      <th>21</th>\n",
       "      <td>21</td>\n",
       "      <td>901</td>\n",
       "    </tr>\n",
       "    <tr>\n",
       "      <th>22</th>\n",
       "      <td>22</td>\n",
       "      <td>752</td>\n",
       "    </tr>\n",
       "    <tr>\n",
       "      <th>23</th>\n",
       "      <td>23</td>\n",
       "      <td>633</td>\n",
       "    </tr>\n",
       "  </tbody>\n",
       "</table>\n",
       "</div>"
      ],
      "text/plain": [
       "   hour  total_streams\n",
       "0    00            162\n",
       "1    01             38\n",
       "2    02              9\n",
       "3    03              5\n",
       "4    04             15\n",
       "5    05            251\n",
       "6    06           1733\n",
       "7    07           1967\n",
       "8    08           1379\n",
       "9    09           1943\n",
       "10   10           2048\n",
       "11   11           2433\n",
       "12   12           2094\n",
       "13   13           2485\n",
       "14   14           2392\n",
       "15   15           2568\n",
       "16   16           2547\n",
       "17   17           2387\n",
       "18   18           1506\n",
       "19   19           1710\n",
       "20   20           1329\n",
       "21   21            901\n",
       "22   22            752\n",
       "23   23            633"
      ]
     },
     "execution_count": 42,
     "metadata": {},
     "output_type": "execute_result"
    }
   ],
   "source": [
    "# 19. Peak hour of streaming activity.\n",
    "query = \"\"\"\n",
    "        SELECT strftime('%H', time) AS hour, COUNT(*) AS total_streams\n",
    "        FROM streaming_history\n",
    "        GROUP BY hour;\n",
    "        \"\"\"\n",
    "\n",
    "stream_query(query)"
   ]
  },
  {
   "cell_type": "code",
   "execution_count": 43,
   "id": "05ca7067",
   "metadata": {},
   "outputs": [
    {
     "data": {
      "text/html": [
       "<div>\n",
       "<style scoped>\n",
       "    .dataframe tbody tr th:only-of-type {\n",
       "        vertical-align: middle;\n",
       "    }\n",
       "\n",
       "    .dataframe tbody tr th {\n",
       "        vertical-align: top;\n",
       "    }\n",
       "\n",
       "    .dataframe thead th {\n",
       "        text-align: right;\n",
       "    }\n",
       "</style>\n",
       "<table border=\"1\" class=\"dataframe\">\n",
       "  <thead>\n",
       "    <tr style=\"text-align: right;\">\n",
       "      <th></th>\n",
       "      <th>date</th>\n",
       "      <th>total_streams</th>\n",
       "    </tr>\n",
       "  </thead>\n",
       "  <tbody>\n",
       "    <tr>\n",
       "      <th>0</th>\n",
       "      <td>2024-07-31</td>\n",
       "      <td>276</td>\n",
       "    </tr>\n",
       "  </tbody>\n",
       "</table>\n",
       "</div>"
      ],
      "text/plain": [
       "         date  total_streams\n",
       "0  2024-07-31            276"
      ]
     },
     "execution_count": 43,
     "metadata": {},
     "output_type": "execute_result"
    }
   ],
   "source": [
    "# 20. Most active streaming day of all time.\n",
    "query = \"\"\"\n",
    "        SELECT strftime('%Y-%m-%d', time) AS date, COUNT(*) as total_streams\n",
    "        FROM streaming_history\n",
    "        GROUP BY date\n",
    "        ORDER BY total_streams DESC\n",
    "        LIMIT 1;\n",
    "        \"\"\"\n",
    "\n",
    "stream_query(query)"
   ]
  },
  {
   "cell_type": "code",
   "execution_count": null,
   "id": "bf5639d0",
   "metadata": {},
   "outputs": [],
   "source": []
  }
 ],
 "metadata": {
  "kernelspec": {
   "display_name": ".venv",
   "language": "python",
   "name": "python3"
  },
  "language_info": {
   "codemirror_mode": {
    "name": "ipython",
    "version": 3
   },
   "file_extension": ".py",
   "mimetype": "text/x-python",
   "name": "python",
   "nbconvert_exporter": "python",
   "pygments_lexer": "ipython3",
   "version": "3.13.2"
  }
 },
 "nbformat": 4,
 "nbformat_minor": 5
}
